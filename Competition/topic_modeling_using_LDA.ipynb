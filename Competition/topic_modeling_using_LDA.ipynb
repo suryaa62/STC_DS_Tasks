{
 "metadata": {
  "language_info": {
   "codemirror_mode": {
    "name": "ipython",
    "version": 3
   },
   "file_extension": ".py",
   "mimetype": "text/x-python",
   "name": "python",
   "nbconvert_exporter": "python",
   "pygments_lexer": "ipython3",
   "version": "3.8.5"
  },
  "orig_nbformat": 2,
  "kernelspec": {
   "name": "python3",
   "display_name": "Python 3.8.5 32-bit",
   "metadata": {
    "interpreter": {
     "hash": "4e22e9d41ea459fec2dba7a5d98f2955f9f3d01f2eb3d8b4935b529b6074bc40"
    }
   }
  }
 },
 "nbformat": 4,
 "nbformat_minor": 2,
 "cells": [
  {
   "cell_type": "code",
   "execution_count": 1,
   "metadata": {},
   "outputs": [],
   "source": [
    "import re\n",
    "import pandas as pd"
   ]
  },
  {
   "cell_type": "code",
   "execution_count": 145,
   "metadata": {},
   "outputs": [],
   "source": [
    "def read_history(file):\n",
    "    f = open('{}'.format(file), 'r',encoding = 'utf8')\n",
    " \n",
    "    # Every text message has the same format: date - sender: message. \n",
    "   \n",
    "    messages = re.findall('(\\d+:\\d+\\d+ [A-Z]{0,2}|[a-z]{0,2}) - (.*?): (.*)', f.read())\n",
    "    f.close()\n",
    "\n",
    "    #Convert list to a dataframe and name the columns\n",
    "    history = pd.DataFrame(messages,columns=['time','name','msg'])\n",
    "    #history['time'] = pd.to_datetime(history['time'],format=\"%I:%M %p\")\n",
    "    #history['date1'] = history['date'].apply(lambda x: x.date())\n",
    "\n",
    "    # file is in the format 'WhatsApp Conversation with XXX.txt'\n",
    "    #history['conv_name'] = file[19:-4]\n",
    "\n",
    "    return history"
   ]
  },
  {
   "cell_type": "code",
   "execution_count": 3,
   "metadata": {},
   "outputs": [],
   "source": [
    "msg = read_history('test01.txt')"
   ]
  },
  {
   "cell_type": "code",
   "execution_count": 4,
   "metadata": {},
   "outputs": [
    {
     "output_type": "stream",
     "name": "stdout",
     "text": [
      "<class 'pandas.core.frame.DataFrame'>\nRangeIndex: 1641 entries, 0 to 1640\nData columns (total 4 columns):\n #   Column     Non-Null Count  Dtype         \n---  ------     --------------  -----         \n 0   time       1641 non-null   datetime64[ns]\n 1   name       1641 non-null   object        \n 2   msg        1641 non-null   object        \n 3   conv_name  1641 non-null   object        \ndtypes: datetime64[ns](1), object(3)\nmemory usage: 32.1+ KB\n"
     ]
    }
   ],
   "source": [
    "msg.info()"
   ]
  },
  {
   "cell_type": "code",
   "execution_count": 5,
   "metadata": {},
   "outputs": [],
   "source": [
    "only_msg = msg['msg'].copy()"
   ]
  },
  {
   "cell_type": "code",
   "execution_count": 6,
   "metadata": {},
   "outputs": [
    {
     "output_type": "execute_result",
     "data": {
      "text/plain": [
       "0       ⛔⛔⛔⛔⛔⛔⛔⛔⛔ *Welcome new recruits*  Few importan...\n",
       "1       *1st Year Core* https://chat.whatsapp.com/JYTE...\n",
       "2       *Join the informal group guys* https://chat.wh...\n",
       "3       https://www.linkedin.com/posts/micvitvellore_w...\n",
       "4       When taking up a new language, Loops and Recur...\n",
       "                              ...                        \n",
       "1636                                    <Media omitted>  \n",
       "1637                                    <Media omitted>  \n",
       "1638                                    <Media omitted>  \n",
       "1639                                    <Media omitted>  \n",
       "1640                                     <Media omitted> \n",
       "Name: msg, Length: 1641, dtype: object"
      ]
     },
     "metadata": {},
     "execution_count": 6
    }
   ],
   "source": [
    "only_msg"
   ]
  },
  {
   "cell_type": "code",
   "execution_count": 98,
   "metadata": {},
   "outputs": [],
   "source": [
    "def moto0(s):\n",
    "    print(1)\n",
    "    if('Media omitted' in s):\n",
    "        return 'del'\n",
    "    return s"
   ]
  },
  {
   "cell_type": "code",
   "execution_count": 8,
   "metadata": {},
   "outputs": [],
   "source": [
    "only_msg = only_msg.apply(moto0)"
   ]
  },
  {
   "cell_type": "code",
   "execution_count": 9,
   "metadata": {},
   "outputs": [],
   "source": [
    "only_msg = only_msg[only_msg != 'del'].copy()"
   ]
  },
  {
   "cell_type": "code",
   "execution_count": 10,
   "metadata": {},
   "outputs": [
    {
     "output_type": "execute_result",
     "data": {
      "text/plain": [
       "0       ⛔⛔⛔⛔⛔⛔⛔⛔⛔ *Welcome new recruits*  Few importan...\n",
       "1       *1st Year Core* https://chat.whatsapp.com/JYTE...\n",
       "2       *Join the informal group guys* https://chat.wh...\n",
       "3       https://www.linkedin.com/posts/micvitvellore_w...\n",
       "4       When taking up a new language, Loops and Recur...\n",
       "                              ...                        \n",
       "1620                           This message was deleted  \n",
       "1621    Hallo Freunde!  So I guess the time has come, ...\n",
       "1630    Hi Fam ✨  Thinking about leaving you all, remi...\n",
       "1631                           This message was deleted  \n",
       "1632                                               ❤️❤️  \n",
       "Name: msg, Length: 1515, dtype: object"
      ]
     },
     "metadata": {},
     "execution_count": 10
    }
   ],
   "source": [
    "only_msg"
   ]
  },
  {
   "cell_type": "code",
   "execution_count": 44,
   "metadata": {},
   "outputs": [],
   "source": []
  },
  {
   "cell_type": "code",
   "execution_count": 11,
   "metadata": {},
   "outputs": [
    {
     "output_type": "execute_result",
     "data": {
      "text/plain": [
       "0       ⛔⛔⛔⛔⛔⛔⛔⛔⛔ *Welcome new recruits*  Few importan...\n",
       "1       *1st Year Core* https://chat.whatsapp.com/JYTE...\n",
       "2       *Join the informal group guys* https://chat.wh...\n",
       "3       https://www.linkedin.com/posts/micvitvellore_w...\n",
       "4       When taking up a new language, Loops and Recur...\n",
       "                              ...                        \n",
       "1620                           This message was deleted  \n",
       "1621    Hallo Freunde!  So I guess the time has come, ...\n",
       "1630    Hi Fam ✨  Thinking about leaving you all, remi...\n",
       "1631                           This message was deleted  \n",
       "1632                                               ❤️❤️  \n",
       "Name: msg, Length: 1515, dtype: object"
      ]
     },
     "metadata": {},
     "execution_count": 11
    }
   ],
   "source": [
    "only_msg"
   ]
  },
  {
   "cell_type": "code",
   "execution_count": 12,
   "metadata": {},
   "outputs": [],
   "source": [
    "def msgdelto0(s):\n",
    "    if('This message was deleted' in s):\n",
    "        return 'del'\n",
    "    return s"
   ]
  },
  {
   "cell_type": "code",
   "execution_count": 13,
   "metadata": {},
   "outputs": [],
   "source": [
    "only_msg = only_msg.apply(msgdelto0)"
   ]
  },
  {
   "cell_type": "code",
   "execution_count": 14,
   "metadata": {},
   "outputs": [],
   "source": [
    "only_msg = only_msg = only_msg[only_msg != 'del'].copy()"
   ]
  },
  {
   "cell_type": "code",
   "execution_count": 15,
   "metadata": {},
   "outputs": [
    {
     "output_type": "execute_result",
     "data": {
      "text/plain": [
       "0       ⛔⛔⛔⛔⛔⛔⛔⛔⛔ *Welcome new recruits*  Few importan...\n",
       "1       *1st Year Core* https://chat.whatsapp.com/JYTE...\n",
       "2       *Join the informal group guys* https://chat.wh...\n",
       "3       https://www.linkedin.com/posts/micvitvellore_w...\n",
       "4       When taking up a new language, Loops and Recur...\n",
       "                              ...                        \n",
       "1604    Hello everyone  I hope you and your family are...\n",
       "1611    Congratulations to the new board🎉🥳  Good luck ...\n",
       "1621    Hallo Freunde!  So I guess the time has come, ...\n",
       "1630    Hi Fam ✨  Thinking about leaving you all, remi...\n",
       "1632                                               ❤️❤️  \n",
       "Name: msg, Length: 1458, dtype: object"
      ]
     },
     "metadata": {},
     "execution_count": 15
    }
   ],
   "source": [
    "only_msg"
   ]
  },
  {
   "cell_type": "code",
   "execution_count": 16,
   "metadata": {},
   "outputs": [],
   "source": [
    "import demoji\n",
    "#demoji.download_codes()"
   ]
  },
  {
   "cell_type": "code",
   "execution_count": 17,
   "metadata": {},
   "outputs": [],
   "source": [
    "demoji_msg = only_msg.apply(demoji.replace)"
   ]
  },
  {
   "cell_type": "code",
   "execution_count": 18,
   "metadata": {},
   "outputs": [
    {
     "output_type": "execute_result",
     "data": {
      "text/plain": [
       "0        *Welcome new recruits*  Few important points:...\n",
       "1       *1st Year Core* https://chat.whatsapp.com/JYTE...\n",
       "2       *Join the informal group guys* https://chat.wh...\n",
       "3       https://www.linkedin.com/posts/micvitvellore_w...\n",
       "4       When taking up a new language, Loops and Recur...\n",
       "                              ...                        \n",
       "1604    Hello everyone  I hope you and your family are...\n",
       "1611    Congratulations to the new board  Good luck fo...\n",
       "1621    Hallo Freunde!  So I guess the time has come, ...\n",
       "1630    Hi Fam   Thinking about leaving you all, remin...\n",
       "1632                                                     \n",
       "Name: msg, Length: 1458, dtype: object"
      ]
     },
     "metadata": {},
     "execution_count": 18
    }
   ],
   "source": [
    "demoji_msg"
   ]
  },
  {
   "cell_type": "code",
   "execution_count": 19,
   "metadata": {},
   "outputs": [],
   "source": [
    "def whitespaceto0(s):\n",
    "    if(s.isspace()):\n",
    "        return 'del'\n",
    "    return s"
   ]
  },
  {
   "cell_type": "code",
   "execution_count": 20,
   "metadata": {},
   "outputs": [],
   "source": [
    "demoji_msg = demoji_msg.apply(whitespaceto0)"
   ]
  },
  {
   "cell_type": "code",
   "execution_count": 21,
   "metadata": {},
   "outputs": [],
   "source": [
    "demoji_msg = demoji_msg[demoji_msg != 'del'].copy()"
   ]
  },
  {
   "cell_type": "code",
   "execution_count": 22,
   "metadata": {},
   "outputs": [
    {
     "output_type": "execute_result",
     "data": {
      "text/plain": [
       "0        *Welcome new recruits*  Few important points:...\n",
       "1       *1st Year Core* https://chat.whatsapp.com/JYTE...\n",
       "2       *Join the informal group guys* https://chat.wh...\n",
       "3       https://www.linkedin.com/posts/micvitvellore_w...\n",
       "4       When taking up a new language, Loops and Recur...\n",
       "                              ...                        \n",
       "1595    Hola guys, so this is it.I know it was a parti...\n",
       "1604    Hello everyone  I hope you and your family are...\n",
       "1611    Congratulations to the new board  Good luck fo...\n",
       "1621    Hallo Freunde!  So I guess the time has come, ...\n",
       "1630    Hi Fam   Thinking about leaving you all, remin...\n",
       "Name: msg, Length: 525, dtype: object"
      ]
     },
     "metadata": {},
     "execution_count": 22
    }
   ],
   "source": [
    "demoji_msg"
   ]
  },
  {
   "cell_type": "code",
   "execution_count": 23,
   "metadata": {},
   "outputs": [],
   "source": [
    "urlrx = r\"(https?:\\/\\/(?:www\\.|(?!www))[a-zA-Z0-9][a-zA-Z0-9-]+[a-zA-Z0-9]\\.[^\\s]{2,}|www\\.[a-zA-Z0-9][a-zA-Z0-9-]+[a-zA-Z0-9]\\.[^\\s]{2,}|https?:\\/\\/(?:www\\.|(?!www))[a-zA-Z0-9]+\\.[^\\s]{2,}|www\\.[a-zA-Z0-9]+\\.[^\\s]{2,})\"   \n",
    "\n",
    "def extract_link(s):\n",
    "    return re.findall(urlrx,s)\n"
   ]
  },
  {
   "cell_type": "code",
   "execution_count": 24,
   "metadata": {},
   "outputs": [],
   "source": [
    "links = demoji_msg.apply(extract_link)"
   ]
  },
  {
   "cell_type": "code",
   "execution_count": 25,
   "metadata": {},
   "outputs": [
    {
     "output_type": "execute_result",
     "data": {
      "text/plain": [
       "0                                                      []\n",
       "1       [https://chat.whatsapp.com/JYTEXanvcN29uS6USMU...\n",
       "2       [https://chat.whatsapp.com/CqdkWeQf7YeIAvBa1qy...\n",
       "3       [https://www.linkedin.com/posts/micvitvellore_...\n",
       "4                       [https://tinyurl.com/stcmedium14]\n",
       "                              ...                        \n",
       "1595                                                   []\n",
       "1604                                                   []\n",
       "1611                                                   []\n",
       "1621                                                   []\n",
       "1630                                                   []\n",
       "Name: msg, Length: 525, dtype: object"
      ]
     },
     "metadata": {},
     "execution_count": 25
    }
   ],
   "source": [
    "links"
   ]
  },
  {
   "cell_type": "code",
   "execution_count": 26,
   "metadata": {},
   "outputs": [
    {
     "output_type": "execute_result",
     "data": {
      "text/plain": [
       "['https://www.linkedin.com/posts/micvitvellore_when-taking-up-a-new-language-loops-and-activity-6746772642201649152-qbEF',\n",
       " 'https://www.facebook.com/2183736098608298/posts/2728155350833034/']"
      ]
     },
     "metadata": {},
     "execution_count": 26
    }
   ],
   "source": [
    "links[3]"
   ]
  },
  {
   "cell_type": "code",
   "execution_count": 27,
   "metadata": {},
   "outputs": [],
   "source": [
    "data = pd.concat([demoji_msg,links],axis=1,keys = ['msg','link'])"
   ]
  },
  {
   "cell_type": "code",
   "execution_count": 28,
   "metadata": {},
   "outputs": [
    {
     "output_type": "execute_result",
     "data": {
      "text/plain": [
       "                                                    msg  \\\n",
       "0      *Welcome new recruits*  Few important points:...   \n",
       "1     *1st Year Core* https://chat.whatsapp.com/JYTE...   \n",
       "2     *Join the informal group guys* https://chat.wh...   \n",
       "3     https://www.linkedin.com/posts/micvitvellore_w...   \n",
       "4     When taking up a new language, Loops and Recur...   \n",
       "...                                                 ...   \n",
       "1595  Hola guys, so this is it.I know it was a parti...   \n",
       "1604  Hello everyone  I hope you and your family are...   \n",
       "1611  Congratulations to the new board  Good luck fo...   \n",
       "1621  Hallo Freunde!  So I guess the time has come, ...   \n",
       "1630  Hi Fam   Thinking about leaving you all, remin...   \n",
       "\n",
       "                                                   link  \n",
       "0                                                    []  \n",
       "1     [https://chat.whatsapp.com/JYTEXanvcN29uS6USMU...  \n",
       "2     [https://chat.whatsapp.com/CqdkWeQf7YeIAvBa1qy...  \n",
       "3     [https://www.linkedin.com/posts/micvitvellore_...  \n",
       "4                     [https://tinyurl.com/stcmedium14]  \n",
       "...                                                 ...  \n",
       "1595                                                 []  \n",
       "1604                                                 []  \n",
       "1611                                                 []  \n",
       "1621                                                 []  \n",
       "1630                                                 []  \n",
       "\n",
       "[525 rows x 2 columns]"
      ],
      "text/html": "<div>\n<style scoped>\n    .dataframe tbody tr th:only-of-type {\n        vertical-align: middle;\n    }\n\n    .dataframe tbody tr th {\n        vertical-align: top;\n    }\n\n    .dataframe thead th {\n        text-align: right;\n    }\n</style>\n<table border=\"1\" class=\"dataframe\">\n  <thead>\n    <tr style=\"text-align: right;\">\n      <th></th>\n      <th>msg</th>\n      <th>link</th>\n    </tr>\n  </thead>\n  <tbody>\n    <tr>\n      <th>0</th>\n      <td>*Welcome new recruits*  Few important points:...</td>\n      <td>[]</td>\n    </tr>\n    <tr>\n      <th>1</th>\n      <td>*1st Year Core* https://chat.whatsapp.com/JYTE...</td>\n      <td>[https://chat.whatsapp.com/JYTEXanvcN29uS6USMU...</td>\n    </tr>\n    <tr>\n      <th>2</th>\n      <td>*Join the informal group guys* https://chat.wh...</td>\n      <td>[https://chat.whatsapp.com/CqdkWeQf7YeIAvBa1qy...</td>\n    </tr>\n    <tr>\n      <th>3</th>\n      <td>https://www.linkedin.com/posts/micvitvellore_w...</td>\n      <td>[https://www.linkedin.com/posts/micvitvellore_...</td>\n    </tr>\n    <tr>\n      <th>4</th>\n      <td>When taking up a new language, Loops and Recur...</td>\n      <td>[https://tinyurl.com/stcmedium14]</td>\n    </tr>\n    <tr>\n      <th>...</th>\n      <td>...</td>\n      <td>...</td>\n    </tr>\n    <tr>\n      <th>1595</th>\n      <td>Hola guys, so this is it.I know it was a parti...</td>\n      <td>[]</td>\n    </tr>\n    <tr>\n      <th>1604</th>\n      <td>Hello everyone  I hope you and your family are...</td>\n      <td>[]</td>\n    </tr>\n    <tr>\n      <th>1611</th>\n      <td>Congratulations to the new board  Good luck fo...</td>\n      <td>[]</td>\n    </tr>\n    <tr>\n      <th>1621</th>\n      <td>Hallo Freunde!  So I guess the time has come, ...</td>\n      <td>[]</td>\n    </tr>\n    <tr>\n      <th>1630</th>\n      <td>Hi Fam   Thinking about leaving you all, remin...</td>\n      <td>[]</td>\n    </tr>\n  </tbody>\n</table>\n<p>525 rows × 2 columns</p>\n</div>"
     },
     "metadata": {},
     "execution_count": 28
    }
   ],
   "source": [
    "data"
   ]
  },
  {
   "cell_type": "code",
   "execution_count": 29,
   "metadata": {},
   "outputs": [
    {
     "output_type": "execute_result",
     "data": {
      "text/plain": [
       "0        *Welcome new recruits*  Few important points:...\n",
       "1       *1st Year Core* https://chat.whatsapp.com/JYTE...\n",
       "2       *Join the informal group guys* https://chat.wh...\n",
       "3       https://www.linkedin.com/posts/micvitvellore_w...\n",
       "4       When taking up a new language, Loops and Recur...\n",
       "                              ...                        \n",
       "1595    Hola guys, so this is it.I know it was a parti...\n",
       "1604    Hello everyone  I hope you and your family are...\n",
       "1611    Congratulations to the new board  Good luck fo...\n",
       "1621    Hallo Freunde!  So I guess the time has come, ...\n",
       "1630    Hi Fam   Thinking about leaving you all, remin...\n",
       "Name: msg, Length: 525, dtype: object"
      ]
     },
     "metadata": {},
     "execution_count": 29
    }
   ],
   "source": [
    "data['msg']"
   ]
  },
  {
   "cell_type": "code",
   "execution_count": 30,
   "metadata": {},
   "outputs": [],
   "source": [
    "def linksto0(s):\n",
    "    return re.sub(urlrx,'',s)\n"
   ]
  },
  {
   "cell_type": "code",
   "execution_count": 31,
   "metadata": {},
   "outputs": [],
   "source": [
    "data['msg'] = data['msg'].apply(linksto0)"
   ]
  },
  {
   "cell_type": "code",
   "execution_count": 32,
   "metadata": {},
   "outputs": [],
   "source": [
    "def removeSymbols(s):\n",
    "    return re.sub(r\"[^a-zA-Z0-9]\", \" \", s)"
   ]
  },
  {
   "cell_type": "code",
   "execution_count": 33,
   "metadata": {},
   "outputs": [],
   "source": [
    "data['msg'] = data['msg'].apply(removeSymbols)"
   ]
  },
  {
   "cell_type": "code",
   "execution_count": 34,
   "metadata": {},
   "outputs": [
    {
     "output_type": "execute_result",
     "data": {
      "text/plain": [
       "0         Welcome new recruits   Few important points ...\n",
       "1                           1st Year Core     One STC    \n",
       "2                        Join the informal group guys    \n",
       "3                                                        \n",
       "4       When taking up a new language  Loops and Recur...\n",
       "                              ...                        \n",
       "1595    Hola guys  so this is it I know it was a parti...\n",
       "1604    Hello everyone  I hope you and your family are...\n",
       "1611    Congratulations to the new board  Good luck fo...\n",
       "1621    Hallo Freunde   So I guess the time has come  ...\n",
       "1630    Hi Fam   Thinking about leaving you all  remin...\n",
       "Name: msg, Length: 525, dtype: object"
      ]
     },
     "metadata": {},
     "execution_count": 34
    }
   ],
   "source": [
    "data['msg']"
   ]
  },
  {
   "cell_type": "code",
   "execution_count": 35,
   "metadata": {},
   "outputs": [],
   "source": [
    "data.to_csv('tocheck.csv')"
   ]
  },
  {
   "cell_type": "code",
   "execution_count": 36,
   "metadata": {},
   "outputs": [
    {
     "output_type": "stream",
     "name": "stderr",
     "text": [
      "[nltk_data] Downloading package stopwords to\n[nltk_data]     C:\\Users\\surya\\AppData\\Roaming\\nltk_data...\n[nltk_data]   Package stopwords is already up-to-date!\n"
     ]
    },
    {
     "output_type": "execute_result",
     "data": {
      "text/plain": [
       "True"
      ]
     },
     "metadata": {},
     "execution_count": 36
    }
   ],
   "source": [
    "import nltk\n",
    "nltk.download('stopwords')"
   ]
  },
  {
   "cell_type": "code",
   "execution_count": 37,
   "metadata": {},
   "outputs": [],
   "source": [
    "import gensim\n",
    "import gensim.corpora as corpora\n",
    "from gensim.utils import simple_preprocess\n",
    "from gensim.models import CoherenceModel"
   ]
  },
  {
   "cell_type": "code",
   "execution_count": 38,
   "metadata": {},
   "outputs": [],
   "source": [
    "from nltk.corpus import stopwords"
   ]
  },
  {
   "cell_type": "code",
   "execution_count": 39,
   "metadata": {},
   "outputs": [],
   "source": [
    "def low(s):\n",
    "    return s.lower()\n",
    "\n",
    "data['msg'] = data['msg'].apply(low)"
   ]
  },
  {
   "cell_type": "code",
   "execution_count": 40,
   "metadata": {},
   "outputs": [
    {
     "output_type": "execute_result",
     "data": {
      "text/plain": [
       "0         welcome new recruits   few important points ...\n",
       "1                           1st year core     one stc    \n",
       "2                        join the informal group guys    \n",
       "3                                                        \n",
       "4       when taking up a new language  loops and recur...\n",
       "                              ...                        \n",
       "1595    hola guys  so this is it i know it was a parti...\n",
       "1604    hello everyone  i hope you and your family are...\n",
       "1611    congratulations to the new board  good luck fo...\n",
       "1621    hallo freunde   so i guess the time has come  ...\n",
       "1630    hi fam   thinking about leaving you all  remin...\n",
       "Name: msg, Length: 525, dtype: object"
      ]
     },
     "metadata": {},
     "execution_count": 40
    }
   ],
   "source": [
    "data['msg']"
   ]
  },
  {
   "cell_type": "code",
   "execution_count": 41,
   "metadata": {},
   "outputs": [
    {
     "output_type": "stream",
     "name": "stdout",
     "text": [
      "['i', 'me', 'my', 'myself', 'we', 'our', 'ours', 'ourselves', 'you', \"you're\", \"you've\", \"you'll\", \"you'd\", 'your', 'yours', 'yourself', 'yourselves', 'he', 'him', 'his', 'himself', 'she', \"she's\", 'her', 'hers', 'herself', 'it', \"it's\", 'its', 'itself', 'they', 'them', 'their', 'theirs', 'themselves', 'what', 'which', 'who', 'whom', 'this', 'that', \"that'll\", 'these', 'those', 'am', 'is', 'are', 'was', 'were', 'be', 'been', 'being', 'have', 'has', 'had', 'having', 'do', 'does', 'did', 'doing', 'a', 'an', 'the', 'and', 'but', 'if', 'or', 'because', 'as', 'until', 'while', 'of', 'at', 'by', 'for', 'with', 'about', 'against', 'between', 'into', 'through', 'during', 'before', 'after', 'above', 'below', 'to', 'from', 'up', 'down', 'in', 'out', 'on', 'off', 'over', 'under', 'again', 'further', 'then', 'once', 'here', 'there', 'when', 'where', 'why', 'how', 'all', 'any', 'both', 'each', 'few', 'more', 'most', 'other', 'some', 'such', 'no', 'nor', 'not', 'only', 'own', 'same', 'so', 'than', 'too', 'very', 's', 't', 'can', 'will', 'just', 'don', \"don't\", 'should', \"should've\", 'now', 'd', 'll', 'm', 'o', 're', 've', 'y', 'ain', 'aren', \"aren't\", 'couldn', \"couldn't\", 'didn', \"didn't\", 'doesn', \"doesn't\", 'hadn', \"hadn't\", 'hasn', \"hasn't\", 'haven', \"haven't\", 'isn', \"isn't\", 'ma', 'mightn', \"mightn't\", 'mustn', \"mustn't\", 'needn', \"needn't\", 'shan', \"shan't\", 'shouldn', \"shouldn't\", 'wasn', \"wasn't\", 'weren', \"weren't\", 'won', \"won't\", 'wouldn', \"wouldn't\"]\n"
     ]
    }
   ],
   "source": [
    "print(stopwords.words('english'))"
   ]
  },
  {
   "cell_type": "code",
   "execution_count": 42,
   "metadata": {},
   "outputs": [],
   "source": [
    "def removeno(s):\n",
    "    return re.sub(r'[0-9]',\" \",s)\n",
    "\n",
    "data['msg'] = data['msg'].apply(removeno)"
   ]
  },
  {
   "cell_type": "code",
   "execution_count": 43,
   "metadata": {},
   "outputs": [
    {
     "output_type": "execute_result",
     "data": {
      "text/plain": [
       "0         welcome new recruits   few important points ...\n",
       "1                            st year core     one stc    \n",
       "2                        join the informal group guys    \n",
       "3                                                        \n",
       "4       when taking up a new language  loops and recur...\n",
       "                              ...                        \n",
       "1595    hola guys  so this is it i know it was a parti...\n",
       "1604    hello everyone  i hope you and your family are...\n",
       "1611    congratulations to the new board  good luck fo...\n",
       "1621    hallo freunde   so i guess the time has come  ...\n",
       "1630    hi fam   thinking about leaving you all  remin...\n",
       "Name: msg, Length: 525, dtype: object"
      ]
     },
     "metadata": {},
     "execution_count": 43
    }
   ],
   "source": [
    "data['msg']"
   ]
  },
  {
   "cell_type": "code",
   "execution_count": 44,
   "metadata": {},
   "outputs": [],
   "source": [
    "from nltk.tokenize import word_tokenize"
   ]
  },
  {
   "cell_type": "code",
   "execution_count": 45,
   "metadata": {},
   "outputs": [
    {
     "output_type": "stream",
     "name": "stderr",
     "text": [
      "[nltk_data] Downloading package words to\n[nltk_data]     C:\\Users\\surya\\AppData\\Roaming\\nltk_data...\n[nltk_data]   Package words is already up-to-date!\n[nltk_data] Downloading package punkt to\n[nltk_data]     C:\\Users\\surya\\AppData\\Roaming\\nltk_data...\n[nltk_data]   Package punkt is already up-to-date!\n[nltk_data] Downloading package averaged_perceptron_tagger to\n[nltk_data]     C:\\Users\\surya\\AppData\\Roaming\\nltk_data...\n[nltk_data]   Package averaged_perceptron_tagger is already up-to-\n[nltk_data]       date!\n[nltk_data] Downloading package maxent_ne_chunker to\n[nltk_data]     C:\\Users\\surya\\AppData\\Roaming\\nltk_data...\n[nltk_data]   Package maxent_ne_chunker is already up-to-date!\n"
     ]
    },
    {
     "output_type": "execute_result",
     "data": {
      "text/plain": [
       "True"
      ]
     },
     "metadata": {},
     "execution_count": 45
    }
   ],
   "source": [
    "nltk.download('words')\n",
    "nltk.download('punkt')\n",
    "nltk.download('averaged_perceptron_tagger')\n",
    "nltk.download('maxent_ne_chunker')"
   ]
  },
  {
   "cell_type": "code",
   "execution_count": 46,
   "metadata": {},
   "outputs": [],
   "source": [
    "data['msg_token'] = data['msg'].apply(word_tokenize)"
   ]
  },
  {
   "cell_type": "code",
   "execution_count": 47,
   "metadata": {},
   "outputs": [
    {
     "output_type": "execute_result",
     "data": {
      "text/plain": [
       "                                                    msg  \\\n",
       "0       welcome new recruits   few important points ...   \n",
       "1                          st year core     one stc       \n",
       "2                      join the informal group guys       \n",
       "3                                                         \n",
       "4     when taking up a new language  loops and recur...   \n",
       "...                                                 ...   \n",
       "1595  hola guys  so this is it i know it was a parti...   \n",
       "1604  hello everyone  i hope you and your family are...   \n",
       "1611  congratulations to the new board  good luck fo...   \n",
       "1621  hallo freunde   so i guess the time has come  ...   \n",
       "1630  hi fam   thinking about leaving you all  remin...   \n",
       "\n",
       "                                                   link  \\\n",
       "0                                                    []   \n",
       "1     [https://chat.whatsapp.com/JYTEXanvcN29uS6USMU...   \n",
       "2     [https://chat.whatsapp.com/CqdkWeQf7YeIAvBa1qy...   \n",
       "3     [https://www.linkedin.com/posts/micvitvellore_...   \n",
       "4                     [https://tinyurl.com/stcmedium14]   \n",
       "...                                                 ...   \n",
       "1595                                                 []   \n",
       "1604                                                 []   \n",
       "1611                                                 []   \n",
       "1621                                                 []   \n",
       "1630                                                 []   \n",
       "\n",
       "                                              msg_token  \n",
       "0     [welcome, new, recruits, few, important, point...  \n",
       "1                            [st, year, core, one, stc]  \n",
       "2                    [join, the, informal, group, guys]  \n",
       "3                                                    []  \n",
       "4     [when, taking, up, a, new, language, loops, an...  \n",
       "...                                                 ...  \n",
       "1595  [hola, guys, so, this, is, it, i, know, it, wa...  \n",
       "1604  [hello, everyone, i, hope, you, and, your, fam...  \n",
       "1611  [congratulations, to, the, new, board, good, l...  \n",
       "1621  [hallo, freunde, so, i, guess, the, time, has,...  \n",
       "1630  [hi, fam, thinking, about, leaving, you, all, ...  \n",
       "\n",
       "[525 rows x 3 columns]"
      ],
      "text/html": "<div>\n<style scoped>\n    .dataframe tbody tr th:only-of-type {\n        vertical-align: middle;\n    }\n\n    .dataframe tbody tr th {\n        vertical-align: top;\n    }\n\n    .dataframe thead th {\n        text-align: right;\n    }\n</style>\n<table border=\"1\" class=\"dataframe\">\n  <thead>\n    <tr style=\"text-align: right;\">\n      <th></th>\n      <th>msg</th>\n      <th>link</th>\n      <th>msg_token</th>\n    </tr>\n  </thead>\n  <tbody>\n    <tr>\n      <th>0</th>\n      <td>welcome new recruits   few important points ...</td>\n      <td>[]</td>\n      <td>[welcome, new, recruits, few, important, point...</td>\n    </tr>\n    <tr>\n      <th>1</th>\n      <td>st year core     one stc</td>\n      <td>[https://chat.whatsapp.com/JYTEXanvcN29uS6USMU...</td>\n      <td>[st, year, core, one, stc]</td>\n    </tr>\n    <tr>\n      <th>2</th>\n      <td>join the informal group guys</td>\n      <td>[https://chat.whatsapp.com/CqdkWeQf7YeIAvBa1qy...</td>\n      <td>[join, the, informal, group, guys]</td>\n    </tr>\n    <tr>\n      <th>3</th>\n      <td></td>\n      <td>[https://www.linkedin.com/posts/micvitvellore_...</td>\n      <td>[]</td>\n    </tr>\n    <tr>\n      <th>4</th>\n      <td>when taking up a new language  loops and recur...</td>\n      <td>[https://tinyurl.com/stcmedium14]</td>\n      <td>[when, taking, up, a, new, language, loops, an...</td>\n    </tr>\n    <tr>\n      <th>...</th>\n      <td>...</td>\n      <td>...</td>\n      <td>...</td>\n    </tr>\n    <tr>\n      <th>1595</th>\n      <td>hola guys  so this is it i know it was a parti...</td>\n      <td>[]</td>\n      <td>[hola, guys, so, this, is, it, i, know, it, wa...</td>\n    </tr>\n    <tr>\n      <th>1604</th>\n      <td>hello everyone  i hope you and your family are...</td>\n      <td>[]</td>\n      <td>[hello, everyone, i, hope, you, and, your, fam...</td>\n    </tr>\n    <tr>\n      <th>1611</th>\n      <td>congratulations to the new board  good luck fo...</td>\n      <td>[]</td>\n      <td>[congratulations, to, the, new, board, good, l...</td>\n    </tr>\n    <tr>\n      <th>1621</th>\n      <td>hallo freunde   so i guess the time has come  ...</td>\n      <td>[]</td>\n      <td>[hallo, freunde, so, i, guess, the, time, has,...</td>\n    </tr>\n    <tr>\n      <th>1630</th>\n      <td>hi fam   thinking about leaving you all  remin...</td>\n      <td>[]</td>\n      <td>[hi, fam, thinking, about, leaving, you, all, ...</td>\n    </tr>\n  </tbody>\n</table>\n<p>525 rows × 3 columns</p>\n</div>"
     },
     "metadata": {},
     "execution_count": 47
    }
   ],
   "source": [
    "data"
   ]
  },
  {
   "cell_type": "code",
   "execution_count": 50,
   "metadata": {},
   "outputs": [
    {
     "output_type": "stream",
     "name": "stderr",
     "text": [
      "[nltk_data] Downloading package wordnet to\n",
      "[nltk_data]     C:\\Users\\surya\\AppData\\Roaming\\nltk_data...\n",
      "[nltk_data]   Unzipping corpora\\wordnet.zip.\n"
     ]
    },
    {
     "output_type": "execute_result",
     "data": {
      "text/plain": [
       "True"
      ]
     },
     "metadata": {},
     "execution_count": 50
    }
   ],
   "source": [
    "#nltk.download('wordnet')"
   ]
  },
  {
   "cell_type": "code",
   "execution_count": 66,
   "metadata": {},
   "outputs": [],
   "source": [
    "from nltk.stem.wordnet import WordNetLemmatizer\n",
    "\n",
    "lemma = WordNetLemmatizer()\n",
    "\n",
    "def applylema(s):\n",
    "    words = []\n",
    "    for word in s:\n",
    "        words.append(lemma.lemmatize(word,pos='v'))\n",
    "    return words\n",
    "\n",
    "data['msg_lemma'] = data['msg_token'].apply(applylema)"
   ]
  },
  {
   "cell_type": "code",
   "execution_count": 67,
   "metadata": {},
   "outputs": [
    {
     "output_type": "execute_result",
     "data": {
      "text/plain": [
       "0       [welcome, new, recruit, few, important, point,...\n",
       "1                              [st, year, core, one, stc]\n",
       "2                       [join, the, informal, group, guy]\n",
       "3                                                      []\n",
       "4       [when, take, up, a, new, language, loop, and, ...\n",
       "                              ...                        \n",
       "1595    [hola, guy, so, this, be, it, i, know, it, be,...\n",
       "1604    [hello, everyone, i, hope, you, and, your, fam...\n",
       "1611    [congratulations, to, the, new, board, good, l...\n",
       "1621    [hallo, freunde, so, i, guess, the, time, have...\n",
       "1630    [hi, fam, think, about, leave, you, all, remin...\n",
       "Name: msg_lemma, Length: 525, dtype: object"
      ]
     },
     "metadata": {},
     "execution_count": 67
    }
   ],
   "source": [
    "data['msg_lemma']"
   ]
  },
  {
   "cell_type": "code",
   "execution_count": 68,
   "metadata": {},
   "outputs": [],
   "source": [
    "stopword_ls = stopwords.words('english')\n",
    "def nostopword(s):\n",
    "    words = []\n",
    "    for word in s:\n",
    "        if word not in stopword_ls:\n",
    "            words.append(word)\n",
    "    return words\n",
    "\n",
    "data['msg_fin'] = data['msg_lemma'].apply(nostopword)"
   ]
  },
  {
   "cell_type": "code",
   "execution_count": 69,
   "metadata": {},
   "outputs": [
    {
     "output_type": "execute_result",
     "data": {
      "text/plain": [
       "0       [welcome, new, recruit, important, point, guy,...\n",
       "1                              [st, year, core, one, stc]\n",
       "2                            [join, informal, group, guy]\n",
       "3                                                      []\n",
       "4       [take, new, language, loop, recursion, basics,...\n",
       "                              ...                        \n",
       "1595    [hola, guy, know, particularly, peculiar, expe...\n",
       "1604    [hello, everyone, hope, family, safe, time, fi...\n",
       "1611    [congratulations, new, board, good, luck, upco...\n",
       "1621    [hallo, freunde, guess, time, come, would, lik...\n",
       "1630    [hi, fam, think, leave, remind, day, recruit, ...\n",
       "Name: msg_fin, Length: 525, dtype: object"
      ]
     },
     "metadata": {},
     "execution_count": 69
    }
   ],
   "source": [
    "data['msg_fin']"
   ]
  },
  {
   "cell_type": "code",
   "execution_count": 70,
   "metadata": {},
   "outputs": [],
   "source": [
    "from gensim import corpora"
   ]
  },
  {
   "cell_type": "code",
   "execution_count": 71,
   "metadata": {},
   "outputs": [],
   "source": [
    "dictionary = corpora.Dictionary(data['msg_fin'])\n",
    "corpus = [dictionary.doc2bow(text) for text in data['msg_fin']]"
   ]
  },
  {
   "cell_type": "code",
   "execution_count": 73,
   "metadata": {},
   "outputs": [],
   "source": [
    "from gensim.models.ldamodel import LdaModel"
   ]
  },
  {
   "cell_type": "code",
   "execution_count": 76,
   "metadata": {},
   "outputs": [
    {
     "output_type": "stream",
     "name": "stdout",
     "text": [
      "(0, '0.043*\"guy\" + 0.030*\"session\" + 0.013*\"learn\" + 0.012*\"congrats\" + 0.010*\"core\" + 0.010*\"pm\" + 0.009*\"also\" + 0.009*\"stc\" + 0.009*\"great\" + 0.009*\"keep\"')\n(1, '0.079*\"congratulations\" + 0.011*\"hai\" + 0.011*\"pm\" + 0.010*\"mein\" + 0.008*\"bhai\" + 0.008*\"thank\" + 0.008*\"start\" + 0.008*\"form\" + 0.007*\"link\" + 0.007*\"us\"')\n(2, '0.038*\"new\" + 0.035*\"share\" + 0.032*\"year\" + 0.030*\"happy\" + 0.016*\"acknowledge\" + 0.014*\"stories\" + 0.014*\"join\" + 0.013*\"everyone\" + 0.013*\"article\" + 0.012*\"instagram\"')\n(3, '0.021*\"us\" + 0.015*\"board\" + 0.015*\"game\" + 0.014*\"group\" + 0.014*\"new\" + 0.013*\"codm\" + 0.013*\"humanity\" + 0.013*\"card\" + 0.013*\"valorant\" + 0.012*\"skribble\"')\n(4, '0.017*\"stc\" + 0.011*\"make\" + 0.009*\"one\" + 0.009*\"amaze\" + 0.008*\"say\" + 0.008*\"board\" + 0.007*\"know\" + 0.007*\"send\" + 0.007*\"like\" + 0.007*\"take\"')\n"
     ]
    }
   ],
   "source": [
    "model = LdaModel(corpus,num_topics = 5,id2word = dictionary,passes=15)\n",
    "\n",
    "topics = model.print_topics(num_words=10)\n",
    "for topic in topics:\n",
    "    print(topic)"
   ]
  },
  {
   "cell_type": "code",
   "execution_count": 84,
   "metadata": {},
   "outputs": [
    {
     "output_type": "execute_result",
     "data": {
      "text/plain": [
       "[(0, 0.9922858)]"
      ]
     },
     "metadata": {},
     "execution_count": 84
    }
   ],
   "source": [
    "model[corpus[6]]"
   ]
  },
  {
   "cell_type": "code",
   "execution_count": 86,
   "metadata": {},
   "outputs": [
    {
     "output_type": "execute_result",
     "data": {
      "text/plain": [
       "['hi',\n",
       " 'freshers',\n",
       " 'one',\n",
       " 'things',\n",
       " 'make',\n",
       " 'stc',\n",
       " 'great',\n",
       " 'put',\n",
       " 'c',\n",
       " 'stc',\n",
       " 'emphasis',\n",
       " 'put',\n",
       " 'make',\n",
       " 'sure',\n",
       " 'stc',\n",
       " 'community',\n",
       " 'everyone',\n",
       " 'get',\n",
       " 'learn',\n",
       " 'become',\n",
       " 'best',\n",
       " 'versions',\n",
       " 'make',\n",
       " 'sure',\n",
       " 'continuously',\n",
       " 'learn',\n",
       " 'grow',\n",
       " 'senior',\n",
       " 'core',\n",
       " 'board',\n",
       " 'decide',\n",
       " 'keep',\n",
       " 'domain',\n",
       " 'introduction',\n",
       " 'session',\n",
       " 'seniors',\n",
       " 'give',\n",
       " 'deep',\n",
       " 'dive',\n",
       " 'different',\n",
       " 'domains',\n",
       " 'present',\n",
       " 'tech',\n",
       " 'management',\n",
       " 'design',\n",
       " 'board',\n",
       " 'take',\n",
       " 'session',\n",
       " 'last',\n",
       " 'year',\n",
       " 'us',\n",
       " 'seniors',\n",
       " 'really',\n",
       " 'help',\n",
       " 'us',\n",
       " 'lot',\n",
       " 'big',\n",
       " 'part',\n",
       " 'today',\n",
       " 'shape',\n",
       " 'session',\n",
       " 'trust',\n",
       " 'session',\n",
       " 'similar',\n",
       " 'impact',\n",
       " 'cover',\n",
       " 'subdomains',\n",
       " 'work',\n",
       " 'time',\n",
       " 'follow',\n",
       " 'saturday',\n",
       " 'pm',\n",
       " 'management',\n",
       " 'design',\n",
       " 'sunday',\n",
       " 'pm',\n",
       " 'tech',\n",
       " 'note',\n",
       " 'every',\n",
       " 'core',\n",
       " 'member',\n",
       " 'atleast',\n",
       " 'attend',\n",
       " 'session',\n",
       " 'domains',\n",
       " 'recruit',\n",
       " 'wish',\n",
       " 'attend',\n",
       " 'domains',\n",
       " 'session',\n",
       " 'well',\n",
       " 'basic',\n",
       " 'knowledge',\n",
       " 'every',\n",
       " 'part',\n",
       " 'chapter',\n",
       " 'function',\n",
       " 'important',\n",
       " 'great',\n",
       " 'opportunity',\n",
       " 'learn',\n",
       " 'acknowledge',\n",
       " 'use',\n",
       " 'read']"
      ]
     },
     "metadata": {},
     "execution_count": 86
    }
   ],
   "source": [
    "data['msg_fin'].iloc[6]"
   ]
  },
  {
   "cell_type": "code",
   "execution_count": 131,
   "metadata": {},
   "outputs": [],
   "source": [
    "class transformdata:\n",
    "\n",
    "\n",
    "    def __init__(self,data):\n",
    "        self.urlreg = r\"(https?:\\/\\/(?:www\\.|(?!www))[a-zA-Z0-9][a-zA-Z0-9-]+[a-zA-Z0-9]\\.[^\\s]{2,}|www\\.[a-zA-Z0-9][a-zA-Z0-9-]+[a-zA-Z0-9]\\.[^\\s]{2,}|https?:\\/\\/(?:www\\.|(?!www))[a-zA-Z0-9]+\\.[^\\s]{2,}|www\\.[a-zA-Z0-9]+\\.[^\\s]{2,})\"\n",
    "        self.stopwords_list = stopwords.words('english')\n",
    "        self.lemmat = WordNetLemmatizer()\n",
    "        self.data = data\n",
    "        self.transform()\n",
    "\n",
    "    def transform(self):\n",
    "        self.data = self.removeColumns(self.data)\n",
    "        self.data = self.data.apply(self.moto0)\n",
    "        self.data = self.data.apply(self.msgdelto0)\n",
    "        self.data = self.data.apply(self.demojimsg)\n",
    "        self.link = self.data.apply(self.extractlink)\n",
    "        self.data = self.data.apply(self.linkto0)\n",
    "        self.data = self.data.apply(self.removeSymbols)\n",
    "        self.data = self.data.apply(self.removespace)\n",
    "        self.data = self.data.apply(self.removeno)\n",
    "        self.data = self.removena(self.data)\n",
    "        self.data = self.data.apply(self.low)\n",
    "        self.tokens = self.data.apply(self.tokenize)\n",
    "        self.tokens = self.tokens.apply(self.applylema)\n",
    "        self.tokens = self.tokens.apply(self.nostopword)\n",
    "\n",
    "\n",
    "    def removeColumns(self,data):\n",
    "        return data['msg']\n",
    "    \n",
    "    def moto0(self,s):\n",
    "        if('Media omitted' in s):\n",
    "            return 'del'\n",
    "        return s\n",
    "\n",
    "    def msgdelto0(self,s):\n",
    "        if('This message was deleted' in s):\n",
    "            return 'del'\n",
    "        return s\n",
    "\n",
    "    def demojimsg(self,s):\n",
    "        return demoji.replace(s,\" \")\n",
    "    \n",
    "    def extractlink(self,s):\n",
    "        return re.findall(self.urlreg,s)\n",
    "\n",
    "    def linkto0(self,s):\n",
    "        return re.sub(self.urlreg,'',s)\n",
    "\n",
    "    def removeSymbols(self,s):\n",
    "        return re.sub(r\"[^a-zA-Z0-9]\", \" \", s)\n",
    "\n",
    "    def removeno(self,s):\n",
    "        return re.sub(r'[0-9]',\" \",s)\n",
    "\n",
    "    def removena(self,data):\n",
    "        return data[data != 'del']\n",
    "    \n",
    "    def removespace(self, s):\n",
    "        if(s.isspace()):\n",
    "            return 'del'\n",
    "        return s\n",
    "\n",
    "    def removeSymbols(self,s):\n",
    "        return re.sub(r\"[^a-zA-Z0-9]\", \" \", s)\n",
    "\n",
    "    def low(self,s):\n",
    "        return s.lower()\n",
    "\n",
    "\n",
    "    def tokenize(self,s):\n",
    "        return word_tokenize(s)\n",
    "\n",
    "    def applylema(self,s):\n",
    "        words = []\n",
    "        for word in s:\n",
    "            words.append(self.lemmat.lemmatize(word,pos='v'))\n",
    "        return words\n",
    "\n",
    "    def nostopword(self,s):\n",
    "        words = []\n",
    "        for word in s:\n",
    "            if word not in self.stopwords_list:\n",
    "                words.append(word)\n",
    "        return words\n",
    "\n",
    "    \n",
    "\n"
   ]
  },
  {
   "cell_type": "code",
   "execution_count": 132,
   "metadata": {},
   "outputs": [],
   "source": [
    "obj = transformdata(msg)"
   ]
  },
  {
   "cell_type": "code",
   "execution_count": 133,
   "metadata": {},
   "outputs": [
    {
     "output_type": "execute_result",
     "data": {
      "text/plain": [
       "0       [welcome, new, recruit, important, point, guy,...\n",
       "1                              [st, year, core, one, stc]\n",
       "2                            [join, informal, group, guy]\n",
       "4       [take, new, language, loop, recursion, basics,...\n",
       "7       [fun, workshop, azure, edu, cloud, date, regis...\n",
       "                              ...                        \n",
       "1595    [hola, guy, know, particularly, peculiar, expe...\n",
       "1604    [hello, everyone, hope, family, safe, time, fi...\n",
       "1611    [congratulations, new, board, good, luck, upco...\n",
       "1621    [hallo, freunde, guess, time, come, would, lik...\n",
       "1630    [hi, fam, think, leave, remind, day, recruit, ...\n",
       "Name: msg, Length: 501, dtype: object"
      ]
     },
     "metadata": {},
     "execution_count": 133
    }
   ],
   "source": [
    "obj.tokens"
   ]
  },
  {
   "cell_type": "code",
   "execution_count": 147,
   "metadata": {},
   "outputs": [],
   "source": [
    "data = []\n",
    "for i in range(1,9):\n",
    "    k = read_history(f'train data\\\\ReTest{i}.txt')\n",
    "    data.append(k)"
   ]
  },
  {
   "cell_type": "code",
   "execution_count": 149,
   "metadata": {},
   "outputs": [],
   "source": [
    "def cust_read_history(file):\n",
    "    f = open('{}'.format(file), 'r',encoding = 'utf8')\n",
    " \n",
    "    # Every text message has the same format: date - sender: message. \n",
    "   \n",
    "    messages = re.findall('(\\d+:\\d+) - (.*?): (.*)', f.read())\n",
    "    f.close()\n",
    "\n",
    "    #Convert list to a dataframe and name the columns\n",
    "    history = pd.DataFrame(messages,columns=['time','name','msg'])\n",
    "    #history['time'] = pd.to_datetime(history['time'],format=\"%I:%M %p\")\n",
    "    #history['date1'] = history['date'].apply(lambda x: x.date())\n",
    "\n",
    "    # file is in the format 'WhatsApp Conversation with XXX.txt'\n",
    "    #history['conv_name'] = file[19:-4]\n",
    "\n",
    "    return history"
   ]
  },
  {
   "cell_type": "code",
   "execution_count": 151,
   "metadata": {},
   "outputs": [],
   "source": [
    "data[0] = cust_read_history('train data\\\\ReTest1.txt')\n",
    "data[2] = cust_read_history('train data\\\\ReTest3.txt')"
   ]
  },
  {
   "cell_type": "code",
   "execution_count": 153,
   "metadata": {},
   "outputs": [],
   "source": [
    "train = pd.concat(data)"
   ]
  },
  {
   "cell_type": "code",
   "execution_count": 155,
   "metadata": {},
   "outputs": [],
   "source": [
    "train = train.reset_index()"
   ]
  },
  {
   "cell_type": "code",
   "execution_count": 156,
   "metadata": {},
   "outputs": [
    {
     "output_type": "execute_result",
     "data": {
      "text/plain": [
       "      index   time             name  \\\n",
       "0         0  12:42  +91 96061 43964   \n",
       "1         1  15:35  +91 79041 07593   \n",
       "2         2  15:35  +91 79041 07593   \n",
       "3         3  15:35  +91 79041 07593   \n",
       "4         4  15:35  +91 79041 07593   \n",
       "...     ...    ...              ...   \n",
       "5651    740     am  +91 87958 83365   \n",
       "5652    741     am  +91 87958 83365   \n",
       "5653    742     am  +91 87958 83365   \n",
       "5654    743     pm  +91 72484 55559   \n",
       "5655    744     pm  +91 95397 87651   \n",
       "\n",
       "                                                    msg  \n",
       "0     Hey Team!  Firstly very warm welcome to the ne...  \n",
       "1                                              Hi guys   \n",
       "2                      I started learning about GitHub   \n",
       "3                        And I have a couple of doubts   \n",
       "4     What actually is gitignore  readme file and wh...  \n",
       "...                                                 ...  \n",
       "5651                                   <Media omitted>   \n",
       "5652  🔵⚫🔵⚫🔵⚫🔵⚫🔵⚫🔵⚫ TEAM ALBATROSS IS RECRUITING  Who...  \n",
       "5653  DM for further queries and don’t miss out this...  \n",
       "5654                          This message was deleted   \n",
       "5655  🔷🔶🔷🔶🔷🔶🔷🔶🔷  *STC WEBINAR - Alexa Skill Developm...  \n",
       "\n",
       "[5656 rows x 4 columns]"
      ],
      "text/html": "<div>\n<style scoped>\n    .dataframe tbody tr th:only-of-type {\n        vertical-align: middle;\n    }\n\n    .dataframe tbody tr th {\n        vertical-align: top;\n    }\n\n    .dataframe thead th {\n        text-align: right;\n    }\n</style>\n<table border=\"1\" class=\"dataframe\">\n  <thead>\n    <tr style=\"text-align: right;\">\n      <th></th>\n      <th>index</th>\n      <th>time</th>\n      <th>name</th>\n      <th>msg</th>\n    </tr>\n  </thead>\n  <tbody>\n    <tr>\n      <th>0</th>\n      <td>0</td>\n      <td>12:42</td>\n      <td>+91 96061 43964</td>\n      <td>Hey Team!  Firstly very warm welcome to the ne...</td>\n    </tr>\n    <tr>\n      <th>1</th>\n      <td>1</td>\n      <td>15:35</td>\n      <td>+91 79041 07593</td>\n      <td>Hi guys</td>\n    </tr>\n    <tr>\n      <th>2</th>\n      <td>2</td>\n      <td>15:35</td>\n      <td>+91 79041 07593</td>\n      <td>I started learning about GitHub</td>\n    </tr>\n    <tr>\n      <th>3</th>\n      <td>3</td>\n      <td>15:35</td>\n      <td>+91 79041 07593</td>\n      <td>And I have a couple of doubts</td>\n    </tr>\n    <tr>\n      <th>4</th>\n      <td>4</td>\n      <td>15:35</td>\n      <td>+91 79041 07593</td>\n      <td>What actually is gitignore  readme file and wh...</td>\n    </tr>\n    <tr>\n      <th>...</th>\n      <td>...</td>\n      <td>...</td>\n      <td>...</td>\n      <td>...</td>\n    </tr>\n    <tr>\n      <th>5651</th>\n      <td>740</td>\n      <td>am</td>\n      <td>+91 87958 83365</td>\n      <td>&lt;Media omitted&gt;</td>\n    </tr>\n    <tr>\n      <th>5652</th>\n      <td>741</td>\n      <td>am</td>\n      <td>+91 87958 83365</td>\n      <td>🔵⚫🔵⚫🔵⚫🔵⚫🔵⚫🔵⚫ TEAM ALBATROSS IS RECRUITING  Who...</td>\n    </tr>\n    <tr>\n      <th>5653</th>\n      <td>742</td>\n      <td>am</td>\n      <td>+91 87958 83365</td>\n      <td>DM for further queries and don’t miss out this...</td>\n    </tr>\n    <tr>\n      <th>5654</th>\n      <td>743</td>\n      <td>pm</td>\n      <td>+91 72484 55559</td>\n      <td>This message was deleted</td>\n    </tr>\n    <tr>\n      <th>5655</th>\n      <td>744</td>\n      <td>pm</td>\n      <td>+91 95397 87651</td>\n      <td>🔷🔶🔷🔶🔷🔶🔷🔶🔷  *STC WEBINAR - Alexa Skill Developm...</td>\n    </tr>\n  </tbody>\n</table>\n<p>5656 rows × 4 columns</p>\n</div>"
     },
     "metadata": {},
     "execution_count": 156
    }
   ],
   "source": [
    "train"
   ]
  },
  {
   "cell_type": "code",
   "execution_count": 157,
   "metadata": {},
   "outputs": [],
   "source": [
    "obj = transformdata(train)"
   ]
  },
  {
   "cell_type": "code",
   "execution_count": 159,
   "metadata": {},
   "outputs": [
    {
     "output_type": "execute_result",
     "data": {
      "text/plain": [
       "0       [hey, team, firstly, warm, welcome, new, recru...\n",
       "1                                               [hi, guy]\n",
       "2                                  [start, learn, github]\n",
       "3                                         [couple, doubt]\n",
       "4       [actually, gitignore, readme, file, use, license]\n",
       "                              ...                        \n",
       "5649    [team, rotor, fpv, recruitment, live, team, ro...\n",
       "5650    [guy, better, chance, get, process, things, le...\n",
       "5652    [team, albatross, recruit, tomorrow, begin, to...\n",
       "5653            [dm, query, miss, wonderful, opportunity]\n",
       "5655    [stc, webinar, alexa, skill, development, intr...\n",
       "Name: msg, Length: 4124, dtype: object"
      ]
     },
     "metadata": {},
     "execution_count": 159
    }
   ],
   "source": [
    "obj.tokens"
   ]
  },
  {
   "cell_type": "code",
   "execution_count": 177,
   "metadata": {},
   "outputs": [],
   "source": [
    "dictionary1 = corpora.Dictionary(obj.tokens)\n",
    "corpus1 = [dictionary1.doc2bow(text) for text in obj.tokens]"
   ]
  },
  {
   "cell_type": "code",
   "execution_count": 187,
   "metadata": {},
   "outputs": [
    {
     "output_type": "stream",
     "name": "stderr",
     "text": [
      "C:\\Users\\surya\\AppData\\Local\\Programs\\Python\\Python38-32\\lib\\site-packages\\ipykernel\\ipkernel.py:283: DeprecationWarning: `should_run_async` will not call `transform_cell` automatically in the future. Please pass the result to `transformed_cell` argument and any exception that happen during thetransform in `preprocessing_exc_tuple` in IPython 7.17 and above.\n",
      "  and should_run_async(code)\n",
      "(0, '0.075*\"team\" + 0.034*\"drone\" + 0.027*\"rotor\" + 0.024*\"vit\" + 0.018*\"work\"')\n",
      "(1, '0.052*\"get\" + 0.051*\"u\" + 0.047*\"yes\" + 0.038*\"bhaiya\" + 0.028*\"know\"')\n",
      "(2, '0.049*\"drone\" + 0.034*\"time\" + 0.032*\"get\" + 0.031*\"take\" + 0.030*\"kit\"')\n",
      "(3, '0.030*\"guy\" + 0.029*\"name\" + 0.025*\"absent\" + 0.020*\"get\" + 0.020*\"anyone\"')\n",
      "(4, '0.033*\"year\" + 0.028*\"design\" + 0.025*\"different\" + 0.025*\"guy\" + 0.024*\"okay\"')\n",
      "(5, '0.049*\"make\" + 0.028*\"race\" + 0.026*\"need\" + 0.020*\"na\" + 0.017*\"clear\"')\n",
      "(6, '0.057*\"like\" + 0.020*\"haan\" + 0.017*\"error\" + 0.017*\"really\" + 0.017*\"download\"')\n",
      "(7, '0.040*\"nice\" + 0.040*\"hai\" + 0.033*\"tell\" + 0.020*\"cool\" + 0.019*\"exactly\"')\n",
      "(8, '0.052*\"thank\" + 0.044*\"alexa\" + 0.041*\"yeah\" + 0.034*\"skill\" + 0.032*\"answer\"')\n",
      "(9, '0.039*\"form\" + 0.027*\"try\" + 0.027*\"possible\" + 0.023*\"meet\" + 0.022*\"start\"')\n"
     ]
    }
   ],
   "source": [
    "model1 = LdaModel(corpus1,num_topics = 10,id2word = dictionary1,passes=15)\n",
    "\n",
    "topics = model1.print_topics(num_words=5)\n",
    "for topic in topics:\n",
    "    print(topic)"
   ]
  },
  {
   "cell_type": "code",
   "execution_count": 182,
   "metadata": {},
   "outputs": [
    {
     "output_type": "execute_result",
     "data": {
      "text/plain": [
       "[(2, 0.26779875),\n",
       " (5, 0.0500085),\n",
       " (6, 0.058291208),\n",
       " (13, 0.05249808),\n",
       " (15, 0.27539068),\n",
       " (17, 0.04998128),\n",
       " (19, 0.21506596)]"
      ]
     },
     "metadata": {},
     "execution_count": 182
    }
   ],
   "source": [
    "model1[corpus[5]]"
   ]
  },
  {
   "cell_type": "code",
   "execution_count": 167,
   "metadata": {},
   "outputs": [
    {
     "output_type": "error",
     "ename": "AttributeError",
     "evalue": "'list' object has no attribute 'text'",
     "traceback": [
      "\u001b[1;31m---------------------------------------------------------------------------\u001b[0m",
      "\u001b[1;31mAttributeError\u001b[0m                            Traceback (most recent call last)",
      "\u001b[1;32m<ipython-input-167-2a07d101ac26>\u001b[0m in \u001b[0;36m<module>\u001b[1;34m\u001b[0m\n\u001b[1;32m----> 1\u001b[1;33m \u001b[0mcorpus\u001b[0m\u001b[1;33m[\u001b[0m\u001b[1;36m6\u001b[0m\u001b[1;33m]\u001b[0m\u001b[1;33m.\u001b[0m\u001b[0mtext\u001b[0m\u001b[1;33m\u001b[0m\u001b[1;33m\u001b[0m\u001b[0m\n\u001b[0m",
      "\u001b[1;31mAttributeError\u001b[0m: 'list' object has no attribute 'text'"
     ]
    }
   ],
   "source": [
    "corpus[6].text"
   ]
  },
  {
   "cell_type": "code",
   "execution_count": 200,
   "metadata": {},
   "outputs": [
    {
     "output_type": "stream",
     "name": "stderr",
     "text": [
      "C:\\Users\\surya\\AppData\\Local\\Programs\\Python\\Python38-32\\lib\\site-packages\\ipykernel\\ipkernel.py:283: DeprecationWarning: `should_run_async` will not call `transform_cell` automatically in the future. Please pass the result to `transformed_cell` argument and any exception that happen during thetransform in `preprocessing_exc_tuple` in IPython 7.17 and above.\n  and should_run_async(code)\n"
     ]
    }
   ],
   "source": [
    "train = read_history(\"train.txt\")"
   ]
  },
  {
   "cell_type": "code",
   "execution_count": 201,
   "metadata": {},
   "outputs": [
    {
     "output_type": "stream",
     "name": "stderr",
     "text": [
      "C:\\Users\\surya\\AppData\\Local\\Programs\\Python\\Python38-32\\lib\\site-packages\\ipykernel\\ipkernel.py:283: DeprecationWarning: `should_run_async` will not call `transform_cell` automatically in the future. Please pass the result to `transformed_cell` argument and any exception that happen during thetransform in `preprocessing_exc_tuple` in IPython 7.17 and above.\n  and should_run_async(code)\n"
     ]
    }
   ],
   "source": [
    "new_data = transformdata(train)"
   ]
  },
  {
   "cell_type": "code",
   "execution_count": 179,
   "metadata": {},
   "outputs": [],
   "source": [
    "dictionary2 = corpora.Dictionary(new_data.tokens)\n",
    "corpus2 = [dictionary2.doc2bow(text) for text in new_data.tokens]"
   ]
  },
  {
   "cell_type": "code",
   "execution_count": 183,
   "metadata": {},
   "outputs": [
    {
     "output_type": "stream",
     "name": "stdout",
     "text": [
      "(0, '0.022*\"english\" + 0.019*\"talk\" + 0.016*\"pop\" + 0.016*\"k\" + 0.013*\"good\"')\n(1, '0.022*\"think\" + 0.022*\"dont\" + 0.019*\"one\" + 0.017*\"go\" + 0.016*\"say\"')\n(2, '0.019*\"get\" + 0.012*\"like\" + 0.012*\"talk\" + 0.012*\"food\" + 0.010*\"bro\"')\n(3, '0.026*\"yes\" + 0.023*\"guy\" + 0.018*\"pls\" + 0.016*\"talk\" + 0.016*\"guess\"')\n(4, '0.037*\"food\" + 0.021*\"study\" + 0.021*\"talk\" + 0.018*\"like\" + 0.018*\"start\"')\n"
     ]
    }
   ],
   "source": [
    "model2 = LdaModel(corpus2,num_topics = 5,id2word = dictionary2,passes=15)\n",
    "\n",
    "topics = model2.print_topics(num_words=5)\n",
    "for topic in topics:\n",
    "    print(topic)"
   ]
  },
  {
   "cell_type": "code",
   "execution_count": 184,
   "metadata": {},
   "outputs": [],
   "source": [
    "import pyLDAvis.gensim"
   ]
  },
  {
   "cell_type": "code",
   "execution_count": 223,
   "metadata": {},
   "outputs": [
    {
     "output_type": "stream",
     "name": "stderr",
     "text": [
      "C:\\Users\\surya\\AppData\\Local\\Programs\\Python\\Python38-32\\lib\\site-packages\\ipykernel\\ipkernel.py:283: DeprecationWarning: `should_run_async` will not call `transform_cell` automatically in the future. Please pass the result to `transformed_cell` argument and any exception that happen during thetransform in `preprocessing_exc_tuple` in IPython 7.17 and above.\n  and should_run_async(code)\n"
     ]
    }
   ],
   "source": [
    "tokens = new_data.tokens"
   ]
  },
  {
   "cell_type": "code",
   "execution_count": 224,
   "metadata": {},
   "outputs": [
    {
     "output_type": "stream",
     "name": "stderr",
     "text": [
      "C:\\Users\\surya\\AppData\\Local\\Programs\\Python\\Python38-32\\lib\\site-packages\\ipykernel\\ipkernel.py:283: DeprecationWarning: `should_run_async` will not call `transform_cell` automatically in the future. Please pass the result to `transformed_cell` argument and any exception that happen during thetransform in `preprocessing_exc_tuple` in IPython 7.17 and above.\n  and should_run_async(code)\n"
     ]
    }
   ],
   "source": [
    "new_tokens = []\n",
    "for i in range(0 , 410,5):\n",
    "    new_tokens.append(tokens.iloc[i] + tokens.iloc[i+1] + tokens.iloc[i+2] + tokens.iloc[i+3] + tokens.iloc[i+4])"
   ]
  },
  {
   "cell_type": "code",
   "execution_count": 225,
   "metadata": {},
   "outputs": [
    {
     "output_type": "stream",
     "name": "stderr",
     "text": [
      "C:\\Users\\surya\\AppData\\Local\\Programs\\Python\\Python38-32\\lib\\site-packages\\ipykernel\\ipkernel.py:283: DeprecationWarning: `should_run_async` will not call `transform_cell` automatically in the future. Please pass the result to `transformed_cell` argument and any exception that happen during thetransform in `preprocessing_exc_tuple` in IPython 7.17 and above.\n  and should_run_async(code)\n"
     ]
    }
   ],
   "source": [
    "dictionary3 = corpora.Dictionary(new_tokens)\n",
    "corpus3 = [dictionary3.doc2bow(text) for text in new_tokens]"
   ]
  },
  {
   "cell_type": "code",
   "execution_count": 274,
   "metadata": {},
   "outputs": [
    {
     "output_type": "stream",
     "name": "stderr",
     "text": [
      "C:\\Users\\surya\\AppData\\Local\\Programs\\Python\\Python38-32\\lib\\site-packages\\ipykernel\\ipkernel.py:283: DeprecationWarning: `should_run_async` will not call `transform_cell` automatically in the future. Please pass the result to `transformed_cell` argument and any exception that happen during thetransform in `preprocessing_exc_tuple` in IPython 7.17 and above.\n",
      "  and should_run_async(code)\n",
      "(0, '0.013*\"say\" + 0.011*\"model\" + 0.008*\"fuck\" + 0.008*\"people\" + 0.008*\"guy\"')\n",
      "(1, '0.030*\"talk\" + 0.015*\"think\" + 0.012*\"start\" + 0.012*\"guy\" + 0.012*\"english\"')\n",
      "(2, '0.014*\"study\" + 0.014*\"good\" + 0.014*\"go\" + 0.012*\"talk\" + 0.012*\"food\"')\n",
      "(3, '0.034*\"food\" + 0.014*\"name\" + 0.014*\"sorry\" + 0.012*\"like\" + 0.012*\"u\"')\n",
      "(4, '0.018*\"talk\" + 0.014*\"one\" + 0.014*\"think\" + 0.014*\"pop\" + 0.014*\"k\"')\n"
     ]
    }
   ],
   "source": [
    "model3 = LdaModel(corpus3,num_topics = 5,id2word = dictionary3,passes=15)\n",
    "\n",
    "topics = model3.print_topics(num_words=5)\n",
    "for topic in topics:\n",
    "    print(topic)"
   ]
  },
  {
   "cell_type": "code",
   "execution_count": 233,
   "metadata": {},
   "outputs": [
    {
     "output_type": "stream",
     "name": "stderr",
     "text": [
      "C:\\Users\\surya\\AppData\\Local\\Programs\\Python\\Python38-32\\lib\\site-packages\\ipykernel\\ipkernel.py:283: DeprecationWarning: `should_run_async` will not call `transform_cell` automatically in the future. Please pass the result to `transformed_cell` argument and any exception that happen during thetransform in `preprocessing_exc_tuple` in IPython 7.17 and above.\n  and should_run_async(code)\n"
     ]
    },
    {
     "output_type": "execute_result",
     "data": {
      "text/plain": [
       "<IPython.core.display.HTML object>"
      ],
      "text/html": "\n<link rel=\"stylesheet\" type=\"text/css\" href=\"https://cdn.jsdelivr.net/gh/bmabey/pyLDAvis@3.2.2/pyLDAvis/js/ldavis.v1.0.0.css\">\n\n\n<div id=\"ldavis_el21405276652167900126633\"></div>\n<script type=\"text/javascript\">\n\nvar ldavis_el21405276652167900126633_data = {\"mdsDat\": {\"x\": [0.06351917654213272, -0.06351917654213272], \"y\": [0.0, 0.0], \"topics\": [1, 2], \"cluster\": [1, 1], \"Freq\": [52.801246375724595, 47.198753624275405]}, \"tinfo\": {\"Term\": [\"say\", \"name\", \"really\", \"study\", \"sorry\", \"random\", \"go\", \"lunch\", \"sure\", \"everyone\", \"seriously\", \"ask\", \"us\", \"like\", \"mkc\", \"na\", \"work\", \"taste\", \"yet\", \"prepare\", \"hack\", \"thing\", \"superman\", \"vs\", \"batman\", \"topper\", \"lot\", \"jazz\", \"talk\", \"message\", \"say\", \"sorry\", \"random\", \"seriously\", \"ask\", \"us\", \"na\", \"work\", \"everyone\", \"chawal\", \"rajma\", \"delhi\", \"screw\", \"gursehaj\", \"atleast\", \"break\", \"song\", \"info\", \"would\", \"please\", \"still\", \"yess\", \"message\", \"mkc\", \"peaky\", \"peanut\", \"butter\", \"bhi\", \"cut\", \"add\", \"like\", \"talk\", \"life\", \"food\", \"k\", \"u\", \"think\", \"yes\", \"dont\", \"guy\", \"exactly\", \"btw\", \"shit\", \"come\", \"well\", \"pop\", \"people\", \"one\", \"pls\", \"fuck\", \"bro\", \"name\", \"really\", \"lunch\", \"sure\", \"taste\", \"yet\", \"prepare\", \"hack\", \"thing\", \"superman\", \"vs\", \"batman\", \"topper\", \"lot\", \"jazz\", \"chicken\", \"absolute\", \"zero\", \"nothing\", \"dal\", \"live\", \"syllabus\", \"land\", \"assignment\", \"mean\", \"cao\", \"oops\", \"attend\", \"ever\", \"best\", \"study\", \"go\", \"group\", \"english\", \"jayesh\", \"start\", \"get\", \"good\", \"today\", \"team\", \"see\", \"pretty\", \"food\", \"time\", \"one\", \"talk\", \"guy\", \"yes\", \"dont\", \"like\", \"think\", \"oh\", \"love\", \"better\", \"watch\", \"need\", \"model\"], \"Freq\": [7.0, 4.0, 3.0, 8.0, 4.0, 4.0, 8.0, 3.0, 3.0, 4.0, 3.0, 3.0, 3.0, 12.0, 4.0, 3.0, 3.0, 2.0, 2.0, 2.0, 2.0, 2.0, 2.0, 2.0, 2.0, 2.0, 2.0, 2.0, 17.0, 4.0, 7.084793803256936, 3.721330842029545, 3.720750309115261, 3.0453296790892033, 3.044830078377447, 3.0439578782563625, 3.018446802908898, 3.0139012146261726, 4.171138327458301, 2.3691966900420525, 2.3691957562089465, 2.3689993399789664, 2.3688468139049723, 2.3683176418115237, 2.368180679622631, 2.368094300060318, 2.367846211731801, 2.367824111014957, 2.3669942446613486, 2.3669814822755653, 2.36696996500059, 2.3662652322831974, 3.45201088401269, 4.018042615269521, 1.691968937316867, 1.6917664511716972, 1.6916368040088023, 1.6914923711550611, 1.6914873907118286, 1.6914750952425985, 9.050437784919742, 12.370077514867022, 2.7108944724180692, 10.650792402808625, 3.061691368940938, 5.092890745928691, 5.47048834131853, 5.554503438206886, 5.194731160423721, 5.796912193772551, 3.038115195789284, 3.0065273571428146, 3.270969282291177, 3.172533934578639, 3.049708733801343, 3.0444030053702638, 3.2200445615169824, 3.3849529512200496, 3.067643621159131, 3.060748508781493, 3.0397954728248346, 4.220187109720373, 3.5610925481118367, 2.920420328350231, 2.9197263741367485, 2.2715864947193922, 2.271139765172581, 2.2710727070469, 2.2707994660534596, 2.2705100865899386, 2.2701778567058577, 2.270081443259598, 2.2698271232310803, 2.2695273094119033, 2.2635293635314593, 2.2622078176064653, 1.62277589492048, 1.6227089759195408, 1.6226885245824554, 1.622483176463149, 1.6224419955394942, 1.622220648074849, 1.6221661111759547, 1.6220635762410434, 1.6219806578947653, 1.6219643802999422, 1.6219266774948393, 1.621892452808288, 1.6218390289073303, 1.6217764227733955, 1.621692530553923, 6.3632518372055005, 6.245385355717465, 2.9402667510570666, 5.605403194676564, 2.9144543811604646, 3.636951983226484, 4.27300804404596, 4.269121177001799, 2.3826884529981367, 2.297228158557465, 2.288249047703785, 2.281312288063802, 6.024225431224526, 2.904373680599015, 3.2489467117971347, 5.025160641384761, 3.534137964082779, 3.1170965242334083, 2.812587523260823, 3.0123943040902277, 2.548177055449807, 2.369416787352398, 2.3239712729785653, 2.2866175318534423, 2.290108589006392, 2.285117488884363, 2.2846685333416787], \"Total\": [7.0, 4.0, 3.0, 8.0, 4.0, 4.0, 8.0, 3.0, 3.0, 4.0, 3.0, 3.0, 3.0, 12.0, 4.0, 3.0, 3.0, 2.0, 2.0, 2.0, 2.0, 2.0, 2.0, 2.0, 2.0, 2.0, 2.0, 2.0, 17.0, 4.0, 7.435676802350794, 4.049899797647524, 4.049878615758763, 3.3726105135014732, 3.372589154090608, 3.3725531632317804, 3.371496182924015, 3.371308085906713, 4.717843018269497, 2.695313919892772, 2.695313786026933, 2.695305536010612, 2.695299195259356, 2.695277654568563, 2.6952714348560374, 2.6952672432351066, 2.695258101651108, 2.6952569044267607, 2.695221336006858, 2.6952211296290476, 2.695221055364108, 2.6951917037071307, 4.038772474906389, 4.711528395745383, 2.0179717370672274, 2.0179639559985953, 2.01795851244919, 2.017951986996033, 2.0179512846386194, 2.0179511973655067, 12.06283208900997, 17.395238156251782, 3.3587983962728623, 16.67501783403315, 4.022693159720469, 7.353651527092809, 8.018665396768338, 8.671599962440295, 8.007318683684545, 9.33105015785533, 4.021725244093002, 4.020428061665866, 4.680781230399244, 4.676726299090417, 4.671674227099222, 4.671456986109626, 5.328160458168538, 6.633899663017184, 5.321888077653824, 5.321605146892902, 5.320743254064394, 4.560259711214099, 3.9111883694303113, 3.261339138276921, 3.2613691770886444, 2.611835785218731, 2.6118538321907616, 2.6118558777149308, 2.6118689343879313, 2.611881338656527, 2.611896144500496, 2.611900157022853, 2.6119110845061764, 2.611922898576443, 2.6121747863973312, 2.6122306053941013, 1.9623304914083164, 1.9623333375223444, 1.9623341308884223, 1.9623423970921332, 1.962344367039922, 1.962354454546735, 1.9623551305302382, 1.9623603365899416, 1.9623634476185616, 1.9623646793944778, 1.9623657695729901, 1.9623676141901616, 1.9623692086230373, 1.962373021368773, 1.9623764425447194, 8.532302879119433, 8.537360584717938, 3.937758559610253, 8.564821473116652, 3.938865796662795, 5.262555269360022, 6.589954904136281, 6.590121962244492, 3.284339802582321, 3.288003917231105, 3.2883927088199787, 3.2886893426003136, 16.67501783403315, 5.293990343533002, 6.633899663017184, 17.395238156251782, 9.33105015785533, 8.671599962440295, 8.007318683684545, 12.06283208900997, 8.018665396768338, 4.639594950907162, 4.64154924860975, 3.965805718002713, 4.64300351015435, 3.9658717131525396, 4.643236801886812], \"Category\": [\"Default\", \"Default\", \"Default\", \"Default\", \"Default\", \"Default\", \"Default\", \"Default\", \"Default\", \"Default\", \"Default\", \"Default\", \"Default\", \"Default\", \"Default\", \"Default\", \"Default\", \"Default\", \"Default\", \"Default\", \"Default\", \"Default\", \"Default\", \"Default\", \"Default\", \"Default\", \"Default\", \"Default\", \"Default\", \"Default\", \"Topic1\", \"Topic1\", \"Topic1\", \"Topic1\", \"Topic1\", \"Topic1\", \"Topic1\", \"Topic1\", \"Topic1\", \"Topic1\", \"Topic1\", \"Topic1\", \"Topic1\", \"Topic1\", \"Topic1\", \"Topic1\", \"Topic1\", \"Topic1\", \"Topic1\", \"Topic1\", \"Topic1\", \"Topic1\", \"Topic1\", \"Topic1\", \"Topic1\", \"Topic1\", \"Topic1\", \"Topic1\", \"Topic1\", \"Topic1\", \"Topic1\", \"Topic1\", \"Topic1\", \"Topic1\", \"Topic1\", \"Topic1\", \"Topic1\", \"Topic1\", \"Topic1\", \"Topic1\", \"Topic1\", \"Topic1\", \"Topic1\", \"Topic1\", \"Topic1\", \"Topic1\", \"Topic1\", \"Topic1\", \"Topic1\", \"Topic1\", \"Topic1\", \"Topic2\", \"Topic2\", \"Topic2\", \"Topic2\", \"Topic2\", \"Topic2\", \"Topic2\", \"Topic2\", \"Topic2\", \"Topic2\", \"Topic2\", \"Topic2\", \"Topic2\", \"Topic2\", \"Topic2\", \"Topic2\", \"Topic2\", \"Topic2\", \"Topic2\", \"Topic2\", \"Topic2\", \"Topic2\", \"Topic2\", \"Topic2\", \"Topic2\", \"Topic2\", \"Topic2\", \"Topic2\", \"Topic2\", \"Topic2\", \"Topic2\", \"Topic2\", \"Topic2\", \"Topic2\", \"Topic2\", \"Topic2\", \"Topic2\", \"Topic2\", \"Topic2\", \"Topic2\", \"Topic2\", \"Topic2\", \"Topic2\", \"Topic2\", \"Topic2\", \"Topic2\", \"Topic2\", \"Topic2\", \"Topic2\", \"Topic2\", \"Topic2\", \"Topic2\", \"Topic2\", \"Topic2\", \"Topic2\", \"Topic2\", \"Topic2\"], \"logprob\": [30.0, 29.0, 28.0, 27.0, 26.0, 25.0, 24.0, 23.0, 22.0, 21.0, 20.0, 19.0, 18.0, 17.0, 16.0, 15.0, 14.0, 13.0, 12.0, 11.0, 10.0, 9.0, 8.0, 7.0, 6.0, 5.0, 4.0, 3.0, 2.0, 1.0, -4.547, -5.1909, -5.1911, -5.3914, -5.3915, -5.3918, -5.4002, -5.4017, -5.0768, -5.6424, -5.6424, -5.6425, -5.6426, -5.6428, -5.6429, -5.6429, -5.643, -5.643, -5.6434, -5.6434, -5.6434, -5.6437, -5.266, -5.1142, -5.9791, -5.9792, -5.9793, -5.9794, -5.9794, -5.9794, -4.3022, -3.9897, -5.5077, -4.1393, -5.386, -4.8771, -4.8056, -4.7904, -4.8573, -4.7477, -5.3937, -5.4042, -5.3199, -5.3505, -5.3899, -5.3917, -5.3356, -5.2856, -5.3841, -5.3863, -5.3932, -4.9529, -5.1227, -5.3211, -5.3213, -5.5723, -5.5725, -5.5726, -5.5727, -5.5728, -5.573, -5.573, -5.5731, -5.5732, -5.5759, -5.5765, -5.9087, -5.9087, -5.9087, -5.9089, -5.9089, -5.909, -5.9091, -5.9091, -5.9092, -5.9092, -5.9092, -5.9092, -5.9093, -5.9093, -5.9093, -4.5423, -4.561, -5.3143, -4.6691, -5.3231, -5.1017, -4.9405, -4.9414, -5.5246, -5.5611, -5.565, -5.5681, -4.597, -5.3266, -5.2145, -4.7784, -5.1303, -5.2559, -5.3587, -5.2901, -5.4574, -5.5302, -5.5495, -5.5657, -5.5642, -5.5664, -5.5666], \"loglift\": [30.0, 29.0, 28.0, 27.0, 26.0, 25.0, 24.0, 23.0, 22.0, 21.0, 20.0, 19.0, 18.0, 17.0, 16.0, 15.0, 14.0, 13.0, 12.0, 11.0, 10.0, 9.0, 8.0, 7.0, 6.0, 5.0, 4.0, 3.0, 2.0, 1.0, 0.5903, 0.554, 0.5539, 0.5366, 0.5364, 0.5361, 0.528, 0.5266, 0.5155, 0.5097, 0.5097, 0.5096, 0.5095, 0.5093, 0.5093, 0.5092, 0.5091, 0.5091, 0.5088, 0.5088, 0.5088, 0.5085, 0.4817, 0.4794, 0.4624, 0.4623, 0.4622, 0.4622, 0.4622, 0.4622, 0.3513, 0.2977, 0.4243, 0.1904, 0.3657, 0.2713, 0.2562, 0.1932, 0.2059, 0.1626, 0.3582, 0.348, 0.2803, 0.2506, 0.2122, 0.2105, 0.135, -0.0342, 0.0877, 0.0855, 0.0788, 0.6733, 0.657, 0.6404, 0.6401, 0.6112, 0.611, 0.611, 0.6109, 0.6107, 0.6106, 0.6105, 0.6104, 0.6103, 0.6075, 0.6069, 0.5608, 0.5608, 0.5608, 0.5606, 0.5606, 0.5605, 0.5604, 0.5604, 0.5603, 0.5603, 0.5603, 0.5602, 0.5602, 0.5602, 0.5601, 0.4575, 0.4382, 0.4587, 0.3269, 0.4496, 0.3813, 0.3176, 0.3166, 0.4299, 0.3922, 0.3882, 0.3851, -0.2673, 0.1504, 0.0369, -0.4909, -0.2201, -0.2723, -0.2954, -0.6366, -0.3956, 0.0788, 0.059, 0.2002, 0.044, 0.1995, 0.0416]}, \"token.table\": {\"Topic\": [2, 1, 1, 2, 1, 2, 2, 2, 1, 2, 1, 1, 1, 2, 1, 2, 1, 2, 1, 2, 1, 2, 1, 2, 1, 1, 2, 1, 2, 2, 1, 2, 1, 2, 1, 2, 1, 2, 1, 2, 1, 2, 1, 2, 1, 2, 1, 1, 2, 2, 1, 1, 2, 2, 1, 2, 2, 1, 2, 1, 2, 2, 2, 1, 2, 2, 2, 1, 2, 1, 2, 1, 2, 1, 2, 1, 2, 2, 1, 2, 1, 2, 2, 1, 1, 1, 2, 1, 1, 2, 1, 2, 2, 1, 2, 1, 1, 2, 1, 1, 1, 2, 1, 1, 2, 1, 1, 1, 2, 1, 1, 2, 2, 2, 2, 1, 2, 2, 1, 2, 2, 1, 2, 1, 2, 1, 2, 2, 1, 2, 1, 2, 1, 2, 1, 2, 1, 1, 1, 2, 1, 2, 2], \"Freq\": [1.0191948339038126, 0.9911042460348186, 0.8895242980786157, 1.019179195590456, 0.7420402910576708, 1.0191762035460021, 0.7657228501628462, 1.0191724465498027, 0.5043111393281399, 0.5043111393281399, 0.9911038582128227, 0.7420414450625745, 0.5638310019391312, 0.3758873346260874, 0.7461892002507188, 0.24872973341690624, 0.991100653289748, 1.019177989654395, 0.7420285946059917, 1.0191963121179701, 0.6414743579463853, 0.4276495719642569, 0.9911042031711711, 1.0191891054355964, 0.7420309027229058, 0.6244287504365025, 0.37465725026190144, 0.3502699979697686, 0.7005399959395372, 1.0191742233619692, 0.8478450818542068, 0.2119612704635517, 0.7459485215720085, 0.24864950719066953, 0.6596694593962815, 0.35981970512524447, 0.5637396832704874, 0.37582645551365823, 0.30349221339051513, 0.6069844267810303, 0.23426444041499708, 0.7027933212449913, 0.3034845199312262, 0.6069690398624524, 0.253951578001008, 0.761854734003024, 0.7420385787007695, 0.6430144408717929, 0.4286762939145286, 0.7657352073329371, 0.7420442914792825, 0.2538801908019436, 0.7616405724058308, 0.7656291890425442, 0.7457690360376543, 0.2485896786792181, 1.019180811346537, 0.8931765607989429, 0.29772552026631427, 0.7460934491660205, 0.2486978163886735, 1.0191838662816703, 0.7656455496067196, 0.4308906127838772, 0.4308906127838772, 0.9198675368624817, 1.0191785558518793, 0.7427999518763518, 0.24759998395878396, 0.8489814056118373, 0.21224535140295933, 0.4307340084803097, 0.4307340084803097, 0.8898126639426222, 0.8771430254648944, 0.504302747203632, 0.504302747203632, 1.0191901285747427, 0.43107211322595046, 0.43107211322595046, 0.4522226974164938, 0.4522226974164938, 1.0191770316314401, 0.9910941581900715, 0.9910979797507306, 0.563046106353786, 0.375364070902524, 0.7420541409436289, 0.563709712836081, 0.37580647522405397, 0.6421979285949478, 0.42813195239663193, 0.7657390352448415, 0.3040725030018543, 0.6081450060037086, 0.7420286314596897, 0.9876839232749651, 1.0227070706345511, 0.9414072432232323, 0.742032648367095, 0.3040999322610846, 0.6081998645221692, 0.8895186645449238, 0.640918652748938, 0.21363955091631268, 0.7420439618657692, 0.9876787574654293, 0.3800435145345693, 0.7600870290691386, 0.7420541613904141, 0.23440330568837095, 0.7032099170651128, 0.7657272300857445, 0.9198590644307361, 1.0191835151976747, 0.6898439614456928, 0.2874349839357054, 0.7657449259707221, 0.304135890702381, 0.608271781404762, 0.7657315707262335, 0.623545160272567, 0.3741270961635402, 0.37778686212436086, 0.5666802931865413, 0.3044751944405226, 0.6089503888810452, 0.7657193866978406, 0.6799343131203144, 0.27197372524812574, 0.8895337908106457, 0.7657260537400017, 0.4307556510836049, 0.4307556510836049, 0.6421680652725622, 0.42811204351504145, 0.889862309689549, 0.7420540841232458, 0.6919138366608331, 0.34595691833041653, 0.7420622426408772, 0.7657396349482724, 1.0191944218462556], \"Term\": [\"absolute\", \"add\", \"ask\", \"assignment\", \"atleast\", \"attend\", \"batman\", \"best\", \"better\", \"better\", \"bhi\", \"break\", \"bro\", \"bro\", \"btw\", \"btw\", \"butter\", \"cao\", \"chawal\", \"chicken\", \"come\", \"come\", \"cut\", \"dal\", \"delhi\", \"dont\", \"dont\", \"english\", \"english\", \"ever\", \"everyone\", \"everyone\", \"exactly\", \"exactly\", \"food\", \"food\", \"fuck\", \"fuck\", \"get\", \"get\", \"go\", \"go\", \"good\", \"good\", \"group\", \"group\", \"gursehaj\", \"guy\", \"guy\", \"hack\", \"info\", \"jayesh\", \"jayesh\", \"jazz\", \"k\", \"k\", \"land\", \"life\", \"life\", \"like\", \"like\", \"live\", \"lot\", \"love\", \"love\", \"lunch\", \"mean\", \"message\", \"message\", \"mkc\", \"mkc\", \"model\", \"model\", \"na\", \"name\", \"need\", \"need\", \"nothing\", \"oh\", \"oh\", \"one\", \"one\", \"oops\", \"peaky\", \"peanut\", \"people\", \"people\", \"please\", \"pls\", \"pls\", \"pop\", \"pop\", \"prepare\", \"pretty\", \"pretty\", \"rajma\", \"random\", \"really\", \"say\", \"screw\", \"see\", \"see\", \"seriously\", \"shit\", \"shit\", \"song\", \"sorry\", \"start\", \"start\", \"still\", \"study\", \"study\", \"superman\", \"sure\", \"syllabus\", \"talk\", \"talk\", \"taste\", \"team\", \"team\", \"thing\", \"think\", \"think\", \"time\", \"time\", \"today\", \"today\", \"topper\", \"u\", \"u\", \"us\", \"vs\", \"watch\", \"watch\", \"well\", \"well\", \"work\", \"would\", \"yes\", \"yes\", \"yess\", \"yet\", \"zero\"]}, \"R\": 30, \"lambda.step\": 0.01, \"plot.opts\": {\"xlab\": \"PC1\", \"ylab\": \"PC2\"}, \"topic.order\": [1, 2]};\n\nfunction LDAvis_load_lib(url, callback){\n  var s = document.createElement('script');\n  s.src = url;\n  s.async = true;\n  s.onreadystatechange = s.onload = callback;\n  s.onerror = function(){console.warn(\"failed to load library \" + url);};\n  document.getElementsByTagName(\"head\")[0].appendChild(s);\n}\n\nif(typeof(LDAvis) !== \"undefined\"){\n   // already loaded: just create the visualization\n   !function(LDAvis){\n       new LDAvis(\"#\" + \"ldavis_el21405276652167900126633\", ldavis_el21405276652167900126633_data);\n   }(LDAvis);\n}else if(typeof define === \"function\" && define.amd){\n   // require.js is available: use it to load d3/LDAvis\n   require.config({paths: {d3: \"https://d3js.org/d3.v5\"}});\n   require([\"d3\"], function(d3){\n      window.d3 = d3;\n      LDAvis_load_lib(\"https://cdn.jsdelivr.net/gh/bmabey/pyLDAvis@3.2.2/pyLDAvis/js/ldavis.v3.0.0.js\", function(){\n        new LDAvis(\"#\" + \"ldavis_el21405276652167900126633\", ldavis_el21405276652167900126633_data);\n      });\n    });\n}else{\n    // require.js not available: dynamically load d3 & LDAvis\n    LDAvis_load_lib(\"https://d3js.org/d3.v5.js\", function(){\n         LDAvis_load_lib(\"https://cdn.jsdelivr.net/gh/bmabey/pyLDAvis@3.2.2/pyLDAvis/js/ldavis.v3.0.0.js\", function(){\n                 new LDAvis(\"#\" + \"ldavis_el21405276652167900126633\", ldavis_el21405276652167900126633_data);\n            })\n         });\n}\n</script>"
     },
     "metadata": {},
     "execution_count": 233
    }
   ],
   "source": [
    "lda_display = pyLDAvis.gensim.prepare(model3, corpus3, dictionary3, sort_topics=False)\n",
    "pyLDAvis.display(lda_display)"
   ]
  },
  {
   "cell_type": "code",
   "execution_count": 219,
   "metadata": {},
   "outputs": [
    {
     "output_type": "stream",
     "name": "stderr",
     "text": [
      "C:\\Users\\surya\\AppData\\Local\\Programs\\Python\\Python38-32\\lib\\site-packages\\ipykernel\\ipkernel.py:283: DeprecationWarning: `should_run_async` will not call `transform_cell` automatically in the future. Please pass the result to `transformed_cell` argument and any exception that happen during thetransform in `preprocessing_exc_tuple` in IPython 7.17 and above.\n  and should_run_async(code)\n"
     ]
    }
   ],
   "source": [
    "new_tokens1 = []\n",
    "for i in range(0 , 4120,5):\n",
    "    new_tokens1.append(obj.tokens.iloc[i] + obj.tokens.iloc[i+1] + obj.tokens.iloc[i+2] + obj.tokens.iloc[i+3] + obj.tokens.iloc[i+4])"
   ]
  },
  {
   "cell_type": "code",
   "execution_count": 215,
   "metadata": {},
   "outputs": [
    {
     "output_type": "stream",
     "name": "stderr",
     "text": [
      "C:\\Users\\surya\\AppData\\Local\\Programs\\Python\\Python38-32\\lib\\site-packages\\ipykernel\\ipkernel.py:283: DeprecationWarning: `should_run_async` will not call `transform_cell` automatically in the future. Please pass the result to `transformed_cell` argument and any exception that happen during thetransform in `preprocessing_exc_tuple` in IPython 7.17 and above.\n  and should_run_async(code)\n"
     ]
    },
    {
     "output_type": "execute_result",
     "data": {
      "text/plain": [
       "['hi', 'guy']"
      ]
     },
     "metadata": {},
     "execution_count": 215
    }
   ],
   "source": [
    "obj.tokens.iloc[1]"
   ]
  },
  {
   "cell_type": "code",
   "execution_count": 266,
   "metadata": {},
   "outputs": [
    {
     "output_type": "stream",
     "name": "stderr",
     "text": [
      "C:\\Users\\surya\\AppData\\Local\\Programs\\Python\\Python38-32\\lib\\site-packages\\ipykernel\\ipkernel.py:283: DeprecationWarning: `should_run_async` will not call `transform_cell` automatically in the future. Please pass the result to `transformed_cell` argument and any exception that happen during thetransform in `preprocessing_exc_tuple` in IPython 7.17 and above.\n",
      "  and should_run_async(code)\n",
      "(0, '0.013*\"yeah\" + 0.011*\"guy\" + 0.009*\"join\" + 0.008*\"start\" + 0.008*\"hai\"')\n",
      "(1, '0.018*\"year\" + 0.015*\"cse\" + 0.012*\"everyone\" + 0.011*\"get\" + 0.009*\"core\"')\n",
      "(2, '0.015*\"team\" + 0.011*\"meet\" + 0.010*\"link\" + 0.010*\"start\" + 0.010*\"join\"')\n",
      "(3, '0.016*\"get\" + 0.010*\"send\" + 0.008*\"guy\" + 0.008*\"one\" + 0.007*\"u\"')\n",
      "(4, '0.011*\"class\" + 0.008*\"add\" + 0.006*\"yeah\" + 0.006*\"get\" + 0.006*\"na\"')\n"
     ]
    }
   ],
   "source": [
    "dictionary4 = corpora.Dictionary(new_tokens1)\n",
    "corpus4 = [dictionary4.doc2bow(text) for text in new_tokens1]\n",
    "\n",
    "model4 = LdaModel(corpus4,num_topics = 5,id2word = dictionary4,passes=15)\n",
    "\n",
    "topics = model4.print_topics(num_words=5)\n",
    "for topic in topics:\n",
    "    print(topic)"
   ]
  },
  {
   "cell_type": "code",
   "execution_count": 267,
   "metadata": {},
   "outputs": [
    {
     "output_type": "stream",
     "name": "stderr",
     "text": [
      "C:\\Users\\surya\\AppData\\Local\\Programs\\Python\\Python38-32\\lib\\site-packages\\ipykernel\\ipkernel.py:283: DeprecationWarning: `should_run_async` will not call `transform_cell` automatically in the future. Please pass the result to `transformed_cell` argument and any exception that happen during thetransform in `preprocessing_exc_tuple` in IPython 7.17 and above.\n  and should_run_async(code)\n"
     ]
    },
    {
     "output_type": "execute_result",
     "data": {
      "text/plain": [
       "<IPython.core.display.HTML object>"
      ],
      "text/html": "\n<link rel=\"stylesheet\" type=\"text/css\" href=\"https://cdn.jsdelivr.net/gh/bmabey/pyLDAvis@3.2.2/pyLDAvis/js/ldavis.v1.0.0.css\">\n\n\n<div id=\"ldavis_el21405975057202893549799\"></div>\n<script type=\"text/javascript\">\n\nvar ldavis_el21405975057202893549799_data = {\"mdsDat\": {\"x\": [-0.007350831590250095, -0.0067984032467149555, 0.15189367428833747, -0.058039672542572106, -0.07970476690880025], \"y\": [0.009634929503824214, -0.1443831896300721, 0.04099259461390094, 0.015486073813773354, 0.07826959169857356], \"topics\": [1, 2, 3, 4, 5], \"cluster\": [1, 1, 1, 1, 1], \"Freq\": [13.17400080407006, 24.985627095868576, 29.749225400418787, 16.172823242962604, 15.918323456679973]}, \"tinfo\": {\"Term\": [\"year\", \"cse\", \"join\", \"core\", \"start\", \"class\", \"session\", \"yeah\", \"hello\", \"domain\", \"st\", \"nd\", \"meet\", \"pm\", \"forward\", \"get\", \"git\", \"send\", \"acknowledge\", \"add\", \"everyone\", \"okay\", \"pls\", \"method\", \"team\", \"congrats\", \"wait\", \"look\", \"link\", \"file\", \"parent\", \"unstable\", \"trick\", \"tougher\", \"stronger\", \"surprise\", \"seriously\", \"vitstudent\", \"master\", \"msg\", \"kon\", \"arbitrary\", \"differentiate\", \"locally\", \"halp\", \"dt\", \"kaisa\", \"podcast\", \"mains\", \"political\", \"hemanth\", \"rate\", \"recieve\", \"padhna\", \"specs\", \"cam\", \"khat\", \"refreshments\", \"tuesday\", \"mithun\", \"record\", \"refer\", \"fork\", \"okay\", \"hota\", \"ac\", \"consume\", \"radio\", \"carbocation\", \"news\", \"cool\", \"clone\", \"participant\", \"v\", \"someone\", \"yeah\", \"repo\", \"pls\", \"yet\", \"issue\", \"g\", \"join\", \"start\", \"sign\", \"guy\", \"hai\", \"f\", \"right\", \"certificate\", \"push\", \"u\", \"git\", \"make\", \"wait\", \"please\", \"one\", \"thank\", \"take\", \"ok\", \"time\", \"yes\", \"session\", \"nahi\", \"meet\", \"work\", \"get\", \"add\", \"na\", \"b\", \"use\", \"cse\", \"forward\", \"hello\", \"year\", \"pen\", \"ece\", \"satisfy\", \"core\", \"direction\", \"committee\", \"iot\", \"film\", \"plz\", \"readme\", \"grind\", \"moles\", \"yr\", \"bioinformatics\", \"bangalore\", \"kolkata\", \"mis\", \"nd\", \"hall\", \"ticket\", \"st\", \"net\", \"adg\", \"dl\", \"vm\", \"liquid\", \"member\", \"force\", \"merge\", \"look\", \"excite\", \"c\", \"everyone\", \"domain\", \"b\", \"hey\", \"technical\", \"tech\", \"rd\", \"ready\", \"pull\", \"next\", \"management\", \"hai\", \"get\", \"kya\", \"na\", \"welcome\", \"work\", \"guy\", \"make\", \"check\", \"u\", \"know\", \"go\", \"team\", \"first\", \"use\", \"anyone\", \"require\", \"rotor\", \"poster\", \"introductory\", \"story\", \"nov\", \"freshers\", \"orientation\", \"stories\", \"pitch\", \"plan\", \"schedule\", \"acknowledge\", \"instagram\", \"recruitments\", \"hand\", \"recruitment\", \"vscode\", \"juniors\", \"march\", \"back\", \"club\", \"facebook\", \"build\", \"throw\", \"explore\", \"examinations\", \"blog\", \"edc\", \"february\", \"session\", \"platform\", \"handle\", \"pm\", \"fill\", \"meet\", \"vit\", \"members\", \"link\", \"share\", \"join\", \"team\", \"interest\", \"start\", \"whatsapp\", \"learn\", \"idea\", \"open\", \"media\", \"code\", \"also\", \"round\", \"form\", \"please\", \"event\", \"thank\", \"project\", \"soon\", \"follow\", \"need\", \"group\", \"guy\", \"design\", \"us\", \"make\", \"help\", \"time\", \"domain\", \"get\", \"everyone\", \"work\", \"go\", \"root\", \"congrats\", \"paste\", \"machine\", \"bbs\", \"method\", \"vim\", \"slope\", \"summation\", \"roman\", \"ab\", \"candidates\", \"torque\", \"infinity\", \"enter\", \"situations\", \"cc\", \"dimension\", \"seperate\", \"screw\", \"resistor\", \"jai\", \"km\", \"aata\", \"angoor\", \"essay\", \"narrative\", \"performance\", \"amonst\", \"comers\", \"size\", \"total\", \"damn\", \"kiya\", \"x\", \"formula\", \"weird\", \"letter\", \"product\", \"send\", \"git\", \"write\", \"step\", \"get\", \"energy\", \"like\", \"case\", \"one\", \"wait\", \"ok\", \"yes\", \"hain\", \"pls\", \"congratulations\", \"u\", \"guy\", \"time\", \"give\", \"use\", \"solve\", \"yeah\", \"answer\", \"even\", \"take\", \"thank\", \"right\", \"go\", \"work\", \"na\", \"team\", \"hai\", \"locus\", \"absent\", \"electron\", \"po\", \"doc\", \"integration\", \"construction\", \"radical\", \"compare\", \"cod\", \"node\", \"conjugate\", \"plane\", \"class\", \"ignore\", \"sub\", \"payment\", \"justify\", \"shashank\", \"india\", \"kitno\", \"mayank\", \"unexpected\", \"competitive\", \"confirmation\", \"gitignore\", \"nitrogen\", \"equilateral\", \"license\", \"comparison\", \"nhi\", \"pair\", \"lone\", \"file\", \"similar\", \"wrong\", \"add\", \"fine\", \"mark\", \"steric\", \"point\", \"h\", \"circle\", \"slide\", \"still\", \"commit\", \"toh\", \"understand\", \"oh\", \"ask\", \"group\", \"yes\", \"give\", \"yeah\", \"na\", \"name\", \"work\", \"answer\", \"sir\", \"u\", \"hai\", \"get\", \"make\", \"form\", \"use\", \"time\", \"right\", \"want\", \"project\", \"one\"], \"Freq\": [96.0, 73.0, 82.0, 52.0, 87.0, 41.0, 61.0, 88.0, 38.0, 73.0, 51.0, 41.0, 82.0, 69.0, 28.0, 164.0, 36.0, 70.0, 39.0, 50.0, 98.0, 30.0, 48.0, 18.0, 132.0, 15.0, 36.0, 40.0, 82.0, 25.0, 3.8856911463313746, 3.2258569530650707, 2.4599953760018884, 2.4598663436256105, 2.459067927763125, 2.450260384090573, 2.436620480740955, 2.3606987575386253, 3.9682578126379067, 4.564419686515709, 1.6911119294636698, 1.691103257531081, 1.691103257531081, 1.6910980244683118, 1.6910730552830993, 1.6907806018323464, 1.6906348236552071, 1.6906603909047362, 1.690629441076359, 1.6906268993030138, 1.6904784298364506, 1.6904301361428957, 1.6896626701087876, 1.689783329584635, 1.6895627933679374, 1.689383673105155, 1.6889796806593804, 1.688985511786466, 1.6885146856533262, 1.688280692989508, 6.979090608777954, 5.900895474534031, 7.406278979066649, 17.205150140024475, 3.2133367756319613, 3.166819333097042, 2.186913677007449, 2.1862783831872803, 3.1216666733323044, 7.1792782851721855, 8.619726956544238, 4.291508585367542, 3.0796741854157856, 3.9067504860750213, 8.842916186549846, 32.66692844399971, 7.0007865879864815, 17.411996664518266, 5.237777310105998, 7.529252963818899, 5.495276891883089, 22.66357311259814, 21.76824451601489, 5.455271771690195, 28.995784797333133, 21.13875072358735, 5.584082266106861, 15.247794479928707, 5.25514569592056, 6.912518873583213, 19.700628522406358, 10.391258650934397, 19.261280906499543, 9.593609506902675, 11.567947801328883, 12.59541631637858, 14.125338997880217, 11.363830842375453, 10.90490738526199, 11.477098243271419, 9.572060053451683, 9.741184269248542, 8.046542713705154, 9.343296864016589, 9.068048527519663, 9.058261204980655, 7.956352820588756, 8.17220679175288, 7.603339975214382, 7.563950861267451, 73.12385497199963, 27.203571317969466, 36.11006870724378, 89.3543515294798, 6.960447527866468, 6.10896301944072, 5.237070536570922, 45.94071431408388, 5.961633028968507, 16.287363709478402, 4.412459684910518, 4.412263170816897, 4.411557648356681, 14.684907823317497, 4.3508410319704, 3.5660533502056473, 3.565386393281842, 3.564672647288127, 3.5633821196689786, 3.563165755666911, 3.561573793009495, 34.632838520649216, 3.545981406354585, 3.54566834494137, 42.63222685376829, 6.906442165525975, 14.518764089619614, 6.114219275197375, 8.12203751456905, 2.717118137164682, 15.309491431131825, 22.32023068703855, 8.557092495114697, 27.930797100940342, 14.377371490333893, 24.07430017391444, 58.53517950483117, 44.89645940477, 22.98655921945628, 30.74226100224126, 23.903826891614237, 11.07794579679429, 9.32865730215282, 10.371809690837546, 17.54202537976507, 12.553128607117648, 19.492517083543017, 39.69519356591478, 52.348174018201625, 15.21688196684442, 31.140804061190266, 14.115482006814046, 29.422738905395025, 37.718843669973595, 31.272373791496136, 20.140306935752122, 29.68911787106525, 20.91090079869709, 20.970078480038516, 23.797002624318118, 18.927964135993083, 19.86202483069685, 18.500526416028748, 10.983868671058648, 11.725288792477857, 7.427793674447244, 7.425820542703712, 6.504340332505323, 7.313639697293221, 6.463748650312583, 13.61835541466572, 5.60505481571775, 5.602510070004026, 11.946102627658691, 12.670109625097593, 34.83508856320913, 13.394978263913892, 5.505869494059575, 4.702370677415736, 4.699382618563878, 7.813093227930591, 7.0053915461355745, 8.48988011703216, 13.117373078324256, 23.92599294180587, 7.643751660768483, 5.33524120460544, 3.8066998677544897, 3.8002007553432566, 3.8003807141419053, 3.7888228349761657, 3.7697698237819077, 3.768905818968133, 51.3613188613021, 9.762515652965797, 9.744640645990085, 55.706606039274014, 30.01368375014844, 62.910084616360336, 23.809028501162256, 17.746113258757457, 59.062637079612024, 29.778323301682473, 57.931601769879585, 87.26560173319211, 15.390738222615386, 58.467791205072615, 12.854061955960866, 36.193570185872225, 18.661727419860686, 15.149758197705314, 15.105653773784356, 12.15139611376583, 38.46270950591591, 16.991046655680126, 34.5115165658311, 36.21948425287763, 27.436738579183938, 46.97468910363615, 21.14506700482643, 22.285422357106516, 20.938432437390524, 31.189124653123404, 32.45299589169247, 52.55487314069339, 25.747097653095476, 23.530964133647366, 40.511541441431625, 22.711586400867606, 34.06762539868493, 27.768870267862795, 33.369204288228374, 27.239673903284423, 24.13336760246248, 22.82696801440416, 6.516598434654132, 14.35751519727631, 4.1386036204674985, 4.138419702662284, 4.137978446770331, 15.607683446123188, 4.047874874677069, 3.3442240740974567, 3.343033931333972, 3.3420970885417405, 3.340304165266953, 3.335813413747609, 3.3335542716851516, 3.332744078878547, 3.332565300493039, 3.3309728145868087, 3.3303854523346264, 2.547955790985241, 2.547890814036093, 2.547785272381404, 2.5476487106577714, 2.547411196047045, 2.5467904275667697, 2.5458209127492606, 2.5428747404024534, 2.5433569281013546, 2.542057939770512, 2.5414770017929627, 2.540923045768873, 2.540877341643625, 4.933387345487322, 4.857022543574019, 7.146879246603757, 4.827991797158485, 11.9987682440937, 7.3447402974824465, 4.130597872970249, 5.68501426192662, 4.136385960864101, 32.713325654421546, 18.673580777604194, 13.065554655781007, 6.936496366711349, 51.29895627678954, 9.820232840314508, 22.01681588050954, 8.565073480729708, 23.684517928348598, 13.885456560414013, 20.477265997257316, 17.37148383204185, 5.735568898073387, 14.802168979857393, 12.122976271157134, 23.149376585601885, 26.65121564905848, 20.171681975125516, 16.833790400309404, 17.141077772972533, 8.222003999663611, 16.691037878538936, 12.457887290540413, 12.001654395360363, 14.311990217515264, 14.52886491869992, 12.1983172272446, 12.279677178011308, 13.351482600143514, 12.102395832043468, 13.1716616466378, 10.825927704152297, 7.424943107253952, 5.814969920665951, 5.011088077347543, 4.997833606912667, 4.195610966174117, 4.192161400183283, 3.395651301428087, 3.3948238680857794, 3.3924188915240334, 3.3914761956331687, 3.3778596779454584, 3.364752627948863, 7.345033280564854, 33.88354134263063, 5.804117536195993, 5.797975017934322, 2.586597638395653, 2.5856713827742532, 2.5856301917694395, 2.585471750930749, 2.585200034828821, 2.5846549766642486, 2.5844260775278505, 2.5748797008377045, 2.5620606265502004, 2.5572569966072716, 4.444654310549123, 2.5253444462902683, 5.002278260861892, 2.5128324979158476, 4.995491862156556, 7.396172997014699, 4.945014092380557, 16.495024595494765, 4.188287639107791, 15.882674782041146, 24.884662480780694, 11.049786218009135, 8.124636639791706, 3.105609538253255, 13.777359167067686, 10.76589058634201, 6.634461709510284, 7.344156707076453, 11.75728652993287, 6.202971481104104, 10.70430714354891, 5.910413814714212, 12.350755687548524, 11.71682756876626, 18.071108063534712, 16.346407450127444, 17.763223368783535, 19.615633440693813, 18.757402234471535, 10.607352190008278, 18.738215898018904, 13.315200428954792, 10.592799480272568, 17.236945411809284, 16.770569292922847, 18.885491806457562, 15.954485879064533, 12.265457065720923, 13.065717352537172, 12.51901732896588, 11.210012000241809, 9.652840261955737, 9.428394089972688, 9.67146004142988], \"Total\": [96.0, 73.0, 82.0, 52.0, 87.0, 41.0, 61.0, 88.0, 38.0, 73.0, 51.0, 41.0, 82.0, 69.0, 28.0, 164.0, 36.0, 70.0, 39.0, 50.0, 98.0, 30.0, 48.0, 18.0, 132.0, 15.0, 36.0, 40.0, 82.0, 25.0, 4.679818881386485, 3.9011300586552213, 3.1321705209590895, 3.132157002284834, 3.132229980938242, 3.132681087135818, 3.1342410910992964, 3.137029782584431, 5.523354439541585, 6.374460772067073, 2.3632879344252005, 2.363282179248465, 2.363282477732274, 2.3632787897252827, 2.3632613774785214, 2.3633214838826118, 2.363314672874933, 2.36335331409897, 2.3633291530551856, 2.3633323362102723, 2.36338398119065, 2.363331012133177, 2.3633004297527687, 2.3634940690224155, 2.3634500071570197, 2.363406685363263, 2.3632302665591296, 2.363413059948216, 2.363452664495259, 2.363553807527003, 10.164630272639354, 8.661340242108583, 11.939479282276075, 30.927596853382113, 4.807385842789306, 4.752493689244986, 3.1602692982432874, 3.160337928441255, 4.760682898140924, 12.723407768431764, 16.122703686414415, 7.133181545738203, 4.822461080530564, 6.4966167926900775, 17.69821284445152, 88.37185681887195, 14.35085860893152, 48.34211396882593, 10.223786315264281, 16.791074398138875, 11.307347807730453, 82.72856065936763, 87.84424202039236, 11.363312205377044, 153.5505162389361, 106.0460820528781, 12.050730109560835, 63.74893328289101, 11.156960203103125, 17.768584448717068, 110.65577551163813, 36.84493934293922, 113.13664510217166, 36.39159894492332, 61.00949424121937, 74.39860496898127, 97.73940665795412, 68.25909655511988, 67.3336515085189, 94.94873166237528, 57.765694401868984, 61.653352987265606, 34.91234870092789, 82.69999904909501, 94.71385353353959, 164.96008759465775, 50.354201315389204, 86.77007601192349, 35.44076649829782, 74.93970087435426, 73.86414182578362, 28.761447043074675, 38.285900171729246, 96.77584450292383, 7.619829384844084, 6.770587619206209, 5.921299122114071, 52.09625758979811, 6.763012751304535, 18.53975079302945, 5.0718409400917634, 5.071818601239621, 5.071610793810785, 16.98890228976572, 5.067051999930764, 4.222585182236167, 4.222532798824347, 4.222531375323899, 4.222506601830564, 4.222578606352667, 4.22239711094277, 41.10073571377806, 4.221492139479702, 4.221499361107527, 51.634952844941125, 8.38858145099694, 17.97153899052046, 7.578674224271215, 10.081027986490716, 3.3732305118191728, 19.723708555620735, 29.804971335437422, 10.921291373503841, 40.75797185075533, 19.587154113824177, 34.90349118322385, 98.37414713881758, 73.86295776288155, 35.44076649829782, 53.520910490581485, 39.65443232493207, 15.757434443440056, 12.892674125250167, 14.968180598912523, 31.173767298509738, 19.789405626790412, 37.48026786860081, 106.0460820528781, 164.96008759465775, 26.51842371901761, 86.77007601192349, 25.19577178064511, 94.71385353353959, 153.5505162389361, 113.13664510217166, 49.11624315515367, 110.65577551163813, 56.55387794669156, 66.16163228707373, 132.32107697954677, 49.47282310848212, 74.93970087435426, 53.50611543320649, 11.696785231079344, 12.580929003682291, 8.077055625199003, 8.076711998216716, 7.168384617326061, 8.064527040359527, 7.163655175153592, 15.171420034702951, 6.262620057357843, 6.261926935344923, 13.376762037983525, 14.289960366221905, 39.44795029847246, 15.176558899938746, 6.250459648663465, 5.356230060670227, 5.356147487831329, 8.919889687306224, 8.025169897670661, 9.799972184016013, 15.163456924591902, 27.693482890021507, 8.899303903896485, 6.233266243488328, 4.451374489727833, 4.4506424063073595, 4.450985254595453, 4.449078440467198, 4.44677233014759, 4.446792181947026, 61.653352987265606, 11.560663909721846, 11.605837992513113, 69.68125780209796, 37.10520864475984, 82.69999904909501, 30.087756371794118, 22.298699375804883, 82.35777974373975, 39.45107877404489, 82.72856065936763, 132.32107697954677, 19.36907937531538, 87.84424202039236, 15.97109402099832, 53.630718280805326, 24.75288128401107, 19.45650149464658, 19.407967394674312, 15.089890442765402, 61.956231948951455, 22.840487823874916, 56.9549196375803, 61.00949424121937, 44.61504668299803, 97.73940665795412, 32.249939469538454, 35.11008611968327, 31.972064409621133, 60.94683276351837, 65.62699410467054, 153.5505162389361, 47.655364638891974, 41.1690583833451, 113.13664510217166, 39.28287802003179, 94.94873166237528, 73.86295776288155, 164.96008759465775, 98.37414713881758, 94.71385353353959, 66.16163228707373, 7.196649554455556, 15.94910433536487, 4.807689195900304, 4.807554407540566, 4.807298468153052, 18.482900211199635, 4.815517022862887, 4.011015875016038, 4.0111245644071465, 4.01121236123388, 4.010859064759508, 4.011159209571665, 4.011173240660737, 4.011535488707066, 4.0125394774296295, 4.011583666957692, 4.012179141768036, 3.2146324255012293, 3.2146445358764897, 3.2146243004791675, 3.2146771585408063, 3.2146856023000145, 3.2147269484215926, 3.214610607557996, 3.2144375618241097, 3.215048537135716, 3.2151026183621028, 3.2150715547564777, 3.214719192502035, 3.214700695517478, 6.509691637279512, 6.412856257650763, 9.730752925604428, 6.459508033394523, 17.653332463980735, 10.435915387994854, 5.576395999320082, 8.114492605500065, 5.6556779489356295, 70.55210996328421, 36.84493934293922, 25.164330330499414, 11.377511234587955, 164.96008759465775, 18.317886971230124, 58.49157271028174, 15.488641982378452, 74.39860496898127, 36.39159894492332, 67.3336515085189, 57.765694401868984, 9.63549192169106, 48.34211396882593, 34.62160280497804, 110.65577551163813, 153.5505162389361, 94.94873166237528, 70.95301616468556, 74.93970087435426, 18.96730593049775, 88.37185681887195, 48.35212535507007, 45.75010505306759, 68.25909655511988, 97.73940665795412, 63.74893328289101, 66.16163228707373, 94.71385353353959, 86.77007601192349, 132.32107697954677, 106.0460820528781, 8.10318550748049, 6.485740737536628, 5.677048707491225, 5.676650183183777, 4.868660226413009, 4.869450246583809, 4.059883065316445, 4.059804486003959, 4.059889798815197, 4.059869342238672, 4.061579327199213, 4.060771200868993, 8.95482352103192, 41.39418896371086, 7.280776199001849, 7.28223764969075, 3.251292474340642, 3.251284371100025, 3.2513441730659522, 3.251280518215811, 3.2512654420101037, 3.2513137852275857, 3.251294223418348, 3.2519634117846357, 3.2524266968338345, 3.253228105086078, 5.722771966883343, 3.2542194637697284, 6.4735805977521785, 3.2596959678699875, 6.525116702068394, 9.749828348749636, 6.585305265357137, 25.183497345929997, 5.71629002778381, 26.957142951373786, 50.354201315389204, 18.886371707673145, 13.187612577049538, 4.094462309107752, 29.02232408334814, 21.330074356110632, 11.380575567236619, 13.293619233201337, 28.359500617443004, 10.4586192504978, 24.841603782196408, 10.01181538407819, 33.91392592242063, 31.40599469534384, 65.62699410467054, 57.765694401868984, 70.95301616468556, 88.37185681887195, 86.77007601192349, 29.696576283323033, 94.71385353353959, 48.35212535507007, 31.244592248099135, 110.65577551163813, 106.0460820528781, 164.96008759465775, 113.13664510217166, 56.9549196375803, 74.93970087435426, 94.94873166237528, 63.74893328289101, 35.54819109685549, 32.249939469538454, 74.39860496898127], \"Category\": [\"Default\", \"Default\", \"Default\", \"Default\", \"Default\", \"Default\", \"Default\", \"Default\", \"Default\", \"Default\", \"Default\", \"Default\", \"Default\", \"Default\", \"Default\", \"Default\", \"Default\", \"Default\", \"Default\", \"Default\", \"Default\", \"Default\", \"Default\", \"Default\", \"Default\", \"Default\", \"Default\", \"Default\", \"Default\", \"Default\", \"Topic1\", \"Topic1\", \"Topic1\", \"Topic1\", \"Topic1\", \"Topic1\", \"Topic1\", \"Topic1\", \"Topic1\", \"Topic1\", \"Topic1\", \"Topic1\", \"Topic1\", \"Topic1\", \"Topic1\", \"Topic1\", \"Topic1\", \"Topic1\", \"Topic1\", \"Topic1\", \"Topic1\", \"Topic1\", \"Topic1\", \"Topic1\", \"Topic1\", \"Topic1\", \"Topic1\", \"Topic1\", \"Topic1\", \"Topic1\", \"Topic1\", \"Topic1\", \"Topic1\", \"Topic1\", \"Topic1\", \"Topic1\", \"Topic1\", \"Topic1\", \"Topic1\", \"Topic1\", \"Topic1\", \"Topic1\", \"Topic1\", \"Topic1\", \"Topic1\", \"Topic1\", \"Topic1\", \"Topic1\", \"Topic1\", \"Topic1\", \"Topic1\", \"Topic1\", \"Topic1\", \"Topic1\", \"Topic1\", \"Topic1\", \"Topic1\", \"Topic1\", \"Topic1\", \"Topic1\", \"Topic1\", \"Topic1\", \"Topic1\", \"Topic1\", \"Topic1\", \"Topic1\", \"Topic1\", \"Topic1\", \"Topic1\", \"Topic1\", \"Topic1\", \"Topic1\", \"Topic1\", \"Topic1\", \"Topic1\", \"Topic1\", \"Topic1\", \"Topic1\", \"Topic1\", \"Topic1\", \"Topic2\", \"Topic2\", \"Topic2\", \"Topic2\", \"Topic2\", \"Topic2\", \"Topic2\", \"Topic2\", \"Topic2\", \"Topic2\", \"Topic2\", \"Topic2\", \"Topic2\", \"Topic2\", \"Topic2\", \"Topic2\", \"Topic2\", \"Topic2\", \"Topic2\", \"Topic2\", \"Topic2\", \"Topic2\", \"Topic2\", \"Topic2\", \"Topic2\", \"Topic2\", \"Topic2\", \"Topic2\", \"Topic2\", \"Topic2\", \"Topic2\", \"Topic2\", \"Topic2\", \"Topic2\", \"Topic2\", \"Topic2\", \"Topic2\", \"Topic2\", \"Topic2\", \"Topic2\", \"Topic2\", \"Topic2\", \"Topic2\", \"Topic2\", \"Topic2\", \"Topic2\", \"Topic2\", \"Topic2\", \"Topic2\", \"Topic2\", \"Topic2\", \"Topic2\", \"Topic2\", \"Topic2\", \"Topic2\", \"Topic2\", \"Topic2\", \"Topic2\", \"Topic2\", \"Topic2\", \"Topic2\", \"Topic2\", \"Topic2\", \"Topic3\", \"Topic3\", \"Topic3\", \"Topic3\", \"Topic3\", \"Topic3\", \"Topic3\", \"Topic3\", \"Topic3\", \"Topic3\", \"Topic3\", \"Topic3\", \"Topic3\", \"Topic3\", \"Topic3\", \"Topic3\", \"Topic3\", \"Topic3\", \"Topic3\", \"Topic3\", \"Topic3\", \"Topic3\", \"Topic3\", \"Topic3\", \"Topic3\", \"Topic3\", \"Topic3\", \"Topic3\", \"Topic3\", \"Topic3\", \"Topic3\", \"Topic3\", \"Topic3\", \"Topic3\", \"Topic3\", \"Topic3\", \"Topic3\", \"Topic3\", \"Topic3\", \"Topic3\", \"Topic3\", \"Topic3\", \"Topic3\", \"Topic3\", \"Topic3\", \"Topic3\", \"Topic3\", \"Topic3\", \"Topic3\", \"Topic3\", \"Topic3\", \"Topic3\", \"Topic3\", \"Topic3\", \"Topic3\", \"Topic3\", \"Topic3\", \"Topic3\", \"Topic3\", \"Topic3\", \"Topic3\", \"Topic3\", \"Topic3\", \"Topic3\", \"Topic3\", \"Topic3\", \"Topic3\", \"Topic3\", \"Topic3\", \"Topic3\", \"Topic3\", \"Topic3\", \"Topic4\", \"Topic4\", \"Topic4\", \"Topic4\", \"Topic4\", \"Topic4\", \"Topic4\", \"Topic4\", \"Topic4\", \"Topic4\", \"Topic4\", \"Topic4\", \"Topic4\", \"Topic4\", \"Topic4\", \"Topic4\", \"Topic4\", \"Topic4\", \"Topic4\", \"Topic4\", \"Topic4\", \"Topic4\", \"Topic4\", \"Topic4\", \"Topic4\", \"Topic4\", \"Topic4\", \"Topic4\", \"Topic4\", \"Topic4\", \"Topic4\", \"Topic4\", \"Topic4\", \"Topic4\", \"Topic4\", \"Topic4\", \"Topic4\", \"Topic4\", \"Topic4\", \"Topic4\", \"Topic4\", \"Topic4\", \"Topic4\", \"Topic4\", \"Topic4\", \"Topic4\", \"Topic4\", \"Topic4\", \"Topic4\", \"Topic4\", \"Topic4\", \"Topic4\", \"Topic4\", \"Topic4\", \"Topic4\", \"Topic4\", \"Topic4\", \"Topic4\", \"Topic4\", \"Topic4\", \"Topic4\", \"Topic4\", \"Topic4\", \"Topic4\", \"Topic4\", \"Topic4\", \"Topic4\", \"Topic4\", \"Topic4\", \"Topic4\", \"Topic4\", \"Topic5\", \"Topic5\", \"Topic5\", \"Topic5\", \"Topic5\", \"Topic5\", \"Topic5\", \"Topic5\", \"Topic5\", \"Topic5\", \"Topic5\", \"Topic5\", \"Topic5\", \"Topic5\", \"Topic5\", \"Topic5\", \"Topic5\", \"Topic5\", \"Topic5\", \"Topic5\", \"Topic5\", \"Topic5\", \"Topic5\", \"Topic5\", \"Topic5\", \"Topic5\", \"Topic5\", \"Topic5\", \"Topic5\", \"Topic5\", \"Topic5\", \"Topic5\", \"Topic5\", \"Topic5\", \"Topic5\", \"Topic5\", \"Topic5\", \"Topic5\", \"Topic5\", \"Topic5\", \"Topic5\", \"Topic5\", \"Topic5\", \"Topic5\", \"Topic5\", \"Topic5\", \"Topic5\", \"Topic5\", \"Topic5\", \"Topic5\", \"Topic5\", \"Topic5\", \"Topic5\", \"Topic5\", \"Topic5\", \"Topic5\", \"Topic5\", \"Topic5\", \"Topic5\", \"Topic5\", \"Topic5\", \"Topic5\", \"Topic5\", \"Topic5\", \"Topic5\", \"Topic5\", \"Topic5\", \"Topic5\", \"Topic5\", \"Topic5\"], \"logprob\": [30.0, 29.0, 28.0, 27.0, 26.0, 25.0, 24.0, 23.0, 22.0, 21.0, 20.0, 19.0, 18.0, 17.0, 16.0, 15.0, 14.0, 13.0, 12.0, 11.0, 10.0, 9.0, 8.0, 7.0, 6.0, 5.0, 4.0, 3.0, 2.0, 1.0, -6.4938, -6.6799, -6.951, -6.951, -6.9514, -6.9549, -6.9605, -6.9922, -6.4728, -6.3329, -7.3258, -7.3258, -7.3258, -7.3258, -7.3258, -7.326, -7.326, -7.326, -7.326, -7.326, -7.3261, -7.3262, -7.3266, -7.3265, -7.3267, -7.3268, -7.327, -7.327, -7.3273, -7.3274, -5.9082, -6.076, -5.8488, -5.0059, -6.6838, -6.6984, -7.0687, -7.0689, -6.7128, -5.8799, -5.6971, -6.3945, -6.7263, -6.4884, -5.6715, -4.3648, -5.9051, -4.994, -6.1952, -5.8323, -6.1473, -4.7304, -4.7707, -6.1546, -4.484, -4.8, -6.1312, -5.1267, -6.1919, -5.9178, -4.8705, -5.5102, -4.893, -5.59, -5.4029, -5.3178, -5.2032, -5.4207, -5.4619, -5.4108, -5.5923, -5.5748, -5.7659, -5.6165, -5.6464, -5.6475, -5.7772, -5.7504, -5.8226, -5.8277, -4.199, -5.1878, -4.9046, -3.9986, -6.551, -6.6814, -6.8354, -4.6638, -6.7059, -5.7008, -7.0068, -7.0068, -7.007, -5.8044, -7.0208, -7.2197, -7.2199, -7.2201, -7.2205, -7.2205, -7.221, -4.9464, -7.2254, -7.2255, -4.7386, -6.5587, -5.8158, -6.6806, -6.3966, -7.4916, -5.7627, -5.3857, -6.3444, -5.1615, -5.8255, -5.3101, -4.4216, -4.6868, -5.3563, -5.0656, -5.3172, -6.0862, -6.2581, -6.1521, -5.6266, -5.9612, -5.5212, -4.81, -4.5333, -5.7688, -5.0527, -5.8439, -5.1094, -4.861, -5.0485, -5.4885, -5.1004, -5.4509, -5.4481, -5.3216, -5.5506, -5.5024, -5.5734, -6.2693, -6.204, -6.6605, -6.6607, -6.7932, -6.676, -6.7995, -6.0543, -6.942, -6.9425, -6.1853, -6.1265, -5.1151, -6.0708, -6.9599, -7.1176, -7.1183, -6.6099, -6.719, -6.5268, -6.0918, -5.4907, -6.6318, -6.9914, -7.3289, -7.3306, -7.3306, -7.3336, -7.3387, -7.3389, -4.7268, -6.3871, -6.389, -4.6456, -5.264, -4.524, -5.4956, -5.7895, -4.5871, -5.2719, -4.6064, -4.1967, -5.9319, -4.5972, -6.112, -5.0768, -5.7392, -5.9477, -5.9506, -6.1683, -5.016, -5.833, -5.1244, -5.0761, -5.3538, -4.8161, -5.6143, -5.5618, -5.6241, -5.2256, -5.1859, -4.7038, -5.4174, -5.5074, -4.9641, -5.5428, -5.1374, -5.3418, -5.1581, -5.361, -5.4821, -5.5378, -6.1819, -5.392, -6.6359, -6.6359, -6.636, -5.3085, -6.658, -6.849, -6.8494, -6.8496, -6.8502, -6.8515, -6.8522, -6.8524, -6.8525, -6.853, -6.8531, -7.1209, -7.121, -7.121, -7.1211, -7.1212, -7.1214, -7.1218, -7.1229, -7.1227, -7.1233, -7.1235, -7.1237, -7.1237, -6.4602, -6.4758, -6.0896, -6.4818, -5.5714, -6.0622, -6.6378, -6.3184, -6.6364, -4.5684, -5.1291, -5.4862, -6.1194, -4.1186, -5.7718, -4.9644, -5.9085, -4.8914, -5.4254, -5.0369, -5.2014, -6.3095, -5.3615, -5.5611, -4.9143, -4.7734, -5.0519, -5.2328, -5.2148, -5.9494, -5.2414, -5.5339, -5.5712, -5.3951, -5.3801, -5.5549, -5.5483, -5.4646, -5.5628, -5.4782, -5.6743, -6.0355, -6.2799, -6.4287, -6.4314, -6.6063, -6.6072, -6.8179, -6.8181, -6.8188, -6.8191, -6.8231, -6.827, -6.0463, -4.5174, -6.2818, -6.2829, -7.09, -7.0904, -7.0904, -7.0905, -7.0906, -7.0908, -7.0909, -7.0946, -7.0996, -7.1014, -6.5487, -7.114, -6.4305, -7.119, -6.4318, -6.0394, -6.442, -5.2373, -6.6081, -5.2751, -4.8261, -5.638, -5.9455, -6.9072, -5.4173, -5.664, -6.1481, -6.0465, -5.5759, -6.2153, -5.6697, -6.2637, -5.5267, -5.5793, -5.1461, -5.2464, -5.1632, -5.064, -5.1088, -5.6788, -5.1098, -5.4515, -5.6802, -5.1933, -5.2207, -5.102, -5.2706, -5.5336, -5.4704, -5.5131, -5.6236, -5.7731, -5.7966, -5.7712], \"loglift\": [30.0, 29.0, 28.0, 27.0, 26.0, 25.0, 24.0, 23.0, 22.0, 21.0, 20.0, 19.0, 18.0, 17.0, 16.0, 15.0, 14.0, 13.0, 12.0, 11.0, 10.0, 9.0, 8.0, 7.0, 6.0, 5.0, 4.0, 3.0, 2.0, 1.0, 1.841, 1.8369, 1.7854, 1.7853, 1.785, 1.7812, 1.7751, 1.7426, 1.6963, 1.6929, 1.6923, 1.6923, 1.6923, 1.6923, 1.6922, 1.692, 1.692, 1.692, 1.692, 1.692, 1.6918, 1.6918, 1.6914, 1.6914, 1.6913, 1.6912, 1.691, 1.6909, 1.6907, 1.6905, 1.6509, 1.6432, 1.5494, 1.4405, 1.6241, 1.621, 1.6588, 1.6584, 1.6049, 1.4547, 1.4007, 1.5188, 1.5785, 1.5183, 1.3331, 1.0317, 1.3091, 1.0058, 1.3581, 1.2249, 1.3054, 0.7321, 0.6318, 1.2931, 0.36, 0.4142, 1.2577, 0.5964, 1.2741, 1.0828, 0.3012, 0.7612, 0.2564, 0.6937, 0.3641, 0.2508, 0.0926, 0.234, 0.2065, -0.0861, 0.2294, 0.1818, 0.5593, -0.1536, -0.3192, -0.8751, 0.1818, -0.3356, 0.4876, -0.2664, 1.3768, 1.3312, 1.3284, 1.3071, 1.2964, 1.284, 1.2641, 1.2611, 1.2607, 1.2573, 1.2476, 1.2476, 1.2474, 1.2411, 1.2345, 1.2179, 1.2177, 1.2175, 1.2172, 1.2171, 1.2167, 1.2156, 1.2125, 1.2124, 1.1953, 1.1925, 1.1735, 1.1721, 1.1708, 1.1706, 1.1335, 1.0977, 1.1429, 1.0089, 1.0777, 1.0154, 0.8677, 0.889, 0.9539, 0.8324, 0.8807, 1.0345, 1.0633, 1.02, 0.8119, 0.9317, 0.7331, 0.4042, 0.2391, 0.8314, 0.3621, 0.8075, 0.2178, -0.017, 0.101, 0.4954, 0.0712, 0.3919, 0.2379, -0.3288, 0.4261, 0.059, 0.3249, 1.1495, 1.1419, 1.1286, 1.1283, 1.1152, 1.1146, 1.1096, 1.1044, 1.1014, 1.1011, 1.0993, 1.0921, 1.088, 1.0875, 1.0855, 1.0822, 1.0816, 1.0799, 1.0765, 1.0689, 1.0674, 1.0661, 1.0603, 1.0568, 1.0559, 1.0544, 1.0543, 1.0517, 1.0472, 1.047, 1.0297, 1.0433, 1.0376, 0.9885, 1.0003, 0.9389, 0.9783, 0.984, 0.8799, 0.9311, 0.8561, 0.7961, 0.9825, 0.8053, 0.9952, 0.8191, 0.9299, 0.9622, 0.9618, 0.9958, 0.7356, 0.9165, 0.7114, 0.6909, 0.7262, 0.4797, 0.7903, 0.7578, 0.7891, 0.5424, 0.5082, 0.1402, 0.5967, 0.653, 0.1854, 0.6645, 0.1874, 0.2341, -0.3857, -0.0717, -0.1549, 0.1482, 1.7226, 1.7167, 1.672, 1.672, 1.6719, 1.6528, 1.6482, 1.64, 1.6396, 1.6393, 1.6389, 1.6375, 1.6368, 1.6365, 1.6362, 1.6359, 1.6356, 1.5894, 1.5894, 1.5894, 1.5893, 1.5892, 1.5889, 1.5886, 1.5875, 1.5875, 1.587, 1.5867, 1.5866, 1.5866, 1.5446, 1.544, 1.5132, 1.5307, 1.4357, 1.4706, 1.5217, 1.466, 1.509, 1.0533, 1.1422, 1.1664, 1.327, 0.6538, 1.1984, 0.8448, 1.2294, 0.6772, 0.8583, 0.6315, 0.6203, 1.3031, 0.6383, 0.7725, 0.2574, 0.0706, 0.2728, 0.3832, 0.3466, 0.9859, 0.1552, 0.4657, 0.4837, 0.2596, -0.0843, 0.1682, 0.1377, -0.1374, -0.148, -0.4853, -0.4601, 1.7503, 1.7285, 1.7129, 1.7103, 1.6889, 1.6879, 1.659, 1.6588, 1.6581, 1.6578, 1.6534, 1.6497, 1.6395, 1.6375, 1.611, 1.6098, 1.609, 1.6086, 1.6086, 1.6086, 1.6085, 1.6082, 1.6081, 1.6042, 1.5991, 1.597, 1.5849, 1.5841, 1.5799, 1.5775, 1.5706, 1.5614, 1.5512, 1.4146, 1.5267, 1.3087, 1.1329, 1.3017, 1.3533, 1.5613, 1.0927, 1.154, 1.2981, 1.2443, 0.9572, 1.3153, 0.9958, 1.3106, 0.8276, 0.8517, 0.548, 0.5753, 0.4528, 0.3325, 0.306, 0.8082, 0.2174, 0.5481, 0.756, -0.0217, -0.0065, -0.3296, -0.1212, 0.3022, 0.091, -0.1884, 0.0996, 0.5341, 0.6079, -0.2026]}, \"token.table\": {\"Topic\": [4, 4, 5, 1, 2, 1, 2, 3, 1, 2, 3, 4, 5, 2, 3, 1, 2, 3, 4, 5, 4, 4, 1, 2, 3, 4, 5, 1, 2, 3, 4, 5, 1, 1, 2, 3, 4, 5, 1, 2, 4, 5, 3, 5, 2, 4, 2, 3, 3, 1, 2, 3, 4, 1, 4, 1, 2, 1, 2, 3, 4, 5, 4, 1, 2, 4, 5, 1, 2, 3, 5, 2, 4, 5, 1, 3, 4, 5, 1, 2, 4, 2, 3, 4, 5, 2, 3, 4, 4, 1, 2, 4, 5, 1, 2, 5, 5, 5, 5, 5, 1, 4, 1, 2, 3, 4, 5, 5, 1, 1, 3, 4, 5, 2, 3, 2, 1, 3, 4, 1, 2, 3, 4, 1, 4, 2, 2, 5, 5, 2, 3, 5, 1, 2, 3, 5, 1, 4, 5, 4, 5, 4, 1, 2, 3, 4, 5, 1, 3, 4, 5, 1, 2, 3, 4, 5, 3, 2, 3, 4, 3, 1, 3, 4, 5, 3, 4, 3, 1, 2, 4, 5, 1, 3, 5, 2, 2, 3, 4, 5, 1, 2, 3, 4, 5, 1, 3, 4, 5, 2, 3, 5, 1, 2, 1, 2, 3, 5, 1, 3, 4, 1, 2, 3, 1, 2, 1, 2, 3, 4, 5, 1, 2, 3, 4, 5, 1, 2, 3, 4, 5, 1, 2, 3, 4, 5, 2, 1, 2, 3, 4, 5, 1, 2, 3, 4, 5, 2, 3, 4, 5, 1, 2, 3, 4, 5, 1, 2, 4, 2, 1, 3, 2, 3, 2, 3, 1, 2, 3, 4, 5, 1, 2, 3, 4, 5, 1, 3, 2, 3, 4, 5, 4, 5, 5, 4, 3, 4, 5, 1, 2, 3, 3, 2, 1, 2, 3, 4, 5, 4, 1, 3, 5, 3, 4, 5, 1, 1, 5, 2, 4, 4, 1, 2, 3, 4, 5, 2, 1, 1, 2, 3, 4, 1, 2, 3, 4, 3, 4, 5, 4, 5, 1, 2, 3, 4, 5, 1, 2, 3, 4, 5, 2, 1, 5, 3, 5, 1, 2, 4, 5, 4, 1, 1, 2, 3, 4, 5, 2, 3, 4, 3, 4, 3, 4, 5, 1, 2, 5, 1, 2, 3, 1, 2, 3, 4, 5, 2, 3, 2, 3, 2, 4, 5, 2, 4, 2, 1, 2, 1, 3, 1, 2, 3, 4, 5, 1, 2, 3, 4, 5, 1, 2, 3, 5, 4, 2, 3, 1, 2, 3, 4, 5, 1, 2, 1, 2, 4, 2, 3, 5, 2, 5, 2, 5, 5, 3, 1, 2, 3, 4, 5, 1, 2, 3, 4, 5, 1, 2, 3, 4, 5, 1, 2, 3, 4, 5, 2, 3, 4, 5, 1, 3, 1, 2, 4, 5, 1, 1, 3, 4, 5, 2, 4, 3, 1, 3, 2, 5, 3, 5, 1, 2, 3, 4, 5, 1, 2, 3, 4, 5, 2, 1, 3, 4, 5, 5, 1, 2, 3, 4, 5, 1, 3, 2, 4, 2, 3, 5, 1, 2, 3, 4, 1, 2, 3, 4, 5, 1, 1, 2, 3, 2, 3, 4, 1, 2, 4, 5, 1, 1, 4, 5, 3, 3, 1, 2, 4, 1, 1, 2, 3, 4, 5, 3, 4, 1, 2, 3, 4, 5, 4, 4, 3, 2, 3, 4, 2, 3, 4, 4, 1, 2, 3, 4, 5, 4, 1, 1, 3, 1, 2, 3, 4, 5, 5, 1, 2, 3, 5, 2, 5, 1, 2, 3, 4, 5, 4, 3, 4, 2, 3, 5, 4, 3, 4, 5, 1, 2, 3, 4, 5, 1, 2, 3, 4, 1, 1, 2, 3, 4, 1, 2, 3, 4, 5, 1, 2, 3, 4, 3, 5, 1, 2, 3, 4, 5, 3, 3, 1, 4, 5, 4, 1, 1, 2, 3, 4, 5, 1, 2, 3, 4, 5, 1, 2, 4, 1, 2, 3, 5, 1, 2, 3, 4, 5, 3, 2, 1, 2, 3, 4, 5, 1, 2, 3, 4, 5, 4, 4, 5, 1, 1, 1, 1, 2, 3, 4, 5, 1, 3, 5, 5, 1, 1, 2, 3, 4, 5, 1, 2, 3, 4, 5, 1, 3, 4, 1, 2, 3, 5, 1, 2, 4, 3, 4, 1, 2, 3, 4, 2, 3, 4, 5, 1, 4, 2, 3, 4, 2, 3, 4, 5, 1, 2, 3, 4, 5, 1, 2, 3, 4, 5, 2, 3, 4, 5, 1, 2, 4, 1, 2, 3, 4, 5, 1, 2, 3, 1, 2, 3, 4, 5, 1, 4, 5, 2], \"Freq\": [0.9332390034881934, 0.747969437859039, 0.9251063591356076, 0.6312475504784102, 0.21041585015947006, 0.025349859560097925, 0.07604957868029377, 0.8872450846034274, 0.15887452865934043, 0.09929658041208778, 0.09929658041208778, 0.15887452865934043, 0.4964829020604389, 0.8346530593686009, 0.16693061187372019, 0.04842127911316227, 0.20982554282370317, 0.6133362021000555, 0.08070213185527045, 0.03228085274210818, 0.9332074810755344, 0.9332892433902428, 0.10340807075765313, 0.26886098396989816, 0.10340807075765313, 0.24817936981836752, 0.26886098396989816, 0.01868945244676441, 0.3550995964885238, 0.3364101440417594, 0.1868945244676441, 0.11213671468058646, 0.8462806589757342, 0.09552316457739106, 0.0636821097182607, 0.2547284388730428, 0.22288738401391245, 0.38209265830956424, 0.22572875223746167, 0.6489701626827022, 0.11286437611873083, 0.02821609402968271, 0.8573242938367679, 0.0659480226028283, 0.947304617183049, 0.8320681618790329, 0.9472990593689007, 0.8990625931917622, 0.8021476710100941, 0.1719025746881121, 0.6876102987524484, 0.02865042911468535, 0.08595128734405605, 0.846236076247958, 0.7479134692138928, 0.6301616940652607, 0.2100538980217536, 0.1291268790559828, 0.0645634395279914, 0.1936903185839742, 0.5810709557519226, 0.0645634395279914, 0.7477233428510368, 0.44815074258392823, 0.17926029703357127, 0.08963014851678563, 0.2688904455503569, 0.14251904360615789, 0.4071972674461654, 0.30539795058462404, 0.14251904360615789, 0.17573803611108846, 0.2636070541666327, 0.6150831263888096, 0.04831596052656919, 0.0724739407898538, 0.04831596052656919, 0.8213713289516763, 0.5607595957500681, 0.28037979787503403, 0.14018989893751702, 0.07221915740763103, 0.8666298888915724, 0.07221915740763103, 0.7389400365150066, 0.06626953348620457, 0.7952344018344548, 0.06626953348620457, 0.933212850634321, 0.19122983178728928, 0.09561491589364464, 0.09561491589364464, 0.5736894953618679, 0.05393815759249464, 0.8630105214799142, 0.05393815759249464, 0.7389363132160617, 0.9203312301423979, 0.9225196043499267, 0.9223881979939574, 0.06269944562232516, 0.8777922387125521, 0.08665110095852198, 0.17330220191704396, 0.4043718044731026, 0.3466044038340879, 0.7387759249666686, 0.7389375387751881, 0.6328574596828659, 0.5582190292056122, 0.24809734631360544, 0.12404867315680272, 0.06202433657840136, 0.8829808920671507, 0.09597618392034246, 0.9883009291866981, 0.10276697061834861, 0.20553394123669722, 0.7193687943284403, 0.10491998199756622, 0.2937759495931854, 0.5455839063873443, 0.041967992799026486, 0.8462805520900457, 0.9332326695274458, 0.88717857272155, 0.7916951992453503, 0.13194919987422504, 0.8215812593163857, 0.6092363664133406, 0.37908040576830077, 0.013538585920296456, 0.8462665843981054, 0.8861860059206274, 0.8995288499214077, 0.8807393167865873, 0.1637743482483415, 0.5459144941611384, 0.2729572470805692, 0.7476561955028423, 0.9218800493943217, 0.9331118847346229, 0.02185787330630291, 0.10928936653151455, 0.41529959281975526, 0.2622944796756349, 0.19672085975672618, 0.13448377724743005, 0.6051769976134352, 0.15689774012200172, 0.08965585149828671, 0.06099163423021385, 0.5997510699304361, 0.2744623540359623, 0.030495817115106925, 0.030495817115106925, 0.8986774323438097, 0.7147541658499084, 0.1531616069678375, 0.10210773797855834, 0.8987466605565259, 0.49789514373404703, 0.165965047911349, 0.165965047911349, 0.165965047911349, 0.8989467138544699, 0.11236833923180874, 0.8995248341577775, 0.03970854350623441, 0.15883417402493763, 0.11912563051870322, 0.6353366960997505, 0.053900788408110696, 0.8085118261216604, 0.13475197102027675, 0.7886717397626062, 0.21179292994508214, 0.10589646497254107, 0.1588446974588116, 0.5824305573489759, 0.060639353315692424, 0.38404923766605203, 0.36383611989415454, 0.10106558885948738, 0.0808524710875899, 0.06255460937324253, 0.6568233984190466, 0.2502184374929701, 0.031277304686621266, 0.7381318959311499, 0.13420579926020906, 0.1006543494451568, 0.5862902254364949, 0.3350229859637114, 0.10534647468874747, 0.07023098312583165, 0.614521102351027, 0.21069294937749494, 0.1916458619720831, 0.09582293098604155, 0.6707605169022909, 0.03476876523292958, 0.9387566612890986, 0.8375612523632333, 0.4421903425117664, 0.4421903425117664, 0.054558651921396445, 0.31522776665695723, 0.20004839037845362, 0.3091656942212465, 0.11517937627850361, 0.27140769338561416, 0.1628446160313685, 0.054281538677122834, 0.515674617432667, 0.9221609746054441, 0.08456300132574625, 0.12684450198861935, 0.3100643381944029, 0.2395951704229477, 0.2536890039772387, 0.06045800053185049, 0.31740450279221505, 0.34763350305814034, 0.18137400159555148, 0.09068700079777574, 0.789413647236037, 0.07618816110982234, 0.06095052888785787, 0.48760423110286294, 0.0914257933317868, 0.2742773799953604, 0.18886292739565805, 0.24747556003568985, 0.3451632811024095, 0.1758378979200954, 0.0521001179022505, 0.28129297159628147, 0.04688216193271358, 0.14064648579814074, 0.5157037812598494, 0.1980271179611209, 0.3771945104021351, 0.16973752968096079, 0.10372849036058715, 0.1603076669209074, 0.20756594642538953, 0.20756594642538953, 0.6226978392761686, 0.947532262962593, 0.8462881080610294, 0.9334923898646631, 0.0861635325811972, 0.8616353258119721, 0.9402939421176995, 0.052238552339872193, 0.15273829979922496, 0.02545638329987083, 0.5854968158970291, 0.20365106639896663, 0.02545638329987083, 0.8462442057309788, 0.5792128668187609, 0.3363171484754096, 0.05605285807923493, 0.018684286026411645, 0.6240397792284054, 0.2080132597428018, 0.12119801188307829, 0.7675874085928291, 0.08079867458871887, 0.04039933729435943, 0.1373479932176866, 0.8240879593061196, 0.9227133688379171, 0.7478433154699354, 0.8565841628336757, 0.06589108944874428, 0.8214479658779188, 0.15488603985088228, 0.0516286799502941, 0.7744301992544114, 0.8666893163388212, 0.7886682660690122, 0.4764436039236847, 0.11911090098092117, 0.059555450490460585, 0.17866635147138174, 0.23822180196184234, 0.933217232146617, 0.2780176497292369, 0.7010879862737279, 0.01208772390127117, 0.8722556767342432, 0.1246079538191776, 0.922712275390723, 0.8462690233150515, 0.8462992490833345, 0.9227176474847412, 0.15481055133458702, 0.774052756672935, 0.9332052295990421, 0.07072901355713314, 0.371327321174949, 0.40669182795351555, 0.05304676016784986, 0.10609352033569971, 0.9472884634953135, 0.8462785980779953, 0.15083852805064774, 0.5656444801899291, 0.07541926402532387, 0.18854816006330968, 0.037292060671799895, 0.22375236403079937, 0.6712570920923981, 0.05593809100769984, 0.12323629444460796, 0.7394177666676478, 0.12323629444460796, 0.15447401710688982, 0.7723700855344491, 0.10257887969125014, 0.25644719922812537, 0.15386831953687521, 0.3761225588679172, 0.10257887969125014, 0.04856857497186295, 0.08499500620076016, 0.7163864808349785, 0.12142143742965737, 0.024284287485931474, 0.8893551713968427, 0.8462818727503953, 0.8638577993232317, 0.1518532489694337, 0.7592662448471685, 0.049070155093179295, 0.6869821713045101, 0.2208156979193068, 0.024535077546589647, 0.8320238651331889, 0.8462638382023541, 0.1679385134926128, 0.27400494306689455, 0.362393634378796, 0.05303321478714088, 0.14142190609904234, 0.5069334100442034, 0.45357199846060314, 0.026680705791800183, 0.8163288476520565, 0.10204110595650706, 0.22748620968900113, 0.15165747312600075, 0.606629892504003, 0.7241975947377339, 0.18104939868443348, 0.9227039277570085, 0.10305046166497656, 0.10305046166497656, 0.7728784624873242, 0.10882708710379951, 0.09673518853671068, 0.7617896097265966, 0.012091898567088834, 0.012091898567088834, 0.7605060659713204, 0.2028016175923521, 0.17938265961557312, 0.807221968270079, 0.8240783706068782, 0.09156426340076423, 0.09156426340076423, 0.10820812627598933, 0.8656650102079146, 0.9473291817185066, 0.8461834012962917, 0.9472869882714143, 0.784380072101162, 0.1568760144202324, 0.09219768343755608, 0.35726602332052976, 0.19592007730480665, 0.13829652515633412, 0.21896949816419567, 0.2291452823335079, 0.31507476320857336, 0.2577884426251964, 0.14321580145844243, 0.05728632058337697, 0.2357174084047881, 0.16836957743199152, 0.2020434929183898, 0.37041307035038135, 0.9330961888638926, 0.8515662649870054, 0.14598278828348663, 0.0492232305432571, 0.14766969162977128, 0.50864004894699, 0.14766969162977128, 0.14766969162977128, 0.11920966683600064, 0.8344676678520044, 0.5501670721713253, 0.23578588807342515, 0.15719059204895008, 0.6569171528022508, 0.30319253206257735, 0.05053208867709622, 0.15325396397630872, 0.7662698198815435, 0.17474049390519508, 0.6989619756207803, 0.7386289318319784, 0.8679988255936123, 0.1179456489098357, 0.14743206113729465, 0.2358912978196714, 0.14743206113729465, 0.3538369467295071, 0.16336556467026456, 0.2673254694604329, 0.1485141497002405, 0.297028299400481, 0.1188113197601924, 0.5496709000893792, 0.06466716471639757, 0.06466716471639757, 0.12933432943279513, 0.1616679117909939, 0.1747344591396578, 0.09408778569058497, 0.28226335707175493, 0.3225866937962913, 0.13441112241512138, 0.051396701522889304, 0.7709505228433396, 0.051396701522889304, 0.10279340304577861, 0.06591340808656079, 0.9227877132118512, 0.8462047890085194, 0.10256590826322032, 0.10256590826322032, 0.7179613578425422, 0.8547339333813971, 0.6220890018401023, 0.20736300061336746, 0.8320005385146255, 0.9227099757023232, 0.9186557397102708, 0.9331052043186118, 0.958171512052225, 0.07475650663146166, 0.8970780795775399, 0.11167165915121953, 0.7817016140585367, 0.8650022246205584, 0.08650022246205584, 0.19669069788637147, 0.11473624043371669, 0.5900720936591144, 0.04917267447159287, 0.06556356596212383, 0.3516602524035809, 0.12411538320126385, 0.12411538320126385, 0.31028845800315963, 0.08274358880084257, 0.788704055303585, 0.04305318380618663, 0.8036594310488172, 0.04305318380618663, 0.10045742888110215, 0.8808011483271857, 0.8462551866742368, 0.31010610915077763, 0.1033687030502592, 0.1033687030502592, 0.48238728090120964, 0.8462626983757626, 0.8666524442596659, 0.17681346233446602, 0.7072538493378641, 0.031007810136963073, 0.6511640128762245, 0.2790702912326677, 0.06415650636153976, 0.5774085572538578, 0.19246951908461926, 0.19246951908461926, 0.39395372322444155, 0.22511641327110946, 0.11255820663555473, 0.28139551658888684, 0.7389518412382666, 0.6328437164902938, 0.8462631725019216, 0.6980708511334817, 0.23269028371116054, 0.882929323163872, 0.058861954877591466, 0.058861954877591466, 0.13361677371432204, 0.6680838685716102, 0.06680838685716102, 0.13361677371432204, 0.8462741236031618, 0.6886625299930733, 0.0983803614275819, 0.1967607228551638, 0.9335067810136926, 0.9599294031572508, 0.6927334375839407, 0.11545557293065678, 0.11545557293065678, 0.8462337937845792, 0.4877756927828291, 0.1393644836522369, 0.06968224182611844, 0.2787289673044738, 0.06968224182611844, 0.9404293387188193, 0.9332196833605986, 0.2352980548464442, 0.282357665815733, 0.12549229591810357, 0.18823844387715535, 0.17255190688739241, 0.747903558782706, 0.9726748464035174, 0.9538246338158128, 0.043781902020267306, 0.7442923343445442, 0.17512760808106922, 0.8444092920971806, 0.9097296050399785, 0.06997920038769065, 0.9332350282901875, 0.08504352319331683, 0.1984348874510726, 0.1559131258544142, 0.4677393775632426, 0.0992174437255363, 0.9332291538050362, 0.638113004669505, 0.16219718012847545, 0.8272056186552248, 0.12673924656502755, 0.050695698626011025, 0.7604354793901653, 0.050695698626011025, 0.025347849313005513, 0.9226953039459554, 0.44001255176585163, 0.17600502070634064, 0.17600502070634064, 0.17600502070634064, 0.17493863942164203, 0.6997545576865681, 0.06401107699274508, 0.09601661548911763, 0.38406646195647054, 0.12802215398549016, 0.352060923460098, 0.7478343340337564, 0.15361710749449778, 0.7680855374724889, 0.30089623674565935, 0.15044811837282968, 0.5265684143049039, 0.747940196070155, 0.26361150172415587, 0.4217784027586494, 0.31633380206898704, 0.5085259217470394, 0.16950864058234646, 0.11300576038823097, 0.11300576038823097, 0.11300576038823097, 0.0569636882456625, 0.2848184412283125, 0.6266005707022876, 0.02848184412283125, 0.8462205648283581, 0.019366726314304628, 0.8327692315150991, 0.07746690525721851, 0.07746690525721851, 0.2504432788536427, 0.05691892701219152, 0.6602595533414216, 0.03415135620731491, 0.011383785402438304, 0.08789268403093041, 0.17578536806186082, 0.08789268403093041, 0.6152487882165129, 0.2442323129402346, 0.7326969388207037, 0.07052310359689004, 0.10578465539533506, 0.28209241438756016, 0.10578465539533506, 0.42313862158134025, 0.9580654654198133, 0.9765101028592866, 0.6385227177350851, 0.13732042925603594, 0.8239225755362155, 0.7479199291442117, 0.6384307704390625, 0.16115068254847753, 0.24905105484764709, 0.2637011168975087, 0.2051008686980623, 0.10255043434903115, 0.02267212501953652, 0.18137700015629216, 0.657491625566559, 0.09824587508465825, 0.03778687503256086, 0.19038632277152984, 0.6980831834956094, 0.12692421518101987, 0.025217861948089636, 0.6052286867541513, 0.32783220532516527, 0.05043572389617927, 0.143238029354874, 0.13300674154381156, 0.48087052711993417, 0.15346931716593643, 0.09208159029956187, 0.8985988505866126, 0.9475306420396057, 0.11585199514949286, 0.17904399250376168, 0.35808798500752337, 0.2106399911808961, 0.13691599426758247, 0.04025504990610487, 0.24153029943662924, 0.1610201996244195, 0.12076514971831462, 0.44280554896715363, 0.747910853011631, 0.7796837788208374, 0.15593675576416746, 0.6385375951911247, 0.638534839216732, 0.846219613383762, 0.18074067898874846, 0.2711110184831227, 0.18977771293818588, 0.20785178083706074, 0.1536295771404362, 0.09988198559776701, 0.299645956793301, 0.599291913586602, 0.9227094793180107, 0.7690079425432295, 0.09716034704398767, 0.07287026028299075, 0.582962082263926, 0.1457405205659815, 0.12145043380498458, 0.10675249442765987, 0.26688123606914965, 0.22684905065877722, 0.22684905065877722, 0.17347280344494728, 0.6157050858380252, 0.3078525429190126, 0.8306480863859449, 0.03323611065055864, 0.06647222130111728, 0.7976666556134073, 0.09970833195167592, 0.6375457482435206, 0.7935698631846436, 0.09919623289808045, 0.8968720780689354, 0.11210900975861693, 0.2747886954660731, 0.3022675650126804, 0.054957739093214615, 0.3847041736525023, 0.2813082660874009, 0.309439092696141, 0.14065413304370045, 0.2813082660874009, 0.17932729313376022, 0.7173091725350409, 0.5556487859107583, 0.3968919899362559, 0.03968919899362559, 0.06261311834275284, 0.8139705384557868, 0.06261311834275284, 0.06261311834275284, 0.09502305802406155, 0.3061854091886428, 0.25339482139749747, 0.1372555282569778, 0.20060423360635216, 0.11921636541084388, 0.0794775769405626, 0.11921636541084388, 0.5166042501136568, 0.1589551538811252, 0.18547959659594382, 0.037095919319188764, 0.18547959659594382, 0.5935347091070202, 0.11329305693872432, 0.16993958540808649, 0.6797583416323459, 0.3734220507286297, 0.13578983662859262, 0.07921073803334569, 0.19236893522383955, 0.2263163943809877, 0.03099947115325212, 0.9196509775464795, 0.04133262820433616, 0.1731131271517521, 0.12117918900622647, 0.12117918900622647, 0.2942923161579786, 0.27698100344280335, 0.48905560482371563, 0.2934333628942294, 0.19562224192948627, 0.9472987400153989], \"Term\": [\"aata\", \"ab\", \"absent\", \"ac\", \"ac\", \"acknowledge\", \"acknowledge\", \"acknowledge\", \"add\", \"add\", \"add\", \"add\", \"add\", \"adg\", \"adg\", \"also\", \"also\", \"also\", \"also\", \"also\", \"amonst\", \"angoor\", \"answer\", \"answer\", \"answer\", \"answer\", \"answer\", \"anyone\", \"anyone\", \"anyone\", \"anyone\", \"anyone\", \"arbitrary\", \"ask\", \"ask\", \"ask\", \"ask\", \"ask\", \"b\", \"b\", \"b\", \"b\", \"back\", \"back\", \"bangalore\", \"bbs\", \"bioinformatics\", \"blog\", \"build\", \"c\", \"c\", \"c\", \"c\", \"cam\", \"candidates\", \"carbocation\", \"carbocation\", \"case\", \"case\", \"case\", \"case\", \"case\", \"cc\", \"certificate\", \"certificate\", \"certificate\", \"certificate\", \"check\", \"check\", \"check\", \"check\", \"circle\", \"circle\", \"circle\", \"class\", \"class\", \"class\", \"class\", \"clone\", \"clone\", \"clone\", \"club\", \"club\", \"club\", \"cod\", \"code\", \"code\", \"code\", \"comers\", \"commit\", \"commit\", \"commit\", \"commit\", \"committee\", \"committee\", \"committee\", \"compare\", \"comparison\", \"competitive\", \"confirmation\", \"congrats\", \"congrats\", \"congratulations\", \"congratulations\", \"congratulations\", \"congratulations\", \"conjugate\", \"construction\", \"consume\", \"cool\", \"cool\", \"cool\", \"cool\", \"core\", \"core\", \"cse\", \"damn\", \"damn\", \"damn\", \"design\", \"design\", \"design\", \"design\", \"differentiate\", \"dimension\", \"direction\", \"dl\", \"dl\", \"doc\", \"domain\", \"domain\", \"domain\", \"dt\", \"ece\", \"edc\", \"electron\", \"energy\", \"energy\", \"energy\", \"enter\", \"equilateral\", \"essay\", \"even\", \"even\", \"even\", \"even\", \"even\", \"event\", \"event\", \"event\", \"event\", \"everyone\", \"everyone\", \"everyone\", \"everyone\", \"everyone\", \"examinations\", \"excite\", \"excite\", \"excite\", \"explore\", \"f\", \"f\", \"f\", \"f\", \"facebook\", \"facebook\", \"february\", \"file\", \"file\", \"file\", \"file\", \"fill\", \"fill\", \"fill\", \"film\", \"fine\", \"fine\", \"fine\", \"fine\", \"first\", \"first\", \"first\", \"first\", \"first\", \"follow\", \"follow\", \"follow\", \"follow\", \"force\", \"force\", \"force\", \"fork\", \"fork\", \"form\", \"form\", \"form\", \"form\", \"formula\", \"formula\", \"formula\", \"forward\", \"forward\", \"freshers\", \"g\", \"g\", \"get\", \"get\", \"get\", \"get\", \"get\", \"git\", \"git\", \"git\", \"git\", \"gitignore\", \"give\", \"give\", \"give\", \"give\", \"give\", \"go\", \"go\", \"go\", \"go\", \"go\", \"grind\", \"group\", \"group\", \"group\", \"group\", \"group\", \"guy\", \"guy\", \"guy\", \"guy\", \"guy\", \"h\", \"h\", \"h\", \"h\", \"hai\", \"hai\", \"hai\", \"hai\", \"hai\", \"hain\", \"hain\", \"hain\", \"hall\", \"halp\", \"hand\", \"handle\", \"handle\", \"hello\", \"hello\", \"help\", \"help\", \"help\", \"help\", \"help\", \"hemanth\", \"hey\", \"hey\", \"hey\", \"hey\", \"hota\", \"hota\", \"idea\", \"idea\", \"idea\", \"idea\", \"ignore\", \"ignore\", \"india\", \"infinity\", \"instagram\", \"instagram\", \"integration\", \"interest\", \"interest\", \"interest\", \"introductory\", \"iot\", \"issue\", \"issue\", \"issue\", \"issue\", \"issue\", \"jai\", \"join\", \"join\", \"join\", \"juniors\", \"juniors\", \"justify\", \"kaisa\", \"khat\", \"kitno\", \"kiya\", \"kiya\", \"km\", \"know\", \"know\", \"know\", \"know\", \"know\", \"kolkata\", \"kon\", \"kya\", \"kya\", \"kya\", \"kya\", \"learn\", \"learn\", \"learn\", \"learn\", \"letter\", \"letter\", \"letter\", \"license\", \"license\", \"like\", \"like\", \"like\", \"like\", \"like\", \"link\", \"link\", \"link\", \"link\", \"link\", \"liquid\", \"locally\", \"locus\", \"lone\", \"lone\", \"look\", \"look\", \"look\", \"look\", \"machine\", \"mains\", \"make\", \"make\", \"make\", \"make\", \"make\", \"management\", \"management\", \"management\", \"march\", \"march\", \"mark\", \"mark\", \"mark\", \"master\", \"master\", \"mayank\", \"media\", \"media\", \"media\", \"meet\", \"meet\", \"meet\", \"meet\", \"meet\", \"member\", \"member\", \"members\", \"members\", \"merge\", \"merge\", \"merge\", \"method\", \"method\", \"mis\", \"mithun\", \"moles\", \"msg\", \"msg\", \"na\", \"na\", \"na\", \"na\", \"na\", \"nahi\", \"nahi\", \"nahi\", \"nahi\", \"nahi\", \"name\", \"name\", \"name\", \"name\", \"narrative\", \"nd\", \"nd\", \"need\", \"need\", \"need\", \"need\", \"need\", \"net\", \"net\", \"news\", \"news\", \"news\", \"next\", \"next\", \"next\", \"nhi\", \"nhi\", \"nitrogen\", \"nitrogen\", \"node\", \"nov\", \"oh\", \"oh\", \"oh\", \"oh\", \"oh\", \"ok\", \"ok\", \"ok\", \"ok\", \"ok\", \"okay\", \"okay\", \"okay\", \"okay\", \"okay\", \"one\", \"one\", \"one\", \"one\", \"one\", \"open\", \"open\", \"open\", \"open\", \"orientation\", \"orientation\", \"padhna\", \"pair\", \"pair\", \"pair\", \"parent\", \"participant\", \"participant\", \"paste\", \"payment\", \"pen\", \"performance\", \"pitch\", \"plan\", \"plan\", \"plane\", \"plane\", \"platform\", \"platform\", \"please\", \"please\", \"please\", \"please\", \"please\", \"pls\", \"pls\", \"pls\", \"pls\", \"pls\", \"plz\", \"pm\", \"pm\", \"pm\", \"pm\", \"po\", \"podcast\", \"point\", \"point\", \"point\", \"point\", \"political\", \"poster\", \"product\", \"product\", \"project\", \"project\", \"project\", \"pull\", \"pull\", \"pull\", \"pull\", \"push\", \"push\", \"push\", \"push\", \"radical\", \"radio\", \"rate\", \"rd\", \"rd\", \"readme\", \"readme\", \"readme\", \"ready\", \"ready\", \"ready\", \"ready\", \"recieve\", \"record\", \"record\", \"record\", \"recruitment\", \"recruitments\", \"refer\", \"refer\", \"refer\", \"refreshments\", \"repo\", \"repo\", \"repo\", \"repo\", \"repo\", \"require\", \"resistor\", \"right\", \"right\", \"right\", \"right\", \"right\", \"roman\", \"root\", \"rotor\", \"round\", \"round\", \"round\", \"satisfy\", \"schedule\", \"schedule\", \"screw\", \"send\", \"send\", \"send\", \"send\", \"send\", \"seperate\", \"seriously\", \"session\", \"session\", \"share\", \"share\", \"share\", \"share\", \"share\", \"shashank\", \"sign\", \"sign\", \"sign\", \"sign\", \"similar\", \"similar\", \"sir\", \"sir\", \"sir\", \"sir\", \"sir\", \"situations\", \"size\", \"size\", \"slide\", \"slide\", \"slide\", \"slope\", \"solve\", \"solve\", \"solve\", \"someone\", \"someone\", \"someone\", \"someone\", \"someone\", \"soon\", \"soon\", \"soon\", \"soon\", \"specs\", \"st\", \"st\", \"st\", \"st\", \"start\", \"start\", \"start\", \"start\", \"start\", \"step\", \"step\", \"step\", \"step\", \"steric\", \"steric\", \"still\", \"still\", \"still\", \"still\", \"still\", \"stories\", \"story\", \"stronger\", \"sub\", \"sub\", \"summation\", \"surprise\", \"take\", \"take\", \"take\", \"take\", \"take\", \"team\", \"team\", \"team\", \"team\", \"team\", \"tech\", \"tech\", \"tech\", \"technical\", \"technical\", \"technical\", \"technical\", \"thank\", \"thank\", \"thank\", \"thank\", \"thank\", \"throw\", \"ticket\", \"time\", \"time\", \"time\", \"time\", \"time\", \"toh\", \"toh\", \"toh\", \"toh\", \"toh\", \"torque\", \"total\", \"total\", \"tougher\", \"trick\", \"tuesday\", \"u\", \"u\", \"u\", \"u\", \"u\", \"understand\", \"understand\", \"understand\", \"unexpected\", \"unstable\", \"us\", \"us\", \"us\", \"us\", \"us\", \"use\", \"use\", \"use\", \"use\", \"use\", \"v\", \"v\", \"vim\", \"vit\", \"vit\", \"vit\", \"vit\", \"vitstudent\", \"vm\", \"vm\", \"vscode\", \"vscode\", \"wait\", \"wait\", \"wait\", \"wait\", \"want\", \"want\", \"want\", \"want\", \"weird\", \"weird\", \"welcome\", \"welcome\", \"welcome\", \"whatsapp\", \"whatsapp\", \"whatsapp\", \"whatsapp\", \"work\", \"work\", \"work\", \"work\", \"work\", \"write\", \"write\", \"write\", \"write\", \"write\", \"wrong\", \"wrong\", \"wrong\", \"wrong\", \"x\", \"x\", \"x\", \"yeah\", \"yeah\", \"yeah\", \"yeah\", \"yeah\", \"year\", \"year\", \"year\", \"yes\", \"yes\", \"yes\", \"yes\", \"yes\", \"yet\", \"yet\", \"yet\", \"yr\"]}, \"R\": 30, \"lambda.step\": 0.01, \"plot.opts\": {\"xlab\": \"PC1\", \"ylab\": \"PC2\"}, \"topic.order\": [1, 2, 3, 4, 5]};\n\nfunction LDAvis_load_lib(url, callback){\n  var s = document.createElement('script');\n  s.src = url;\n  s.async = true;\n  s.onreadystatechange = s.onload = callback;\n  s.onerror = function(){console.warn(\"failed to load library \" + url);};\n  document.getElementsByTagName(\"head\")[0].appendChild(s);\n}\n\nif(typeof(LDAvis) !== \"undefined\"){\n   // already loaded: just create the visualization\n   !function(LDAvis){\n       new LDAvis(\"#\" + \"ldavis_el21405975057202893549799\", ldavis_el21405975057202893549799_data);\n   }(LDAvis);\n}else if(typeof define === \"function\" && define.amd){\n   // require.js is available: use it to load d3/LDAvis\n   require.config({paths: {d3: \"https://d3js.org/d3.v5\"}});\n   require([\"d3\"], function(d3){\n      window.d3 = d3;\n      LDAvis_load_lib(\"https://cdn.jsdelivr.net/gh/bmabey/pyLDAvis@3.2.2/pyLDAvis/js/ldavis.v3.0.0.js\", function(){\n        new LDAvis(\"#\" + \"ldavis_el21405975057202893549799\", ldavis_el21405975057202893549799_data);\n      });\n    });\n}else{\n    // require.js not available: dynamically load d3 & LDAvis\n    LDAvis_load_lib(\"https://d3js.org/d3.v5.js\", function(){\n         LDAvis_load_lib(\"https://cdn.jsdelivr.net/gh/bmabey/pyLDAvis@3.2.2/pyLDAvis/js/ldavis.v3.0.0.js\", function(){\n                 new LDAvis(\"#\" + \"ldavis_el21405975057202893549799\", ldavis_el21405975057202893549799_data);\n            })\n         });\n}\n</script>"
     },
     "metadata": {},
     "execution_count": 267
    }
   ],
   "source": [
    "lda_display = pyLDAvis.gensim.prepare(model4, corpus4, dictionary4, sort_topics=False)\n",
    "pyLDAvis.display(lda_display)"
   ]
  },
  {
   "cell_type": "code",
   "execution_count": 268,
   "metadata": {},
   "outputs": [
    {
     "output_type": "stream",
     "name": "stderr",
     "text": [
      "C:\\Users\\surya\\AppData\\Local\\Programs\\Python\\Python38-32\\lib\\site-packages\\ipykernel\\ipkernel.py:283: DeprecationWarning: `should_run_async` will not call `transform_cell` automatically in the future. Please pass the result to `transformed_cell` argument and any exception that happen during thetransform in `preprocessing_exc_tuple` in IPython 7.17 and above.\n  and should_run_async(code)\n"
     ]
    },
    {
     "output_type": "execute_result",
     "data": {
      "text/plain": [
       "[(2, 0.91319853), (4, 0.07971227)]"
      ]
     },
     "metadata": {},
     "execution_count": 268
    }
   ],
   "source": [
    "model4[corpus4[0]]"
   ]
  },
  {
   "cell_type": "code",
   "execution_count": 275,
   "metadata": {},
   "outputs": [
    {
     "output_type": "stream",
     "name": "stderr",
     "text": [
      "C:\\Users\\surya\\AppData\\Local\\Programs\\Python\\Python38-32\\lib\\site-packages\\ipykernel\\ipkernel.py:283: DeprecationWarning: `should_run_async` will not call `transform_cell` automatically in the future. Please pass the result to `transformed_cell` argument and any exception that happen during thetransform in `preprocessing_exc_tuple` in IPython 7.17 and above.\n  and should_run_async(code)\n"
     ]
    }
   ],
   "source": [
    "ids = dictionary.id2token"
   ]
  },
  {
   "cell_type": "code",
   "execution_count": 276,
   "metadata": {},
   "outputs": [
    {
     "output_type": "stream",
     "name": "stderr",
     "text": [
      "C:\\Users\\surya\\AppData\\Local\\Programs\\Python\\Python38-32\\lib\\site-packages\\ipykernel\\ipkernel.py:283: DeprecationWarning: `should_run_async` will not call `transform_cell` automatically in the future. Please pass the result to `transformed_cell` argument and any exception that happen during thetransform in `preprocessing_exc_tuple` in IPython 7.17 and above.\n  and should_run_async(code)\n"
     ]
    }
   ],
   "source": [
    "ids = dictionary.id2token\n",
    "\n",
    "def printword(k):\n",
    "    for i , j in corpus[k]:\n",
    "        print(ids[i],end = ' ')"
   ]
  },
  {
   "cell_type": "code",
   "execution_count": 277,
   "metadata": {
    "tags": []
   },
   "outputs": [
    {
     "output_type": "stream",
     "name": "stdout",
     "text": [
      "[(3, 0.96753186)]\n",
      "0  ************************************\n",
      "anyone contact detail feel formal free give group guy important informal information meet new please point post recruit restraint thing update us welcome \n",
      "******************************************\n",
      "[(0, 0.03431157), (1, 0.0334238), (2, 0.86417025), (3, 0.03345744), (4, 0.034636922)]\n",
      "1  ************************************\n",
      "core one st stc year \n",
      "******************************************\n",
      "[(0, 0.3704695), (1, 0.04027672), (2, 0.041430674), (3, 0.5078137), (4, 0.04000933)]\n",
      "2  ************************************\n",
      "group guy informal join \n",
      "******************************************\n",
      "[(0, 0.2), (1, 0.2), (2, 0.2), (3, 0.2), (4, 0.2)]\n",
      "3  ************************************\n",
      "\n",
      "******************************************\n",
      "[(2, 0.9786634)]\n",
      "4  ************************************\n",
      "new one stc age also article back basics code crossroad debate find johri language learn loop member must old pick recursion right rishabh settle stick surely take task tricky vit vs week well write \n",
      "******************************************\n",
      "[(0, 0.9617288)]\n",
      "5  ************************************\n",
      "guy join advice attend azure cloud date edu expert fun interest know register session team trainer workshop would \n",
      "******************************************\n",
      "[(0, 0.99228644)]\n",
      "6  ************************************\n",
      "give important recruit us core one stc year learn member take well attend session acknowledge atleast basic become best big board c chapter community continuously cover decide deep design different dive domain domains emphasis every everyone follow freshers function get great grow help hi impact introduction keep knowledge last lot make management note opportunity part pm present put read really saturday senior seniors shape similar subdomains sunday sure tech things time today trust use versions wish work \n",
      "******************************************\n",
      "[(0, 0.73326665), (1, 0.06668713), (2, 0.06668164), (3, 0.06668425), (4, 0.06668032)]\n",
      "7  ************************************\n",
      "session record \n",
      "******************************************\n",
      "[(0, 0.10001545), (1, 0.10002372), (2, 0.5986194), (3, 0.100020364), (4, 0.10132107)]\n",
      "8  ************************************\n",
      "nope \n",
      "******************************************\n",
      "[(0, 0.10004246), (1, 0.100065276), (2, 0.1000474), (3, 0.10005601), (4, 0.59978884)]\n",
      "9  ************************************\n",
      "okk \n",
      "******************************************\n",
      "[(0, 0.9633663)]\n",
      "10  ************************************\n",
      "one stc session team design everyone make management pm sure today use add break first ice ms platform reminder \n",
      "******************************************\n",
      "[(0, 0.10003563), (1, 0.10005474), (2, 0.5998265), (3, 0.10004698), (4, 0.100036114)]\n",
      "11  ************************************\n",
      "coool \n",
      "******************************************\n",
      "[(0, 0.03351265), (1, 0.03338386), (2, 0.8658341), (3, 0.0336274), (4, 0.03364194)]\n",
      "12  ************************************\n",
      "meet please join asap begin \n",
      "******************************************\n",
      "[(0, 0.8395338), (1, 0.0403055), (2, 0.040005166), (3, 0.0400023), (4, 0.040153176)]\n",
      "13  ************************************\n",
      "session pm tech reminder \n",
      "******************************************\n",
      "[(0, 0.59269774), (1, 0.10390261), (2, 0.10029489), (3, 0.10221139), (4, 0.10089335)]\n",
      "14  ************************************\n",
      "thank \n",
      "******************************************\n",
      "[(0, 0.01687272), (1, 0.93194395), (2, 0.01679563), (3, 0.017312467), (4, 0.017075244)]\n",
      "15  ************************************\n",
      "us best wish abhisek commitments continue due endeavour future personal win \n",
      "******************************************\n",
      "[(0, 0.2), (1, 0.2), (2, 0.2), (3, 0.2), (4, 0.2)]\n",
      "16  ************************************\n",
      "\n",
      "******************************************\n",
      "[(0, 0.2), (1, 0.2), (2, 0.2), (3, 0.2), (4, 0.2)]\n",
      "17  ************************************\n",
      "\n",
      "******************************************\n",
      "[(4, 0.9806385)]\n",
      "18  ************************************\n",
      "detail give point core article find learn member well know begin algorithms binary certainly cod committee competitive data dig drive dwivedi edge enrich fascinate guide head kaustubh logical others ride search smoothen start structure unable understand world \n",
      "******************************************\n",
      "[(0, 0.02500915), (1, 0.025009774), (2, 0.8999309), (3, 0.025033545), (4, 0.0250166)]\n",
      "19  ************************************\n",
      "new article instagram medium share stories whatsapp \n",
      "******************************************\n",
      "[(0, 0.5986572), (1, 0.10000733), (2, 0.100161105), (3, 0.1000064), (4, 0.10116798)]\n",
      "20  ************************************\n",
      "sure \n",
      "******************************************\n",
      "[(0, 0.9676677)]\n",
      "21  ************************************\n",
      "stc member acknowledge community design domains every management opportunity tech time choose equal fill form introduce irrespective preference provide technical various want \n",
      "******************************************\n",
      "[(0, 0.8992753), (1, 0.025139153), (2, 0.025084734), (3, 0.025193563), (4, 0.025307255)]\n",
      "22  ************************************\n",
      "give preference multiple order responses show \n",
      "******************************************\n",
      "[(0, 0.2), (1, 0.2), (2, 0.2), (3, 0.2), (4, 0.2)]\n",
      "23  ************************************\n",
      "\n",
      "******************************************\n",
      "[(0, 0.2), (1, 0.2), (2, 0.2), (3, 0.2), (4, 0.2)]\n",
      "24  ************************************\n",
      "\n",
      "******************************************\n",
      "[(0, 0.100476734), (1, 0.5981689), (2, 0.100241266), (3, 0.10000476), (4, 0.101108335)]\n",
      "25  ************************************\n",
      "form \n",
      "******************************************\n",
      "[(0, 0.8986062), (1, 0.025224676), (2, 0.025054611), (3, 0.025946049), (4, 0.025168458)]\n",
      "26  ************************************\n",
      "contact us one choose want later switch \n",
      "******************************************\n",
      "[(0, 0.022261383), (1, 0.9109462), (2, 0.022241972), (3, 0.022235585), (4, 0.022314865)]\n",
      "27  ************************************\n",
      "abb bhai dai diya karu kya maine shit \n",
      "******************************************\n",
      "[(0, 0.79886436), (1, 0.051082063), (2, 0.05001738), (3, 0.05002033), (4, 0.05001588)]\n",
      "28  ************************************\n",
      "responses maine diye \n",
      "******************************************\n",
      "[(0, 0.051152557), (1, 0.79866654), (2, 0.050012797), (3, 0.050008785), (4, 0.05015936)]\n",
      "29  ************************************\n",
      "pm preference main \n",
      "******************************************\n",
      "[(0, 0.2), (1, 0.2), (2, 0.2), (3, 0.2), (4, 0.2)]\n",
      "30  ************************************\n",
      "\n",
      "******************************************\n",
      "[(0, 0.7988007), (1, 0.050044294), (2, 0.050244108), (3, 0.050076187), (4, 0.050834734)]\n",
      "31  ************************************\n",
      "one domain choose \n",
      "******************************************\n",
      "[(0, 0.5977591), (1, 0.10219902), (2, 0.100013815), (3, 0.100015864), (4, 0.1000122)]\n",
      "32  ************************************\n",
      "yes \n",
      "******************************************\n",
      "[(0, 0.91005963), (1, 0.02222818), (2, 0.022805678), (3, 0.022262234), (4, 0.022644227)]\n",
      "33  ************************************\n",
      "one learn right choose later switch na wan \n",
      "******************************************\n",
      "[(0, 0.06667109), (1, 0.06723342), (2, 0.06667153), (3, 0.73247683), (4, 0.06694711)]\n",
      "34  ************************************\n",
      "cool okay \n",
      "******************************************\n",
      "[(0, 0.050441984), (1, 0.051844284), (2, 0.050225843), (3, 0.050007444), (4, 0.79748046)]\n",
      "35  ************************************\n",
      "fill form close \n",
      "******************************************\n",
      "[(0, 0.04000351), (1, 0.04002895), (2, 0.040377676), (3, 0.83958584), (4, 0.040004034)]\n",
      "36  ************************************\n",
      "formal group information discussion \n",
      "******************************************\n",
      "[(0, 0.011502271), (1, 0.011145288), (2, 0.9542467), (3, 0.011614598), (4, 0.011491129)]\n",
      "37  ************************************\n",
      "group recruit core st join also acknowledge board follow management senior whatsapp link request years \n",
      "******************************************\n",
      "[(0, 0.040251758), (1, 0.040132426), (2, 0.83937114), (3, 0.040124424), (4, 0.040120263)]\n",
      "38  ************************************\n",
      "new year everyone happy \n",
      "******************************************\n",
      "[(0, 0.25766203), (1, 0.04000089), (2, 0.6219777), (3, 0.04030201), (4, 0.04005737)]\n",
      "39  ************************************\n",
      "guy new year happy \n",
      "******************************************\n",
      "[(0, 0.25765795), (1, 0.040000886), (2, 0.62198126), (3, 0.040302493), (4, 0.040057365)]\n",
      "40  ************************************\n",
      "guy new year happy \n",
      "******************************************\n",
      "[(0, 0.050142143), (1, 0.050000608), (2, 0.7996265), (3, 0.05017008), (4, 0.050060607)]\n",
      "41  ************************************\n",
      "new year happy \n",
      "******************************************\n",
      "[(0, 0.2576587), (1, 0.04000089), (2, 0.62198126), (3, 0.04030181), (4, 0.04005737)]\n",
      "42  ************************************\n",
      "guy new year happy \n",
      "******************************************\n",
      "[(0, 0.050141495), (1, 0.05000061), (2, 0.7996281), (3, 0.05016924), (4, 0.050060585)]\n",
      "43  ************************************\n",
      "new year happy \n",
      "******************************************\n",
      "[(0, 0.25766182), (1, 0.04000089), (2, 0.6219777), (3, 0.04030223), (4, 0.040057372)]\n",
      "44  ************************************\n",
      "guy new year happy \n",
      "******************************************\n",
      "[(0, 0.05002707), (1, 0.050015934), (2, 0.7997149), (3, 0.0501798), (4, 0.05006226)]\n",
      "45  ************************************\n",
      "new heppy yearrrr \n",
      "******************************************\n",
      "[(0, 0.050141774), (1, 0.050000615), (2, 0.7996272), (3, 0.050169837), (4, 0.0500606)]\n",
      "46  ************************************\n",
      "new year happy \n",
      "******************************************\n",
      "[(0, 0.05014166), (1, 0.05000061), (2, 0.7996278), (3, 0.050169323), (4, 0.05006059)]\n",
      "47  ************************************\n",
      "new year happy \n",
      "******************************************\n",
      "[(0, 0.050141197), (1, 0.050000608), (2, 0.79962754), (3, 0.050170027), (4, 0.050060585)]\n",
      "48  ************************************\n",
      "new year happy \n",
      "******************************************\n",
      "[(0, 0.050141454), (1, 0.05000061), (2, 0.799628), (3, 0.05016929), (4, 0.050060585)]\n",
      "49  ************************************\n",
      "new year happy \n",
      "******************************************\n",
      "[(0, 0.04025188), (1, 0.04013242), (2, 0.83937097), (3, 0.04012442), (4, 0.040120263)]\n",
      "50  ************************************\n",
      "new year everyone happy \n",
      "******************************************\n",
      "[(0, 0.25766626), (1, 0.040000886), (2, 0.6219738), (3, 0.040301662), (4, 0.04005737)]\n",
      "51  ************************************\n",
      "guy new year happy \n",
      "******************************************\n",
      "[(0, 0.050141282), (1, 0.050000608), (2, 0.79962856), (3, 0.050168958), (4, 0.05006058)]\n",
      "52  ************************************\n",
      "new year happy \n",
      "******************************************\n",
      "[(0, 0.05014161), (1, 0.050000615), (2, 0.79962736), (3, 0.050169844), (4, 0.050060596)]\n",
      "53  ************************************\n",
      "new year happy \n",
      "******************************************\n",
      "[(0, 0.040252663), (1, 0.04013244), (2, 0.8393702), (3, 0.040124454), (4, 0.04012027)]\n",
      "54  ************************************\n",
      "new year everyone happy \n",
      "******************************************\n",
      "[(0, 0.050141193), (1, 0.050000615), (2, 0.7996281), (3, 0.050169535), (4, 0.05006059)]\n",
      "55  ************************************\n",
      "new year happy \n",
      "******************************************\n",
      "[(0, 0.050141767), (1, 0.05000061), (2, 0.79962707), (3, 0.05016997), (4, 0.050060596)]\n",
      "56  ************************************\n",
      "new year happy \n",
      "******************************************\n",
      "[(0, 0.25764623), (1, 0.04000089), (2, 0.62199306), (3, 0.040302478), (4, 0.040057365)]\n",
      "57  ************************************\n",
      "guy new year happy \n",
      "******************************************\n",
      "[(0, 0.050141305), (1, 0.05000061), (2, 0.7996281), (3, 0.05016941), (4, 0.05006058)]\n",
      "58  ************************************\n",
      "new year happy \n",
      "******************************************\n",
      "[(0, 0.05014174), (1, 0.05000061), (2, 0.7996277), (3, 0.05016932), (4, 0.05006059)]\n",
      "59  ************************************\n",
      "new year happy \n",
      "******************************************\n",
      "[(0, 0.050141495), (1, 0.05000061), (2, 0.79962784), (3, 0.050169457), (4, 0.050060585)]\n",
      "60  ************************************\n",
      "new year happy \n",
      "******************************************\n",
      "[(0, 0.25765896), (1, 0.04000089), (2, 0.6219804), (3, 0.04030234), (4, 0.04005737)]\n",
      "61  ************************************\n",
      "guy new year happy \n",
      "******************************************\n",
      "[(0, 0.2576556), (1, 0.04000089), (2, 0.6219837), (3, 0.04030245), (4, 0.04005737)]\n",
      "62  ************************************\n",
      "guy new year happy \n",
      "******************************************\n",
      "[(0, 0.25766277), (1, 0.04000089), (2, 0.62197715), (3, 0.040301807), (4, 0.04005737)]\n",
      "63  ************************************\n",
      "guy new year happy \n",
      "******************************************\n",
      "[(0, 0.040251557), (1, 0.04013243), (2, 0.8393713), (3, 0.040124424), (4, 0.040120255)]\n",
      "64  ************************************\n",
      "new year everyone happy \n",
      "******************************************\n",
      "[(0, 0.050141763), (1, 0.05000061), (2, 0.7996269), (3, 0.050170116), (4, 0.0500606)]\n",
      "65  ************************************\n",
      "new year happy \n",
      "******************************************\n",
      "[(0, 0.050141096), (1, 0.05000061), (2, 0.7996287), (3, 0.050169006), (4, 0.050060574)]\n",
      "66  ************************************\n",
      "new year happy \n",
      "******************************************\n",
      "[(0, 0.040251102), (1, 0.040132422), (2, 0.8393718), (3, 0.040124416), (4, 0.04012025)]\n",
      "67  ************************************\n",
      "new year everyone happy \n",
      "******************************************\n",
      "[(0, 0.05014106), (1, 0.050000608), (2, 0.79962873), (3, 0.050168972), (4, 0.050060578)]\n",
      "68  ************************************\n",
      "new year happy \n",
      "******************************************\n",
      "[(0, 0.040251117), (1, 0.040132426), (2, 0.8393718), (3, 0.040124424), (4, 0.04012025)]\n",
      "69  ************************************\n",
      "new year everyone happy \n",
      "******************************************\n",
      "[(0, 0.013684778), (1, 0.01365042), (2, 0.013720515), (3, 0.013335461), (4, 0.9456088)]\n",
      "70  ************************************\n",
      "core acknowledge pm first fill form link years january junior plz th tomorrow \n",
      "******************************************\n",
      "[(0, 0.2), (1, 0.2), (2, 0.2), (3, 0.2), (4, 0.2)]\n",
      "71  ************************************\n",
      "\n",
      "******************************************\n",
      "[(2, 0.9756379)]\n",
      "72  ************************************\n",
      "new article member week get medium approach authentication credentials deepesh ever explain imagine implementation insight internet method never password possible secure security server store suranjandass tell think trustless user \n",
      "******************************************\n",
      "[(0, 0.05065967), (1, 0.05081801), (2, 0.050982617), (3, 0.050005484), (4, 0.7975342)]\n",
      "73  ************************************\n",
      "link plz send \n",
      "******************************************\n",
      "[(0, 0.2), (1, 0.2), (2, 0.2), (3, 0.2), (4, 0.2)]\n",
      "74  ************************************\n",
      "\n",
      "******************************************\n",
      "[(0, 0.59285635), (1, 0.10375354), (2, 0.10029433), (3, 0.102204405), (4, 0.10089139)]\n",
      "75  ************************************\n",
      "thank \n",
      "******************************************\n",
      "[(0, 0.025009148), (1, 0.025009772), (2, 0.8999309), (3, 0.02503353), (4, 0.025016598)]\n",
      "76  ************************************\n",
      "new article instagram medium share stories whatsapp \n",
      "******************************************\n",
      "[(0, 0.022632578), (1, 0.9088374), (2, 0.023575272), (3, 0.022548405), (4, 0.022406336)]\n",
      "77  ************************************\n",
      "article interest really cool good job nuid pretty \n",
      "******************************************\n",
      "[(0, 0.39965668), (1, 0.06689754), (2, 0.3997733), (3, 0.06667151), (4, 0.06700096)]\n",
      "78  ************************************\n",
      "article great \n",
      "******************************************\n",
      "[(0, 0.06726971), (1, 0.067071676), (2, 0.7315426), (3, 0.06739225), (4, 0.06672377)]\n",
      "79  ************************************\n",
      "article good \n",
      "******************************************\n",
      "[(0, 0.2741483), (1, 0.050203595), (2, 0.28487417), (3, 0.050028227), (4, 0.3407457)]\n",
      "80  ************************************\n",
      "article great informative \n",
      "******************************************\n",
      "[(0, 0.9820822)]\n",
      "81  ************************************\n",
      "anyone core join also code vs attend interest session would domain great hi lot pm time th tomorrow along apis backend come databases development discuss go instal jan like mandatory members nodejs open peep postman stuff web \n",
      "******************************************\n",
      "[(0, 0.10095456), (1, 0.10008549), (2, 0.5981163), (3, 0.10000221), (4, 0.10084145)]\n",
      "82  ************************************\n",
      "acknowledge \n",
      "******************************************\n",
      "[(0, 0.02937338), (1, 0.028803399), (2, 0.029089337), (3, 0.028695753), (4, 0.88403815)]\n",
      "83  ************************************\n",
      "domain everyone make come clear regardless \n",
      "******************************************\n",
      "[(0, 0.8380025), (1, 0.040001877), (2, 0.041923124), (3, 0.0400411), (4, 0.040031396)]\n",
      "84  ************************************\n",
      "guy happy day republic \n",
      "******************************************\n",
      "[(0, 0.7963523), (1, 0.050003022), (2, 0.053583663), (3, 0.05001023), (4, 0.050050758)]\n",
      "85  ************************************\n",
      "happy day republic \n",
      "******************************************\n",
      "[(0, 0.7964091), (1, 0.050003022), (2, 0.05352695), (3, 0.05001023), (4, 0.050050747)]\n",
      "86  ************************************\n",
      "happy day republic \n",
      "******************************************\n",
      "[(0, 0.79637516), (1, 0.050003026), (2, 0.053560816), (3, 0.050010234), (4, 0.05005076)]\n",
      "87  ************************************\n",
      "happy day republic \n",
      "******************************************\n",
      "[(0, 0.2), (1, 0.2), (2, 0.2), (3, 0.2), (4, 0.2)]\n",
      "88  ************************************\n",
      "\n",
      "******************************************\n",
      "[(0, 0.7963573), (1, 0.050003022), (2, 0.053578727), (3, 0.05001023), (4, 0.050050758)]\n",
      "89  ************************************\n",
      "happy day republic \n",
      "******************************************\n",
      "[(0, 0.83801496), (1, 0.04000187), (2, 0.041910674), (3, 0.04004109), (4, 0.040031385)]\n",
      "90  ************************************\n",
      "guy happy day republic \n",
      "******************************************\n",
      "[(0, 0.79636234), (1, 0.050003026), (2, 0.053573642), (3, 0.050010234), (4, 0.05005076)]\n",
      "91  ************************************\n",
      "happy day republic \n",
      "******************************************\n",
      "[(0, 0.43042848), (1, 0.028584529), (2, 0.4830448), (3, 0.028582806), (4, 0.029359378)]\n",
      "92  ************************************\n",
      "right session today instal everybody software \n",
      "******************************************\n",
      "[(0, 0.0504043), (1, 0.050007496), (2, 0.050163217), (3, 0.79848456), (4, 0.05094043)]\n",
      "93  ************************************\n",
      "know doubt let \n",
      "******************************************\n",
      "[(0, 0.06880582), (1, 0.72987616), (2, 0.06679349), (3, 0.06775057), (4, 0.06677398)]\n",
      "94  ************************************\n",
      "yes bhaiya \n",
      "******************************************\n",
      "[(0, 0.018269079), (1, 0.018189015), (2, 0.9271271), (3, 0.018188069), (4, 0.018226719)]\n",
      "95  ************************************\n",
      "code vs postman bash git js node require users windows \n",
      "******************************************\n",
      "[(0, 0.5098853), (1, 0.04020264), (2, 0.040861707), (3, 0.040221505), (4, 0.36882877)]\n",
      "96  ************************************\n",
      "join make sure install \n",
      "******************************************\n",
      "[(0, 0.06667109), (1, 0.06723303), (2, 0.06667153), (3, 0.73247725), (4, 0.06694711)]\n",
      "97  ************************************\n",
      "cool okay \n",
      "******************************************\n",
      "[(0, 0.2), (1, 0.2), (2, 0.2), (3, 0.2), (4, 0.2)]\n",
      "98  ************************************\n",
      "\n",
      "******************************************\n",
      "[(0, 0.79293287), (1, 0.05280979), (2, 0.052621365), (3, 0.050398204), (4, 0.051237788)]\n",
      "99  ************************************\n",
      "guy join start \n",
      "******************************************\n",
      "C:\\Users\\surya\\AppData\\Local\\Programs\\Python\\Python38-32\\lib\\site-packages\\ipykernel\\ipkernel.py:283: DeprecationWarning: `should_run_async` will not call `transform_cell` automatically in the future. Please pass the result to `transformed_cell` argument and any exception that happen during thetransform in `preprocessing_exc_tuple` in IPython 7.17 and above.\n",
      "  and should_run_async(code)\n"
     ]
    }
   ],
   "source": [
    "ids = dictionary.id2token\n",
    "\n",
    "def printword(k):\n",
    "    for i , j in corpus[k]:\n",
    "        print(ids[i],end = ' ')\n",
    "\n",
    "for i in range(100):\n",
    "    print(model[corpus[i]])\n",
    "    print(f\"{i}  ************************************\")\n",
    "    printword(i)\n",
    "    print(\"\\n******************************************\")"
   ]
  },
  {
   "cell_type": "code",
   "execution_count": 282,
   "metadata": {},
   "outputs": [
    {
     "output_type": "stream",
     "name": "stderr",
     "text": [
      "C:\\Users\\surya\\AppData\\Local\\Programs\\Python\\Python38-32\\lib\\site-packages\\ipykernel\\ipkernel.py:283: DeprecationWarning: `should_run_async` will not call `transform_cell` automatically in the future. Please pass the result to `transformed_cell` argument and any exception that happen during thetransform in `preprocessing_exc_tuple` in IPython 7.17 and above.\n  and should_run_async(code)\n"
     ]
    }
   ],
   "source": [
    "samsum = pd.read_json('corpus\\\\train.json')"
   ]
  },
  {
   "cell_type": "code",
   "execution_count": 285,
   "metadata": {},
   "outputs": [
    {
     "output_type": "stream",
     "name": "stderr",
     "text": [
      "C:\\Users\\surya\\AppData\\Local\\Programs\\Python\\Python38-32\\lib\\site-packages\\ipykernel\\ipkernel.py:283: DeprecationWarning: `should_run_async` will not call `transform_cell` automatically in the future. Please pass the result to `transformed_cell` argument and any exception that happen during thetransform in `preprocessing_exc_tuple` in IPython 7.17 and above.\n  and should_run_async(code)\n"
     ]
    },
    {
     "output_type": "execute_result",
     "data": {
      "text/plain": [
       "\"Amanda: I baked  cookies. Do you want some?\\r\\nJerry: Sure!\\r\\nAmanda: I'll bring you tomorrow :-)\""
      ]
     },
     "metadata": {},
     "execution_count": 285
    }
   ],
   "source": [
    "samsum['dialogue'][0]"
   ]
  },
  {
   "cell_type": "code",
   "execution_count": 286,
   "metadata": {},
   "outputs": [
    {
     "output_type": "stream",
     "name": "stdout",
     "text": [
      "<class 'pandas.core.frame.DataFrame'>\n",
      "RangeIndex: 14732 entries, 0 to 14731\n",
      "Data columns (total 3 columns):\n",
      " #   Column    Non-Null Count  Dtype \n",
      "---  ------    --------------  ----- \n",
      " 0   id        14732 non-null  object\n",
      " 1   summary   14732 non-null  object\n",
      " 2   dialogue  14732 non-null  object\n",
      "dtypes: object(3)\n",
      "memory usage: 172.7+ KB\n",
      "C:\\Users\\surya\\AppData\\Local\\Programs\\Python\\Python38-32\\lib\\site-packages\\ipykernel\\ipkernel.py:283: DeprecationWarning: `should_run_async` will not call `transform_cell` automatically in the future. Please pass the result to `transformed_cell` argument and any exception that happen during thetransform in `preprocessing_exc_tuple` in IPython 7.17 and above.\n",
      "  and should_run_async(code)\n"
     ]
    }
   ],
   "source": [
    "samsum.info()"
   ]
  },
  {
   "cell_type": "code",
   "execution_count": 290,
   "metadata": {},
   "outputs": [
    {
     "output_type": "stream",
     "name": "stderr",
     "text": [
      "C:\\Users\\surya\\AppData\\Local\\Programs\\Python\\Python38-32\\lib\\site-packages\\ipykernel\\ipkernel.py:283: DeprecationWarning: `should_run_async` will not call `transform_cell` automatically in the future. Please pass the result to `transformed_cell` argument and any exception that happen during thetransform in `preprocessing_exc_tuple` in IPython 7.17 and above.\n  and should_run_async(code)\n"
     ]
    }
   ],
   "source": [
    "def remove_name(s):\n",
    "    return re.sub(r'[A-za-z]*:', ' ', s)"
   ]
  },
  {
   "cell_type": "code",
   "execution_count": 297,
   "metadata": {},
   "outputs": [
    {
     "output_type": "stream",
     "name": "stderr",
     "text": [
      "C:\\Users\\surya\\AppData\\Local\\Programs\\Python\\Python38-32\\lib\\site-packages\\ipykernel\\ipkernel.py:283: DeprecationWarning: `should_run_async` will not call `transform_cell` automatically in the future. Please pass the result to `transformed_cell` argument and any exception that happen during thetransform in `preprocessing_exc_tuple` in IPython 7.17 and above.\n  and should_run_async(code)\n"
     ]
    }
   ],
   "source": [
    "samsum['dialogue'] = samsum['dialogue'].apply(remove_name)"
   ]
  },
  {
   "cell_type": "code",
   "execution_count": 312,
   "metadata": {},
   "outputs": [
    {
     "output_type": "stream",
     "name": "stderr",
     "text": [
      "C:\\Users\\surya\\AppData\\Local\\Programs\\Python\\Python38-32\\lib\\site-packages\\ipykernel\\ipkernel.py:283: DeprecationWarning: `should_run_async` will not call `transform_cell` automatically in the future. Please pass the result to `transformed_cell` argument and any exception that happen during thetransform in `preprocessing_exc_tuple` in IPython 7.17 and above.\n  and should_run_async(code)\n"
     ]
    }
   ],
   "source": [
    "def remove_rn(s):\n",
    "    return re.sub(r'\\r\\n',' ',s)"
   ]
  },
  {
   "cell_type": "code",
   "execution_count": 313,
   "metadata": {},
   "outputs": [
    {
     "output_type": "stream",
     "name": "stderr",
     "text": [
      "C:\\Users\\surya\\AppData\\Local\\Programs\\Python\\Python38-32\\lib\\site-packages\\ipykernel\\ipkernel.py:283: DeprecationWarning: `should_run_async` will not call `transform_cell` automatically in the future. Please pass the result to `transformed_cell` argument and any exception that happen during thetransform in `preprocessing_exc_tuple` in IPython 7.17 and above.\n  and should_run_async(code)\n"
     ]
    }
   ],
   "source": [
    "samsum['dialogue'] = samsum['dialogue'].apply(remove_rn)"
   ]
  },
  {
   "cell_type": "code",
   "execution_count": 317,
   "metadata": {},
   "outputs": [
    {
     "output_type": "stream",
     "name": "stderr",
     "text": [
      "C:\\Users\\surya\\AppData\\Local\\Programs\\Python\\Python38-32\\lib\\site-packages\\ipykernel\\ipkernel.py:283: DeprecationWarning: `should_run_async` will not call `transform_cell` automatically in the future. Please pass the result to `transformed_cell` argument and any exception that happen during thetransform in `preprocessing_exc_tuple` in IPython 7.17 and above.\n  and should_run_async(code)\n"
     ]
    }
   ],
   "source": [
    "def remove_tag(s):\n",
    "    return re.sub(r'<[a-z]*_[a-z]*>',' ',s)"
   ]
  },
  {
   "cell_type": "code",
   "execution_count": 318,
   "metadata": {},
   "outputs": [
    {
     "output_type": "stream",
     "name": "stderr",
     "text": [
      "C:\\Users\\surya\\AppData\\Local\\Programs\\Python\\Python38-32\\lib\\site-packages\\ipykernel\\ipkernel.py:283: DeprecationWarning: `should_run_async` will not call `transform_cell` automatically in the future. Please pass the result to `transformed_cell` argument and any exception that happen during thetransform in `preprocessing_exc_tuple` in IPython 7.17 and above.\n  and should_run_async(code)\n"
     ]
    }
   ],
   "source": [
    "samsum['dialogue'] = samsum['dialogue'].apply(remove_tag)"
   ]
  },
  {
   "cell_type": "code",
   "execution_count": 320,
   "metadata": {},
   "outputs": [
    {
     "output_type": "stream",
     "name": "stderr",
     "text": [
      "C:\\Users\\surya\\AppData\\Local\\Programs\\Python\\Python38-32\\lib\\site-packages\\ipykernel\\ipkernel.py:283: DeprecationWarning: `should_run_async` will not call `transform_cell` automatically in the future. Please pass the result to `transformed_cell` argument and any exception that happen during thetransform in `preprocessing_exc_tuple` in IPython 7.17 and above.\n  and should_run_async(code)\n"
     ]
    },
    {
     "output_type": "execute_result",
     "data": {
      "text/plain": [
       "0          I baked  cookies. Do you want some?   Sure! ...\n",
       "1          Who are you voting for in this election?    ...\n",
       "2          Hi, what's up?   Bad mood tbh, I was going t...\n",
       "3          Rachel, I think I'm in ove with Bella..   Do...\n",
       "4          hey  overheard rick say something   i don't ...\n",
       "                               ...                        \n",
       "14727      You are on my ‘People you may know’ list.\\n ...\n",
       "14728              Hey Louise, how are u?   This is my ...\n",
       "14729      Every day some bad news. Japan will hunt wha...\n",
       "14730      Dear Celia! How are you doing?   The afterno...\n",
       "14731      are you ready for hotel hunting? We need to ...\n",
       "Name: dialogue, Length: 14732, dtype: object"
      ]
     },
     "metadata": {},
     "execution_count": 320
    }
   ],
   "source": [
    "samsum['dialogue']"
   ]
  },
  {
   "cell_type": "code",
   "execution_count": 331,
   "metadata": {},
   "outputs": [
    {
     "output_type": "stream",
     "name": "stderr",
     "text": [
      "C:\\Users\\surya\\AppData\\Local\\Programs\\Python\\Python38-32\\lib\\site-packages\\ipykernel\\ipkernel.py:283: DeprecationWarning: `should_run_async` will not call `transform_cell` automatically in the future. Please pass the result to `transformed_cell` argument and any exception that happen during thetransform in `preprocessing_exc_tuple` in IPython 7.17 and above.\n  and should_run_async(code)\n"
     ]
    }
   ],
   "source": [
    "from nltk import pos_tag"
   ]
  },
  {
   "cell_type": "code",
   "execution_count": 353,
   "metadata": {},
   "outputs": [
    {
     "output_type": "stream",
     "name": "stderr",
     "text": [
      "C:\\Users\\surya\\AppData\\Local\\Programs\\Python\\Python38-32\\lib\\site-packages\\ipykernel\\ipkernel.py:283: DeprecationWarning: `should_run_async` will not call `transform_cell` automatically in the future. Please pass the result to `transformed_cell` argument and any exception that happen during thetransform in `preprocessing_exc_tuple` in IPython 7.17 and above.\n  and should_run_async(code)\n"
     ]
    },
    {
     "output_type": "execute_result",
     "data": {
      "text/plain": [
       "['hello',\n",
       " 'hi',\n",
       " 'something',\n",
       " 'please',\n",
       " 'anything',\n",
       " 'time',\n",
       " 'sorry',\n",
       " 'p',\n",
       " 'im',\n",
       " 'ok',\n",
       " 'hey',\n",
       " 'x',\n",
       " 'peter',\n",
       " 'ah',\n",
       " 'something',\n",
       " 'nothing',\n",
       " 'mr',\n",
       " 'tv',\n",
       " 'th',\n",
       " 'yeah',\n",
       " 'dude',\n",
       " 'fuck',\n",
       " 'guess',\n",
       " 'hi',\n",
       " 'ha',\n",
       " 'dont',\n",
       " 'lol',\n",
       " 'b',\n",
       " 'bro',\n",
       " 'yo',\n",
       " 'mike',\n",
       " 'everyone',\n",
       " 'guy',\n",
       " 'girl',\n",
       " 'sure',\n",
       " 'hahaha',\n",
       " 'haha',\n",
       " 'k',\n",
       " 'nope',\n",
       " 'l',\n",
       " 'xx',\n",
       " 'tomorrow',\n",
       " 'today',\n",
       " 'week']"
      ]
     },
     "metadata": {},
     "execution_count": 353
    }
   ],
   "source": [
    "swords = pd.read_csv('sword.csv',header = None).values.tolist()\n",
    "swords = swords[0]\n",
    "swords"
   ]
  },
  {
   "cell_type": "code",
   "execution_count": 375,
   "metadata": {},
   "outputs": [
    {
     "output_type": "stream",
     "name": "stderr",
     "text": [
      "C:\\Users\\surya\\AppData\\Local\\Programs\\Python\\Python38-32\\lib\\site-packages\\ipykernel\\ipkernel.py:283: DeprecationWarning: `should_run_async` will not call `transform_cell` automatically in the future. Please pass the result to `transformed_cell` argument and any exception that happen during thetransform in `preprocessing_exc_tuple` in IPython 7.17 and above.\n  and should_run_async(code)\n"
     ]
    }
   ],
   "source": [
    "class transformdialogue:\n",
    "\n",
    "\n",
    "    def __init__(self,data):\n",
    "        self.urlreg = r\"(https?:\\/\\/(?:www\\.|(?!www))[a-zA-Z0-9][a-zA-Z0-9-]+[a-zA-Z0-9]\\.[^\\s]{2,}|www\\.[a-zA-Z0-9][a-zA-Z0-9-]+[a-zA-Z0-9]\\.[^\\s]{2,}|https?:\\/\\/(?:www\\.|(?!www))[a-zA-Z0-9]+\\.[^\\s]{2,}|www\\.[a-zA-Z0-9]+\\.[^\\s]{2,})\"\n",
    "        self.stopwords_list = stopwords.words('english') + swords\n",
    "        self.lemmat = WordNetLemmatizer()\n",
    "        self.data = data\n",
    "        self.transform()\n",
    "\n",
    "    def transform(self):\n",
    "        #self.data = self.removeColumns(self.data)\n",
    "        #self.data = self.data.apply(self.moto0)\n",
    "        #self.data = self.data.apply(self.msgdelto0)\n",
    "        self.data = self.data.apply(self.remove_name)\n",
    "        self.data = self.data.apply(self.remove_rn)\n",
    "        self.data = self.data.apply(self.remove_tag)\n",
    "        self.data = self.data.apply(self.demojimsg)\n",
    "        self.link = self.data.apply(self.extractlink)\n",
    "        self.data = self.data.apply(self.linkto0)\n",
    "        self.data = self.data.apply(self.removeSymbols)\n",
    "        self.data = self.data.apply(self.removespace)\n",
    "        self.data = self.data.apply(self.removeno)\n",
    "        self.data = self.removena(self.data)\n",
    "        self.data = self.data.apply(self.low)\n",
    "        self.tokens = self.data.apply(self.tokenize)\n",
    "        self.tokens = self.tokens.apply(self.postag)\n",
    "        self.tokens = self.tokens.apply(self.applylema)\n",
    "        self.tokens = self.tokens.apply(self.nostopword)\n",
    "\n",
    "\n",
    "\n",
    "    def remove_name(self,s):\n",
    "        return re.sub(r'[A-za-z]*:', ' ', s)\n",
    "\n",
    "    def remove_rn(self,s):\n",
    "        return re.sub(r'\\r\\n',' ',s)\n",
    "\n",
    "    def remove_tag(self,s):\n",
    "        return re.sub(r'<[a-z]*_[a-z]*>',' ',s)\n",
    "\n",
    "    def removeColumns(self,data):\n",
    "        return data['msg']\n",
    "    \n",
    "    def moto0(self,s):\n",
    "        if('Media omitted' in s):\n",
    "            return 'del'\n",
    "        return s\n",
    "\n",
    "    def msgdelto0(self,s):\n",
    "        if('This message was deleted' in s):\n",
    "            return 'del'\n",
    "        return s\n",
    "\n",
    "    def demojimsg(self,s):\n",
    "        return demoji.replace(s,\" \")\n",
    "    \n",
    "    def extractlink(self,s):\n",
    "        return re.findall(self.urlreg,s)\n",
    "\n",
    "    def linkto0(self,s):\n",
    "        return re.sub(self.urlreg,'',s)\n",
    "\n",
    "    def removeSymbols(self,s):\n",
    "        return re.sub(r\"[^a-zA-Z0-9]\", \" \", s)\n",
    "\n",
    "    def removeno(self,s):\n",
    "        return re.sub(r'[0-9]',\" \",s)\n",
    "\n",
    "    def removena(self,data):\n",
    "        return data[data != 'del']\n",
    "    \n",
    "    def removespace(self, s):\n",
    "        if(s.isspace()):\n",
    "            return 'del'\n",
    "        return s\n",
    "\n",
    "    def removeSymbols(self,s):\n",
    "        return re.sub(r\"[^a-zA-Z0-9]\", \" \", s)\n",
    "\n",
    "    def low(self,s):\n",
    "        return s.lower()\n",
    "\n",
    "\n",
    "    def tokenize(self,s):\n",
    "        return word_tokenize(s)\n",
    "\n",
    "    def postag(self,s):\n",
    "        taged = pos_tag(s)\n",
    "        noun_verb = []\n",
    "        for word , tag in taged:\n",
    "            if(tag == 'NN' or tag == 'NNP' or tag == 'VB'):\n",
    "                noun_verb.append(word)\n",
    "        return noun_verb\n",
    "\n",
    "    def applylema(self,s):\n",
    "        words = []\n",
    "        for word in s:\n",
    "            words.append(self.lemmat.lemmatize(word,pos='v'))\n",
    "        return words\n",
    "\n",
    "    def nostopword(self,s):\n",
    "        words = []\n",
    "        for word in s:\n",
    "            if word not in self.stopwords_list:\n",
    "                words.append(word)\n",
    "        return words\n"
   ]
  },
  {
   "cell_type": "code",
   "execution_count": 376,
   "metadata": {},
   "outputs": [
    {
     "output_type": "stream",
     "name": "stderr",
     "text": [
      "C:\\Users\\surya\\AppData\\Local\\Programs\\Python\\Python38-32\\lib\\site-packages\\ipykernel\\ipkernel.py:283: DeprecationWarning: `should_run_async` will not call `transform_cell` automatically in the future. Please pass the result to `transformed_cell` argument and any exception that happen during thetransform in `preprocessing_exc_tuple` in IPython 7.17 and above.\n  and should_run_async(code)\n"
     ]
    }
   ],
   "source": [
    "dia = transformdialogue(samsum['dialogue'])"
   ]
  },
  {
   "cell_type": "code",
   "execution_count": 329,
   "metadata": {},
   "outputs": [
    {
     "output_type": "stream",
     "name": "stderr",
     "text": [
      "C:\\Users\\surya\\AppData\\Local\\Programs\\Python\\Python38-32\\lib\\site-packages\\ipykernel\\ipkernel.py:283: DeprecationWarning: `should_run_async` will not call `transform_cell` automatically in the future. Please pass the result to `transformed_cell` argument and any exception that happen during thetransform in `preprocessing_exc_tuple` in IPython 7.17 and above.\n  and should_run_async(code)\n"
     ]
    }
   ],
   "source": [
    "dia.data.to_csv('final_dialogue.csv')"
   ]
  },
  {
   "cell_type": "code",
   "execution_count": 342,
   "metadata": {},
   "outputs": [
    {
     "output_type": "stream",
     "name": "stderr",
     "text": [
      "C:\\Users\\surya\\AppData\\Local\\Programs\\Python\\Python38-32\\lib\\site-packages\\ipykernel\\ipkernel.py:283: DeprecationWarning: `should_run_async` will not call `transform_cell` automatically in the future. Please pass the result to `transformed_cell` argument and any exception that happen during thetransform in `preprocessing_exc_tuple` in IPython 7.17 and above.\n  and should_run_async(code)\n"
     ]
    }
   ],
   "source": [
    "dia.tokens.to_csv('dialogue_tokens.csv')"
   ]
  },
  {
   "cell_type": "code",
   "execution_count": 377,
   "metadata": {},
   "outputs": [
    {
     "output_type": "stream",
     "name": "stderr",
     "text": [
      "C:\\Users\\surya\\AppData\\Local\\Programs\\Python\\Python38-32\\lib\\site-packages\\ipykernel\\ipkernel.py:283: DeprecationWarning: `should_run_async` will not call `transform_cell` automatically in the future. Please pass the result to `transformed_cell` argument and any exception that happen during thetransform in `preprocessing_exc_tuple` in IPython 7.17 and above.\n",
      "  and should_run_async(code)\n",
      "(0, '0.011*\"class\" + 0.010*\"gym\" + 0.010*\"church\" + 0.010*\"h\" + 0.010*\"desk\" + 0.010*\"john\" + 0.010*\"front\" + 0.009*\"ms\"')\n",
      "(1, '0.042*\"get\" + 0.022*\"buy\" + 0.015*\"way\" + 0.014*\"christmas\" + 0.013*\"year\" + 0.011*\"play\" + 0.010*\"game\" + 0.010*\"go\"')\n",
      "(2, '0.091*\"xd\" + 0.023*\"photo\" + 0.016*\"song\" + 0.015*\"open\" + 0.014*\"send\" + 0.012*\"door\" + 0.012*\"picture\" + 0.011*\"dance\"')\n",
      "(3, '0.021*\"man\" + 0.018*\"movie\" + 0.018*\"see\" + 0.014*\"watch\" + 0.013*\"think\" + 0.011*\"year\" + 0.011*\"news\" + 0.010*\"hear\"')\n",
      "(4, '0.025*\"job\" + 0.018*\"watch\" + 0.016*\"season\" + 0.015*\"name\" + 0.014*\"find\" + 0.014*\"series\" + 0.012*\"jack\" + 0.011*\"google\"')\n",
      "(5, '0.042*\"go\" + 0.030*\"see\" + 0.023*\"come\" + 0.021*\"let\" + 0.020*\"place\" + 0.018*\"home\" + 0.017*\"work\" + 0.017*\"meet\"')\n",
      "(6, '0.021*\"love\" + 0.019*\"dog\" + 0.017*\"look\" + 0.017*\"dress\" + 0.017*\"take\" + 0.012*\"life\" + 0.011*\"wear\" + 0.009*\"tell\"')\n",
      "(7, '0.026*\"talk\" + 0.022*\"know\" + 0.020*\"call\" + 0.017*\"let\" + 0.013*\"u\" + 0.012*\"book\" + 0.012*\"job\" + 0.012*\"tell\"')\n",
      "(8, '0.019*\"buy\" + 0.019*\"money\" + 0.016*\"get\" + 0.015*\"mom\" + 0.014*\"thank\" + 0.013*\"dad\" + 0.013*\"number\" + 0.012*\"help\"')\n",
      "(9, '0.019*\"work\" + 0.018*\"know\" + 0.017*\"get\" + 0.016*\"thank\" + 0.015*\"let\" + 0.014*\"help\" + 0.013*\"problem\" + 0.012*\"ask\"')\n"
     ]
    }
   ],
   "source": [
    "dictionary5 = corpora.Dictionary(dia.tokens)\n",
    "corpus5 = [dictionary5.doc2bow(text) for text in dia.tokens]\n",
    "\n",
    "model5 = LdaModel(corpus5,num_topics =10 ,id2word = dictionary5,passes=10)\n",
    "\n",
    "topics = model5.print_topics(num_words=8)\n",
    "for topic in topics:\n",
    "    print(topic)"
   ]
  },
  {
   "cell_type": "code",
   "execution_count": 380,
   "metadata": {},
   "outputs": [
    {
     "output_type": "stream",
     "name": "stderr",
     "text": [
      "C:\\Users\\surya\\AppData\\Local\\Programs\\Python\\Python38-32\\lib\\site-packages\\ipykernel\\ipkernel.py:283: DeprecationWarning: `should_run_async` will not call `transform_cell` automatically in the future. Please pass the result to `transformed_cell` argument and any exception that happen during thetransform in `preprocessing_exc_tuple` in IPython 7.17 and above.\n  and should_run_async(code)\n"
     ]
    },
    {
     "output_type": "execute_result",
     "data": {
      "text/plain": [
       "[(0, 1), (1, 1)]"
      ]
     },
     "metadata": {},
     "execution_count": 380
    }
   ],
   "source": [
    "corpus5[0]"
   ]
  },
  {
   "cell_type": "code",
   "execution_count": 378,
   "metadata": {},
   "outputs": [
    {
     "output_type": "stream",
     "name": "stderr",
     "text": [
      "C:\\Users\\surya\\AppData\\Local\\Programs\\Python\\Python38-32\\lib\\site-packages\\ipykernel\\ipkernel.py:283: DeprecationWarning: `should_run_async` will not call `transform_cell` automatically in the future. Please pass the result to `transformed_cell` argument and any exception that happen during thetransform in `preprocessing_exc_tuple` in IPython 7.17 and above.\n  and should_run_async(code)\n"
     ]
    },
    {
     "output_type": "execute_result",
     "data": {
      "text/plain": [
       "<IPython.core.display.HTML object>"
      ],
      "text/html": "\n<link rel=\"stylesheet\" type=\"text/css\" href=\"https://cdn.jsdelivr.net/gh/bmabey/pyLDAvis@3.2.2/pyLDAvis/js/ldavis.v1.0.0.css\">\n\n\n<div id=\"ldavis_el21407675328646431581945\"></div>\n<script type=\"text/javascript\">\n\nvar ldavis_el21407675328646431581945_data = {\"mdsDat\": {\"x\": [0.2796461946351746, -0.09025085517131973, 0.28718765695763326, -0.018321439443002394, 0.13186836631744905, -0.17994753321925613, 0.008560128468114124, -0.1380772726608481, -0.11845447993113961, -0.1622107659528056], \"y\": [-0.27174161780123524, -0.032606468080056045, 0.1946563464262465, 0.1256510397963229, 0.006764692409753532, -0.0404847337326158, 0.10068206837469819, -0.013697547993962052, -0.06196218533440966, -0.007261594064741726], \"topics\": [1, 2, 3, 4, 5, 6, 7, 8, 9, 10], \"cluster\": [1, 1, 1, 1, 1, 1, 1, 1, 1, 1], \"Freq\": [3.199209484090157, 9.662062558028126, 3.3705399870372403, 8.560244879401816, 4.168413054477084, 24.587888905887915, 6.21365253824612, 11.308286443543537, 11.306594550678433, 17.62310759860957]}, \"tinfo\": {\"Term\": [\"xd\", \"buy\", \"get\", \"love\", \"go\", \"job\", \"talk\", \"come\", \"call\", \"meet\", \"man\", \"let\", \"watch\", \"send\", \"see\", \"place\", \"home\", \"money\", \"movie\", \"thank\", \"mom\", \"know\", \"u\", \"take\", \"dog\", \"party\", \"christmas\", \"night\", \"car\", \"look\", \"church\", \"desk\", \"ms\", \"rain\", \"laptop\", \"star\", \"gate\", \"doll\", \"jacket\", \"weight\", \"chris\", \"flow\", \"session\", \"field\", \"present\", \"trump\", \"massage\", \"camp\", \"cambridge\", \"memory\", \"manchester\", \"submit\", \"tape\", \"luke\", \"fashion\", \"boston\", \"assignment\", \"capital\", \"charger\", \"camera\", \"h\", \"gym\", \"john\", \"police\", \"front\", \"class\", \"college\", \"run\", \"cinema\", \"morning\", \"entrance\", \"build\", \"christmas\", \"min\", \"traffic\", \"airport\", \"plane\", \"homework\", \"sex\", \"brand\", \"bread\", \"package\", \"mon\", \"awesome\", \"kick\", \"eu\", \"rome\", \"reception\", \"sale\", \"delay\", \"cheese\", \"science\", \"linda\", \"math\", \"bird\", \"joe\", \"july\", \"luggage\", \"pink\", \"santa\", \"com\", \"exchange\", \"c\", \"market\", \"flight\", \"thx\", \"play\", \"kill\", \"buy\", \"game\", \"sth\", \"get\", \"ticket\", \"borrow\", \"u\", \"year\", \"way\", \"shop\", \"hurry\", \"mate\", \"ya\", \"man\", \"gon\", \"home\", \"try\", \"wait\", \"stuff\", \"go\", \"see\", \"cool\", \"oh\", \"check\", \"idea\", \"help\", \"day\", \"car\", \"photo\", \"open\", \"dance\", \"website\", \"pic\", \"football\", \"harry\", \"key\", \"studio\", \"effort\", \"hah\", \"album\", \"freeze\", \"trailer\", \"workshop\", \"light\", \"ball\", \"comedy\", \"printer\", \"grind\", \"campus\", \"wise\", \"bath\", \"relief\", \"promote\", \"bless\", \"basketball\", \"greece\", \"audience\", \"score\", \"xd\", \"song\", \"practice\", \"door\", \"picture\", \"floor\", \"style\", \"uncle\", \"file\", \"ye\", \"turn\", \"print\", \"cuz\", \"art\", \"fb\", \"send\", \"idk\", \"look\", \"remember\", \"shit\", \"omg\", \"film\", \"exam\", \"fire\", \"europe\", \"movie\", \"match\", \"vote\", \"joke\", \"war\", \"screen\", \"sweet\", \"government\", \"president\", \"uk\", \"rum\", \"booze\", \"russia\", \"wind\", \"character\", \"ofc\", \"version\", \"bore\", \"chick\", \"race\", \"mexico\", \"channel\", \"connection\", \"master\", \"transport\", \"cast\", \"direction\", \"dream\", \"music\", \"win\", \"watch\", \"tho\", \"man\", \"news\", \"country\", \"france\", \"poland\", \"happen\", \"hehe\", \"wow\", \"game\", \"hear\", \"hell\", \"world\", \"think\", \"year\", \"see\", \"play\", \"party\", \"story\", \"show\", \"way\", \"thing\", \"tell\", \"mean\", \"yesterday\", \"stop\", \"xd\", \"bite\", \"one\", \"idea\", \"series\", \"jack\", \"google\", \"recipe\", \"episode\", \"lend\", \"netflix\", \"youre\", \"wallet\", \"site\", \"app\", \"owner\", \"department\", \"river\", \"skype\", \"atmosphere\", \"credit\", \"letter\", \"download\", \"guitar\", \"judge\", \"taxi\", \"invoice\", \"upload\", \"border\", \"bomb\", \"anytime\", \"metal\", \"programme\", \"ahh\", \"apply\", \"jane\", \"season\", \"job\", \"watch\", \"band\", \"recommend\", \"name\", \"internet\", \"computer\", \"find\", \"show\", \"know\", \"check\", \"let\", \"lot\", \"pick\", \"weather\", \"bar\", \"tonight\", \"sunday\", \"beach\", \"pub\", \"mall\", \"colour\", \"corner\", \"babe\", \"warsaw\", \"flu\", \"ride\", \"reservation\", \"location\", \"clock\", \"discount\", \"station\", \"cos\", \"consider\", \"escape\", \"probs\", \"jay\", \"alarm\", \"moron\", \"cu\", \"la\", \"km\", \"drama\", \"join\", \"park\", \"lunch\", \"grab\", \"perfect\", \"saturday\", \"place\", \"train\", \"come\", \"pm\", \"weekend\", \"wine\", \"car\", \"road\", \"sleep\", \"go\", \"city\", \"night\", \"town\", \"stay\", \"home\", \"see\", \"meet\", \"beer\", \"drive\", \"drink\", \"let\", \"love\", \"party\", \"hour\", \"wan\", \"work\", \"take\", \"food\", \"morning\", \"bring\", \"bite\", \"day\", \"wait\", \"get\", \"want\", \"know\", \"way\", \"dog\", \"dress\", \"wear\", \"boyfriend\", \"italy\", \"task\", \"code\", \"sweetheart\", \"ur\", \"ppl\", \"vet\", \"weird\", \"lawyer\", \"reunion\", \"result\", \"speech\", \"adventure\", \"knock\", \"pull\", \"adult\", \"disaster\", \"birth\", \"donna\", \"grey\", \"malta\", \"japan\", \"recognize\", \"suffer\", \"hangover\", \"improve\", \"cousin\", \"mark\", \"language\", \"cute\", \"shirt\", \"cat\", \"omg\", \"love\", \"hahah\", \"relationship\", \"life\", \"look\", \"speak\", \"take\", \"trip\", \"doubt\", \"one\", \"tell\", \"keep\", \"stop\", \"god\", \"luck\", \"lot\", \"party\", \"idea\", \"say\", \"night\", \"fun\", \"think\", \"bite\", \"go\", \"teach\", \"future\", \"position\", \"quit\", \"kk\", \"update\", \"cancel\", \"postpone\", \"radio\", \"program\", \"sofa\", \"subway\", \"calendar\", \"jess\", \"coat\", \"monica\", \"english\", \"translation\", \"stock\", \"pat\", \"accommodation\", \"robert\", \"countryside\", \"promotion\", \"george\", \"semester\", \"fetch\", \"wave\", \"jan\", \"bt\", \"mail\", \"admit\", \"vacation\", \"messenger\", \"talk\", \"child\", \"u\", \"business\", \"date\", \"call\", \"sense\", \"r\", \"book\", \"interest\", \"job\", \"boss\", \"doctor\", \"system\", \"ben\", \"read\", \"know\", \"news\", \"team\", \"month\", \"let\", \"tell\", \"school\", \"meet\", \"life\", \"everything\", \"make\", \"think\", \"work\", \"thing\", \"start\", \"end\", \"okay\", \"someone\", \"give\", \"go\", \"take\", \"get\", \"yesterday\", \"say\", \"year\", \"hair\", \"account\", \"pizza\", \"milk\", \"bank\", \"gift\", \"fridge\", \"sis\", \"blue\", \"mrs\", \"sir\", \"apple\", \"transfer\", \"pasta\", \"sugar\", \"heat\", \"orange\", \"michael\", \"juice\", \"password\", \"log\", \"inform\", \"aunt\", \"somehow\", \"hr\", \"shock\", \"deliver\", \"grocery\", \"fruit\", \"cv\", \"mom\", \"supermarket\", \"dad\", \"martha\", \"mum\", \"order\", \"number\", \"money\", \"jenny\", \"phone\", \"buy\", \"save\", \"pay\", \"chicken\", \"cash\", \"dinner\", \"give\", \"thank\", \"price\", \"help\", \"call\", \"get\", \"water\", \"idea\", \"cook\", \"eat\", \"home\", \"way\", \"course\", \"day\", \"make\", \"birthday\", \"problem\", \"yes\", \"look\", \"everything\", \"need\", \"know\", \"project\", \"copy\", \"paper\", \"deadline\", \"library\", \"museum\", \"lecture\", \"paul\", \"rush\", \"create\", \"xmas\", \"cover\", \"david\", \"okey\", \"sweetie\", \"delivery\", \"chapter\", \"hon\", \"june\", \"stress\", \"sweater\", \"laugh\", \"twitter\", \"architecture\", \"sooo\", \"laura\", \"canada\", \"complaint\", \"organize\", \"spa\", \"group\", \"test\", \"information\", \"email\", \"write\", \"mention\", \"facebook\", \"send\", \"touch\", \"thank\", \"restaurant\", \"ask\", \"help\", \"problem\", \"class\", \"teacher\", \"presentation\", \"need\", \"work\", \"glad\", \"know\", \"course\", \"lot\", \"try\", \"someone\", \"let\", \"get\", \"friend\", \"question\", \"tell\", \"think\", \"talk\", \"make\", \"day\", \"see\", \"everything\", \"say\", \"find\", \"idea\", \"give\", \"go\", \"thing\", \"check\", \"hear\"], \"Freq\": [766.0, 962.0, 2887.0, 825.0, 3117.0, 663.0, 1124.0, 1488.0, 956.0, 1386.0, 794.0, 2263.0, 419.0, 750.0, 2694.0, 1258.0, 1419.0, 593.0, 345.0, 1215.0, 380.0, 2049.0, 528.0, 1469.0, 262.0, 826.0, 303.0, 914.0, 660.0, 932.0, 68.9991333107959, 67.44937928307932, 64.57071077271952, 62.14051939790265, 56.421275987079376, 55.55103570807347, 52.857995193961706, 51.444764269939775, 50.286062634026734, 49.10928672722649, 61.18321631887413, 43.01904257371051, 42.4608306397868, 42.25895712440739, 40.566072577199904, 38.93058046363013, 37.49849659527019, 35.55060780145892, 34.55524988465609, 33.40486486891889, 32.31857986393093, 36.27837345603829, 30.49699125763856, 30.320759038962915, 29.764081834869632, 29.618521595731387, 29.159485518955094, 26.86429544204312, 25.48593681077871, 25.341294178528553, 68.9323547926163, 69.90906978074213, 66.99171961663517, 46.690106635066684, 66.11145028206369, 75.4946721489418, 39.81643298377421, 47.078952246924565, 45.47552467827517, 52.55492967108922, 38.17565816857759, 38.57019682035383, 303.0242925233757, 190.08978041412618, 148.01189444622298, 114.72740779163388, 110.71271843341906, 95.21348098887023, 77.74455539279366, 73.4670412318241, 67.03240523657216, 61.36095552021863, 59.556237893506044, 56.62650345079898, 54.4876097568428, 54.48578987024171, 53.0414146695975, 49.77533298126217, 53.566449514485704, 46.53336357062813, 43.03216033991605, 41.719163387281355, 39.914945863455124, 37.27997938054659, 35.81735652336599, 35.635487400044454, 35.55668094325945, 34.94111039925643, 34.82445469231605, 34.275078254256705, 33.71972009777125, 33.46983942143123, 78.30553421781653, 81.78294718829561, 170.56933519715594, 161.45570414878574, 223.4893931926813, 92.48502698005423, 455.51541092108374, 206.9552794279963, 160.1785438371296, 877.646158480625, 90.1492586366595, 85.12668387701419, 203.83030481845483, 281.2442604895239, 316.88169951058836, 149.92621998846772, 72.5289165237512, 93.4964252993206, 96.95905961962622, 180.06537662627747, 144.2395085957383, 202.16133707083642, 173.21313764423223, 164.50640982041352, 135.99632003846958, 204.7262549962869, 160.73389711456252, 111.95792095087373, 108.74706525835002, 117.96873804638388, 119.82571520495779, 118.1652857993016, 119.57284366940472, 111.40222613976233, 169.24560919175843, 109.07908866839502, 79.6867165254974, 77.82262133231453, 74.44575549087843, 63.058820740325274, 66.78170762656507, 49.82003854591737, 47.17275458830504, 46.48764993981236, 39.69223914555229, 38.97596026461188, 38.39756217481533, 32.54883636517086, 32.23922156802261, 30.05449949623609, 29.484788526029693, 29.471863371999987, 29.187448710559377, 29.10752176386001, 28.223283961407947, 26.62698488819267, 39.831212634732374, 25.85207475810618, 25.35473375752621, 25.31444860204437, 24.77252654279965, 23.490058174887956, 23.256433547869317, 23.233427318343434, 662.1156978927536, 116.80965154712514, 54.48384056265626, 91.10825678457465, 87.14695067572737, 75.9843696391036, 62.96253395947611, 42.50853047014405, 63.1926064668661, 46.029292047988825, 63.708679920073266, 43.519374870917645, 32.157691316728034, 51.0696425736711, 57.03230513088689, 98.69588386722698, 45.899856689330534, 63.02162135048155, 51.938218370937314, 48.5783012632157, 44.68988594268501, 120.02585087737127, 119.01509016173513, 113.65503423062239, 99.17330245618668, 342.53298609629184, 89.7888862318238, 83.49658651905551, 70.25098638003938, 62.439683987876826, 54.75977772223972, 50.896346020443204, 48.67041860716583, 42.6822574628814, 40.87772962161638, 40.39357356163165, 37.85362163910772, 37.501237777728164, 34.85469535660478, 34.80678939311436, 34.54071191270027, 34.31876454564269, 32.11052332678183, 32.10116691279808, 30.59510413881401, 29.45289326330763, 29.362175600073552, 29.22378755873234, 29.20995069979863, 27.51675964613938, 27.46367080421675, 29.919756491625918, 66.25381998855492, 137.95981195441982, 79.57666187461463, 258.0399468913005, 63.022950170208354, 392.78451547068687, 196.0597927261871, 89.52818614988315, 48.29421252473546, 75.2872788318407, 109.63768530419215, 57.99421806400999, 144.81622843212622, 140.57065130264007, 185.9596724300797, 102.51519134607166, 100.82777753763732, 238.53916578605268, 200.29718272327074, 336.8150997426448, 117.61116553873985, 168.00540346072546, 79.65806635054078, 111.51727626803881, 167.37709508217736, 143.45361122055567, 150.4083251591032, 108.70700632820171, 115.01140086486768, 100.13332369973163, 103.5303438919723, 100.11126944972233, 95.54425875875208, 96.95950877081523, 124.00556270391363, 105.28593565542305, 97.61999648703362, 89.4852739280935, 74.23784513793576, 65.04032966560159, 64.30840131938561, 63.715482147119246, 61.113164737157256, 54.291960996302805, 53.60136072581861, 50.95383376046459, 85.23658608471197, 48.64324196279853, 46.08823061242684, 42.11907666214807, 40.60986306965153, 39.73153305677078, 35.29114979437667, 34.52826433245391, 33.02433830877872, 32.80472738908596, 31.054731552372363, 28.72667730608295, 27.06177933254977, 26.82259683049203, 26.782662214377982, 26.19323932069929, 24.942192538859093, 24.91346032770809, 55.33920273196914, 60.10525981921912, 140.70128858908, 222.86114109693935, 160.99330220596923, 50.81374686548134, 78.01996397070295, 139.82244076492137, 65.37419164440452, 59.63270019520287, 126.25542323739444, 67.94101161782069, 85.2060310094689, 56.716576521298514, 61.78519536904994, 48.38396164740235, 429.7205600644012, 232.4942153932764, 164.9172048516914, 488.15909918014313, 140.07676316376185, 135.56510733880094, 124.66898112061644, 91.60467253447732, 86.36322034195842, 71.17058531737514, 123.13117906706074, 69.03885680762603, 65.16665124677395, 60.9530140225193, 53.613412793456575, 51.502934521603876, 54.53081095446821, 48.09230237960003, 159.41942127654235, 42.93550348651306, 42.484269615201065, 40.76465479735867, 40.6189823368739, 37.38896790487832, 37.34176170886186, 36.306521883885935, 34.1667383978965, 32.074158003886446, 31.412603891682327, 28.763385839002897, 383.25317453919865, 166.19481410048093, 263.1152680995583, 141.93937165808308, 160.67663079359727, 193.92825560177803, 1075.7446284125972, 225.0624304708091, 1227.9956112731186, 429.8855458436402, 526.4314791439695, 216.8112790866063, 548.3192614257226, 133.63104391074097, 227.80706972757466, 2232.9391899835277, 267.9634512093246, 703.4716498320428, 244.63961720972188, 443.04780537743346, 938.6606163980252, 1615.3549053999584, 883.1039149782866, 214.91659968110397, 220.94630346760002, 282.4094163207459, 1110.6831732159849, 520.9657913122982, 518.1896895356205, 350.9483927878352, 326.2469374645054, 905.0836760869967, 714.1321051384471, 337.0513455948483, 429.430121522261, 321.4414162404604, 507.5259067014591, 589.8443246043896, 444.32850624716144, 700.6633157342554, 353.56293564221767, 483.88655354005465, 356.0987849483749, 261.9176691485676, 226.83349284145189, 148.61972892814717, 114.46825534335366, 79.88775657949375, 62.93808664521748, 51.673963610126464, 50.17567635289335, 48.30338050005454, 45.208118773143546, 43.681017937381874, 40.063920747260276, 37.86926298318691, 36.709474872772844, 35.83356781471561, 33.9625835240923, 32.04009374598709, 31.39885278011894, 31.19541002670125, 30.33999848154269, 30.28913308662529, 30.066459316894683, 27.580135845305023, 27.38591167989963, 25.81861052092028, 25.77188847027458, 25.751455711548893, 24.633753687250863, 24.456459028863964, 24.38832054783095, 53.586880239141976, 114.5172035982862, 75.33096271447013, 61.683611900886795, 45.1493745918072, 101.63338908289477, 114.01175638735204, 286.9232742567276, 75.09455519398057, 44.91379856410976, 163.2203783836282, 227.189610222338, 70.32789882364236, 225.81007268665468, 95.52646673833064, 53.04626558966398, 94.78784384681593, 120.50900968791667, 88.7387055447414, 81.23993957117054, 70.31689801711713, 70.70914297539385, 89.70397140742837, 84.26104469185873, 90.22375167147354, 76.44543289885917, 80.66288984885429, 69.71017812181101, 81.41305323278195, 79.24234246112172, 73.12073564007784, 85.70686268898059, 70.92324419838543, 66.60693613973753, 54.27976018636189, 53.57284785810614, 43.77042731551457, 52.786950018929645, 36.24248341287528, 35.53668174698752, 35.15733201726753, 33.76603467716597, 33.16531480508702, 32.00790468657651, 31.931865714380105, 31.856449169937488, 31.423724832743797, 31.13230301635215, 30.819364614857164, 30.639029021477135, 30.04089593630154, 29.242498148932047, 27.464493297819185, 27.372239797119352, 26.427791335945315, 25.55711769463396, 25.30040621862199, 25.00322837309442, 24.425432686497786, 24.308190710104693, 23.680470892825415, 81.61662153257686, 65.83219060701188, 44.386607950376764, 34.135077231697124, 642.1458538804956, 79.77600558874491, 314.04374182016704, 121.46804384813508, 212.73858836608156, 494.9318454730894, 112.13601308736078, 118.31654937205992, 295.817549657887, 56.04276681274707, 294.6853478634048, 102.35543461961535, 125.59524236621313, 66.4152112605325, 55.04636276517104, 157.0223505791782, 529.3827305553299, 151.39835607190514, 97.8807729459195, 160.1588725270843, 422.7365759391283, 287.0578098098135, 186.35949486393702, 286.10447890486864, 167.28924498475288, 221.49513042019072, 241.1684157169048, 244.7718955284628, 280.1953668035909, 199.82900276624636, 149.69853442804873, 140.58017340756015, 125.44283322173116, 145.82847280678683, 171.06920876106773, 223.9259106608459, 183.371441921521, 202.6237376428215, 140.54054360378703, 139.1618375774203, 127.81834873026582, 178.78614211165007, 151.281771996269, 203.2575044626431, 110.95850751558244, 91.15684732746804, 165.80008523928393, 83.18813216746847, 79.77991942616964, 72.43541160860885, 60.18953898987497, 57.46558602797315, 56.08495663662649, 54.55907205906051, 53.19695855030137, 51.75135513988408, 51.20980411327003, 50.27516027127871, 43.08525407835714, 40.83460943982318, 40.607816998213046, 36.08241939113408, 35.456102391397714, 35.01313716331552, 34.97117239704407, 34.855440994007026, 34.67463851053519, 33.863496690206134, 33.82587684735408, 33.580979606581124, 33.26168197542948, 370.15438311699444, 56.79198587015828, 330.1245180117034, 40.57868146048744, 249.92945000252297, 219.45907872097996, 328.63781196830814, 459.5610313448186, 62.27734606154568, 273.9815757742262, 465.6126361157621, 77.88919259969047, 218.90169527302297, 66.14068524890742, 75.57088762609531, 215.56826545806746, 286.2196206794148, 334.278493180328, 104.40866963390265, 300.166036945784, 248.71054197235165, 402.930361461903, 96.72522353267678, 236.63206594985078, 86.95072736831868, 133.9530755013091, 232.07262549666385, 228.44961024697528, 205.22558919636197, 223.89759213340102, 205.91056837175222, 128.15904875289215, 177.7239710561296, 141.4585338986239, 167.8206744615242, 156.89791381163107, 149.87045408537008, 148.2820734082657, 218.373450412839, 132.86808996769378, 101.31199001598218, 94.65869768076624, 78.79011228235376, 77.42790279676902, 69.97252188137357, 69.60858701400572, 67.56165528434889, 57.97961077529734, 53.5483140939074, 52.973353868984475, 49.716432480039856, 48.947960409292484, 47.88031252852675, 47.86933988626869, 46.0180113008391, 45.96231157018768, 56.690734670513535, 44.55075189186808, 43.78976399966007, 42.427532266219984, 41.809500193341655, 40.70980205216034, 39.74167772751223, 39.43681091609563, 39.26774056415745, 37.36512177300658, 36.96329435840855, 35.96899988151356, 282.35911891554304, 185.51274512261196, 80.70763713658836, 147.29189074060866, 205.14670884568315, 72.786537415604, 99.41005645877605, 448.80748100858335, 86.40519720258551, 601.6300640009305, 124.83400673810573, 452.4648504450944, 551.327271494887, 507.12590882255967, 195.7986939766174, 115.41791343167245, 83.15095000585383, 426.04052090043183, 716.0138704185612, 115.13110297965699, 702.0724031496097, 446.81717007078936, 399.64274639591366, 393.3452150660104, 251.84629209427695, 568.4294648758256, 631.4322231292167, 221.69368474853542, 153.5401742179117, 353.77514394594607, 349.67847725685846, 327.53741161366554, 329.78095654018244, 326.2120801731071, 417.80258502185313, 258.7803612631377, 218.78649519610394, 245.41975879991878, 268.501410372409, 247.37173223337558, 350.770152821401, 239.4246381182016, 228.65300968278825, 222.0126300028168], \"Total\": [766.0, 962.0, 2887.0, 825.0, 3117.0, 663.0, 1124.0, 1488.0, 956.0, 1386.0, 794.0, 2263.0, 419.0, 750.0, 2694.0, 1258.0, 1419.0, 593.0, 345.0, 1215.0, 380.0, 2049.0, 528.0, 1469.0, 262.0, 826.0, 303.0, 914.0, 660.0, 932.0, 69.8707333801105, 68.32111105290895, 65.44228849347982, 63.012146736619755, 57.29305702745726, 56.42268878220399, 53.72957353420499, 52.31634668390954, 51.15765244834232, 49.98089407538934, 62.36905707672101, 43.890731817084855, 43.33246902664287, 43.13059599379221, 41.437757927383764, 39.80222579814229, 38.370159271127946, 36.42222555379985, 35.42687935061311, 34.276503382164854, 33.190281393139195, 37.269735061048245, 31.368617255648836, 31.19257519397506, 30.635712326573422, 30.49536399645181, 30.031074566313873, 27.736017717641946, 26.357507035764048, 26.212912936190573, 71.32011883554485, 128.1195329889675, 144.2282979308494, 78.60394094599249, 186.18918852691093, 306.70395792314196, 74.37829231580184, 154.73860403086886, 172.3424112997824, 736.665049695135, 106.6702069327524, 126.79228072159772, 303.8908651724858, 190.95634899346263, 148.88143565924392, 115.59396760046475, 111.57928929746008, 96.0800190879236, 78.61120830114446, 74.33369362881787, 67.89920528690568, 62.22753522256092, 60.42549329588184, 57.49318979442335, 55.35422151298509, 55.352497402871364, 53.90807147723833, 50.642175261849395, 54.50741639039512, 47.400150518724814, 43.89880573899419, 42.5883679876969, 40.78164553190733, 38.14650029243485, 36.684011922190585, 36.50204662636441, 36.42328033422188, 35.80764105590343, 35.6910105494602, 35.1416996051936, 34.5863764232404, 34.336549635417825, 85.85959246871, 94.08748614800506, 219.93935309833333, 220.02985402847733, 355.0914763356609, 119.70176203529061, 962.6895217707037, 348.2974887794238, 254.61675699142023, 2887.5782444596957, 126.85418845657105, 117.58764488208176, 528.7920277648744, 936.5927096198848, 1399.8292038352363, 405.2727743856962, 98.0811665333607, 163.0898618196307, 176.45275992934225, 794.5388835659439, 547.9177596021302, 1419.7734900695878, 1007.0668895529319, 971.8826327818414, 548.6275172287199, 3117.199402901733, 2694.0873385990635, 478.37729924023444, 458.4909041738629, 895.2027674328233, 1224.1291574589816, 1170.113176932729, 1414.548570218649, 660.4888602591304, 170.1157458815274, 109.9492617190053, 80.55685898860011, 78.69330279586585, 75.33966570388571, 63.92898376349818, 67.92778014562587, 50.690255858371565, 48.04290125171796, 47.357989639319825, 40.56270402496636, 39.846107384766604, 39.267732660793975, 33.41904124792502, 33.10937450614046, 30.924671944003098, 30.354959771510146, 30.34221500827238, 30.057565849224456, 29.978575260297497, 29.093428128707977, 27.497241061939043, 41.15376327520328, 26.72243956810471, 26.225083673051458, 26.18471291347041, 25.642825522236176, 24.36033020695458, 24.126684126499942, 24.10361273835388, 766.421274159019, 146.65751224194815, 67.51710855028445, 131.09819242088147, 128.2988441495486, 114.75958769328724, 89.8654304558187, 52.48036923865701, 104.5741206728523, 67.32720036666664, 131.7189016411684, 64.86850748631169, 36.104280528889795, 95.03476170109326, 122.17655951925079, 750.0565169628346, 105.13691190421548, 932.5967001821208, 598.8610974169226, 317.873938997605, 202.99495443718166, 120.89751381007763, 119.88497430989824, 114.5250444943688, 100.04327598046578, 345.6193469186082, 90.65876775851865, 84.36644798984929, 71.1217134259455, 63.30955573016312, 55.629715974217426, 51.76634361190305, 49.54031575644907, 43.55211620878998, 41.74771422165515, 41.26366622889354, 38.723589159787664, 38.371158182043146, 35.72460198740614, 35.67680723637394, 35.41107630814612, 35.18864295067718, 32.98050623283273, 32.97104897187277, 31.465047214310093, 30.322900677913047, 30.23205465000558, 30.093735675211985, 30.07998557249205, 28.386717092638523, 28.333582167054676, 30.901499089296582, 76.5452585249192, 177.79763506412723, 98.37323027018894, 419.80989942232856, 77.81117507240249, 794.5388835659439, 350.1654782484394, 130.84211181511006, 57.575443711837835, 108.38729916004537, 195.3202445271363, 76.0265676690419, 354.67510338946624, 348.2974887794238, 691.8850684358442, 239.8489796316782, 235.24400533012098, 1247.1824168689493, 936.5927096198848, 2694.0873385990635, 355.0914763356609, 826.2676380647177, 151.78842775902257, 397.7656537083549, 1399.8292038352363, 945.7178359189361, 1262.801339156943, 461.40078915071206, 626.1682249126076, 430.90662208671995, 766.421274159019, 1065.3476786164356, 528.9852653834367, 1224.1291574589816, 124.87716631719906, 106.17725088423923, 98.49168269684132, 90.35695184001455, 75.10949803288874, 65.91199349108807, 65.18001393476793, 64.58731053194992, 61.98477327375971, 55.163604247334064, 54.47299305757572, 51.82550764101555, 86.73263581396297, 49.51490234550171, 46.95986319486902, 42.990831711283306, 41.48155457116237, 40.603193769146316, 36.162760960209816, 35.39988769075259, 33.89613665293788, 33.72474068151432, 31.92636533506016, 29.598275962036194, 27.933447330327247, 27.69442653772481, 27.655706313836806, 27.064859384655918, 25.81422249248349, 25.785300654161066, 59.454092874809554, 72.97602482873963, 204.59500292897692, 663.6397292038821, 419.80989942232856, 73.01819756971693, 147.50656619671912, 382.0247884997538, 136.91637105463263, 125.73016925158065, 838.0140996745689, 397.7656537083549, 2049.5611149798915, 895.2027674328233, 2263.359045275555, 1014.0243060557877, 430.8498335541868, 233.35992890862636, 165.8000830278744, 491.0741923589301, 140.94279273950696, 136.4308323994848, 125.53802274422944, 92.47048882129242, 87.22918949122791, 72.03637446267442, 124.64441262490423, 69.90471579218891, 66.03231643306408, 61.8187308506749, 54.47914287092802, 52.3791441217241, 55.486433740516226, 48.95818217710168, 162.4601612140717, 43.80124596413968, 43.37573122681862, 41.6304514923926, 41.48472631835992, 38.25509904553926, 38.20767061475051, 37.17289787394063, 35.032471204980176, 32.93985652392065, 32.27846878298601, 29.62923655150529, 395.4770866741174, 171.5427471878027, 275.12075274109117, 149.03096991967132, 171.6874994111285, 209.59843457581383, 1258.8574790514504, 248.51097434124142, 1488.3096319311255, 493.0636097622201, 617.8310444053616, 241.01746496650367, 660.4888602591304, 144.9225924249199, 259.8264764653915, 3117.199402901733, 310.94841740506297, 914.0891851483287, 288.1615937412189, 572.169683455558, 1419.7734900695878, 2694.0873385990635, 1386.7767530817582, 251.84553160253705, 260.9190742343957, 363.7381587317373, 2263.359045275555, 825.5645206889169, 826.2676380647177, 496.95557218922755, 448.7101625816425, 2027.418695445992, 1469.6765230861718, 483.3367521345484, 736.665049695135, 461.475058404266, 1065.3476786164356, 1414.548570218649, 971.8826327818414, 2887.5782444596957, 707.6525982928681, 2049.5611149798915, 1399.8292038352363, 262.7853731416295, 227.70118152565962, 149.48742890719151, 115.33650098964728, 80.7555026371665, 63.80591129696488, 52.541701858635655, 51.04345345850713, 49.171207348392144, 46.075877111277116, 44.54866976509604, 40.93165499123698, 38.736968540302875, 37.57716955279327, 36.70134704813212, 34.83035811151791, 32.90783938790207, 32.266535349075525, 32.0631784592024, 31.207794348878764, 31.156887002398975, 30.934272526164733, 28.447847611197194, 28.253628955679847, 26.686355794871737, 26.639608103569117, 26.61920437409949, 25.50146952359767, 25.32428977588635, 25.25609273909575, 60.06221899324477, 148.84354098001063, 101.76124142631107, 80.70269905733417, 54.29321715664411, 162.81799069655335, 202.99495443718166, 825.5645206889169, 127.27765334006789, 59.02452393907549, 515.3484723502052, 932.5967001821208, 138.73375018857857, 1469.6765230861718, 311.5911050613463, 90.07912575999299, 528.9852653834367, 1262.801339156943, 505.44492477261315, 430.90662208671995, 287.31025843845856, 333.32580099014433, 1014.0243060557877, 826.2676380647177, 1224.1291574589816, 614.4018716700896, 914.0891851483287, 374.5794595430163, 1247.1824168689493, 1065.3476786164356, 3117.199402901733, 86.57445156713167, 71.83992722542796, 67.47454157545592, 55.14731538458036, 54.44048855089946, 44.63806241887401, 54.03453054618765, 37.11017508245044, 36.40501302941966, 36.02489369794217, 34.63372365636296, 34.032925552458344, 32.87550795675933, 32.79945476941174, 32.72405885488971, 32.29131050044036, 32.000010203805765, 31.68697472012701, 31.506891932498505, 30.9085916193628, 30.110109566432076, 28.332179730098098, 28.239883747739242, 27.295417099579062, 26.424679736975197, 26.16797852031328, 25.870859147648645, 25.293304027480534, 25.175780082943987, 24.548021655434326, 87.02833827257145, 71.38265145266116, 49.10702118232872, 37.070947473545864, 1124.909368704472, 101.519549648317, 528.7920277648744, 169.7816980189935, 335.9088528019206, 956.690330853676, 159.81046059769076, 172.34703679463036, 580.1419566448645, 69.86756665412177, 663.6397292038821, 162.02678755011738, 216.1901590757205, 89.70090755458823, 69.47028217042585, 309.47329888731053, 2049.5611149798915, 350.1654782484394, 178.1994055648037, 392.084357623094, 2263.359045275555, 1262.801339156943, 599.1100314088025, 1386.7767530817582, 515.3484723502052, 902.8298719305124, 1201.9907749203032, 1247.1824168689493, 2027.418695445992, 945.7178359189361, 496.6961147423873, 482.4842460277313, 352.8685185935184, 547.6884085868845, 932.0188790788599, 3117.199402901733, 1469.6765230861718, 2887.5782444596957, 626.1682249126076, 614.4018716700896, 936.5927096198848, 179.65225220646525, 152.14787415122956, 204.4637319043198, 111.82450371575193, 92.02287304490977, 167.4375247114604, 84.05416007003912, 80.64600749672762, 73.30157856213417, 61.05565835771161, 58.331625144408854, 56.9510287490895, 55.425077607549646, 54.0629522878259, 52.61743744430947, 52.075933956328356, 51.14126259909992, 43.95130942448717, 41.70067314109078, 41.47396256110712, 36.9486404108358, 36.322161134065276, 35.879197577844764, 35.839631715772235, 35.721577242719505, 35.5407302033351, 34.72995184409454, 34.691935887176875, 34.447003690606635, 34.127917677161584, 380.2394287356916, 58.82759936729642, 363.5350339159131, 41.872577628872214, 279.3893305648007, 246.05353634184257, 386.477684852599, 593.751198140579, 67.52690584266493, 447.09022992636125, 962.6895217707037, 96.98277354930894, 382.0794553939937, 78.78441723162082, 95.72018544702904, 472.79127828800256, 932.0188790788599, 1215.1178429525528, 173.66785385472997, 1170.113176932729, 956.690330853676, 2887.5782444596957, 168.99964491908403, 1224.1291574589816, 140.3685390242936, 379.6578540176534, 1419.7734900695878, 1399.8292038352363, 1094.146220938507, 1414.548570218649, 1201.9907749203032, 349.4281476334177, 1062.1049715586669, 492.885610823101, 932.5967001821208, 902.8298719305124, 967.8065941335346, 2049.5611149798915, 219.2409519820209, 133.7555176430206, 102.22325150411243, 95.52583370082783, 79.65723327026019, 78.29505982021533, 70.83963614569363, 70.47570703396104, 68.42899502750757, 58.84688761755386, 54.41552254373384, 53.840492215380706, 50.58369772424543, 49.815164546274865, 48.74751298663802, 48.7365695882163, 46.885103302313674, 46.82979399274813, 57.78893237111928, 45.41892630188401, 44.65688234262588, 43.29478228775043, 42.67672298039843, 41.57704515385809, 40.60887054891306, 40.30399849140172, 40.13488014910544, 38.232319787172116, 37.8465678472895, 36.83623260248287, 320.4876563689245, 212.28837043220312, 87.35188836202737, 169.30556186623824, 269.29551067077176, 82.99933602483796, 120.42127755924483, 750.0565169628346, 102.86621140702705, 1215.1178429525528, 168.5083017052598, 898.5713393556695, 1170.113176932729, 1062.1049715586669, 306.70395792314196, 154.91146416065442, 101.88564188882674, 967.8065941335346, 2027.418695445992, 159.7495991549895, 2049.5611149798915, 1094.146220938507, 1014.0243060557877, 1007.0668895529319, 547.6884085868845, 2263.359045275555, 2887.5782444596957, 507.64401506019897, 269.34499957213995, 1262.801339156943, 1247.1824168689493, 1124.909368704472, 1201.9907749203032, 1414.548570218649, 2694.0873385990635, 902.8298719305124, 614.4018716700896, 838.0140996745689, 1224.1291574589816, 932.0188790788599, 3117.199402901733, 945.7178359189361, 895.2027674328233, 691.8850684358442], \"Category\": [\"Default\", \"Default\", \"Default\", \"Default\", \"Default\", \"Default\", \"Default\", \"Default\", \"Default\", \"Default\", \"Default\", \"Default\", \"Default\", \"Default\", \"Default\", \"Default\", \"Default\", \"Default\", \"Default\", \"Default\", \"Default\", \"Default\", \"Default\", \"Default\", \"Default\", \"Default\", \"Default\", \"Default\", \"Default\", \"Default\", \"Topic1\", \"Topic1\", \"Topic1\", \"Topic1\", \"Topic1\", \"Topic1\", \"Topic1\", \"Topic1\", \"Topic1\", \"Topic1\", \"Topic1\", \"Topic1\", \"Topic1\", \"Topic1\", \"Topic1\", \"Topic1\", \"Topic1\", \"Topic1\", \"Topic1\", \"Topic1\", \"Topic1\", \"Topic1\", \"Topic1\", \"Topic1\", \"Topic1\", \"Topic1\", \"Topic1\", \"Topic1\", \"Topic1\", \"Topic1\", \"Topic1\", \"Topic1\", \"Topic1\", \"Topic1\", \"Topic1\", \"Topic1\", \"Topic1\", \"Topic1\", \"Topic1\", \"Topic1\", \"Topic1\", \"Topic1\", \"Topic2\", \"Topic2\", \"Topic2\", \"Topic2\", \"Topic2\", \"Topic2\", \"Topic2\", \"Topic2\", \"Topic2\", \"Topic2\", \"Topic2\", \"Topic2\", \"Topic2\", \"Topic2\", \"Topic2\", \"Topic2\", \"Topic2\", \"Topic2\", \"Topic2\", \"Topic2\", \"Topic2\", \"Topic2\", \"Topic2\", \"Topic2\", \"Topic2\", \"Topic2\", \"Topic2\", \"Topic2\", \"Topic2\", \"Topic2\", \"Topic2\", \"Topic2\", \"Topic2\", \"Topic2\", \"Topic2\", \"Topic2\", \"Topic2\", \"Topic2\", \"Topic2\", \"Topic2\", \"Topic2\", \"Topic2\", \"Topic2\", \"Topic2\", \"Topic2\", \"Topic2\", \"Topic2\", \"Topic2\", \"Topic2\", \"Topic2\", \"Topic2\", \"Topic2\", \"Topic2\", \"Topic2\", \"Topic2\", \"Topic2\", \"Topic2\", \"Topic2\", \"Topic2\", \"Topic2\", \"Topic2\", \"Topic2\", \"Topic2\", \"Topic2\", \"Topic3\", \"Topic3\", \"Topic3\", \"Topic3\", \"Topic3\", \"Topic3\", \"Topic3\", \"Topic3\", \"Topic3\", \"Topic3\", \"Topic3\", \"Topic3\", \"Topic3\", \"Topic3\", \"Topic3\", \"Topic3\", \"Topic3\", \"Topic3\", \"Topic3\", \"Topic3\", \"Topic3\", \"Topic3\", \"Topic3\", \"Topic3\", \"Topic3\", \"Topic3\", \"Topic3\", \"Topic3\", \"Topic3\", \"Topic3\", \"Topic3\", \"Topic3\", \"Topic3\", \"Topic3\", \"Topic3\", \"Topic3\", \"Topic3\", \"Topic3\", \"Topic3\", \"Topic3\", \"Topic3\", \"Topic3\", \"Topic3\", \"Topic3\", \"Topic3\", \"Topic3\", \"Topic3\", \"Topic3\", \"Topic3\", \"Topic3\", \"Topic3\", \"Topic4\", \"Topic4\", \"Topic4\", \"Topic4\", \"Topic4\", \"Topic4\", \"Topic4\", \"Topic4\", \"Topic4\", \"Topic4\", \"Topic4\", \"Topic4\", \"Topic4\", \"Topic4\", \"Topic4\", \"Topic4\", \"Topic4\", \"Topic4\", \"Topic4\", \"Topic4\", \"Topic4\", \"Topic4\", \"Topic4\", \"Topic4\", \"Topic4\", \"Topic4\", \"Topic4\", \"Topic4\", \"Topic4\", \"Topic4\", \"Topic4\", \"Topic4\", \"Topic4\", \"Topic4\", \"Topic4\", \"Topic4\", \"Topic4\", \"Topic4\", \"Topic4\", \"Topic4\", \"Topic4\", \"Topic4\", \"Topic4\", \"Topic4\", \"Topic4\", \"Topic4\", \"Topic4\", \"Topic4\", \"Topic4\", \"Topic4\", \"Topic4\", \"Topic4\", \"Topic4\", \"Topic4\", \"Topic4\", \"Topic4\", \"Topic4\", \"Topic4\", \"Topic4\", \"Topic4\", \"Topic4\", \"Topic4\", \"Topic4\", \"Topic4\", \"Topic4\", \"Topic5\", \"Topic5\", \"Topic5\", \"Topic5\", \"Topic5\", \"Topic5\", \"Topic5\", \"Topic5\", \"Topic5\", \"Topic5\", \"Topic5\", \"Topic5\", \"Topic5\", \"Topic5\", \"Topic5\", \"Topic5\", \"Topic5\", \"Topic5\", \"Topic5\", \"Topic5\", \"Topic5\", \"Topic5\", \"Topic5\", \"Topic5\", \"Topic5\", \"Topic5\", \"Topic5\", \"Topic5\", \"Topic5\", \"Topic5\", \"Topic5\", \"Topic5\", \"Topic5\", \"Topic5\", \"Topic5\", \"Topic5\", \"Topic5\", \"Topic5\", \"Topic5\", \"Topic5\", \"Topic5\", \"Topic5\", \"Topic5\", \"Topic5\", \"Topic5\", \"Topic5\", \"Topic6\", \"Topic6\", \"Topic6\", \"Topic6\", \"Topic6\", \"Topic6\", \"Topic6\", \"Topic6\", \"Topic6\", \"Topic6\", \"Topic6\", \"Topic6\", \"Topic6\", \"Topic6\", \"Topic6\", \"Topic6\", \"Topic6\", \"Topic6\", \"Topic6\", \"Topic6\", \"Topic6\", \"Topic6\", \"Topic6\", \"Topic6\", \"Topic6\", \"Topic6\", \"Topic6\", \"Topic6\", \"Topic6\", \"Topic6\", \"Topic6\", \"Topic6\", \"Topic6\", \"Topic6\", \"Topic6\", \"Topic6\", \"Topic6\", \"Topic6\", \"Topic6\", \"Topic6\", \"Topic6\", \"Topic6\", \"Topic6\", \"Topic6\", \"Topic6\", \"Topic6\", \"Topic6\", \"Topic6\", \"Topic6\", \"Topic6\", \"Topic6\", \"Topic6\", \"Topic6\", \"Topic6\", \"Topic6\", \"Topic6\", \"Topic6\", \"Topic6\", \"Topic6\", \"Topic6\", \"Topic6\", \"Topic6\", \"Topic6\", \"Topic6\", \"Topic6\", \"Topic6\", \"Topic6\", \"Topic6\", \"Topic6\", \"Topic6\", \"Topic6\", \"Topic6\", \"Topic6\", \"Topic7\", \"Topic7\", \"Topic7\", \"Topic7\", \"Topic7\", \"Topic7\", \"Topic7\", \"Topic7\", \"Topic7\", \"Topic7\", \"Topic7\", \"Topic7\", \"Topic7\", \"Topic7\", \"Topic7\", \"Topic7\", \"Topic7\", \"Topic7\", \"Topic7\", \"Topic7\", \"Topic7\", \"Topic7\", \"Topic7\", \"Topic7\", \"Topic7\", \"Topic7\", \"Topic7\", \"Topic7\", \"Topic7\", \"Topic7\", \"Topic7\", \"Topic7\", \"Topic7\", \"Topic7\", \"Topic7\", \"Topic7\", \"Topic7\", \"Topic7\", \"Topic7\", \"Topic7\", \"Topic7\", \"Topic7\", \"Topic7\", \"Topic7\", \"Topic7\", \"Topic7\", \"Topic7\", \"Topic7\", \"Topic7\", \"Topic7\", \"Topic7\", \"Topic7\", \"Topic7\", \"Topic7\", \"Topic7\", \"Topic7\", \"Topic7\", \"Topic7\", \"Topic7\", \"Topic7\", \"Topic7\", \"Topic8\", \"Topic8\", \"Topic8\", \"Topic8\", \"Topic8\", \"Topic8\", \"Topic8\", \"Topic8\", \"Topic8\", \"Topic8\", \"Topic8\", \"Topic8\", \"Topic8\", \"Topic8\", \"Topic8\", \"Topic8\", \"Topic8\", \"Topic8\", \"Topic8\", \"Topic8\", \"Topic8\", \"Topic8\", \"Topic8\", \"Topic8\", \"Topic8\", \"Topic8\", \"Topic8\", \"Topic8\", \"Topic8\", \"Topic8\", \"Topic8\", \"Topic8\", \"Topic8\", \"Topic8\", \"Topic8\", \"Topic8\", \"Topic8\", \"Topic8\", \"Topic8\", \"Topic8\", \"Topic8\", \"Topic8\", \"Topic8\", \"Topic8\", \"Topic8\", \"Topic8\", \"Topic8\", \"Topic8\", \"Topic8\", \"Topic8\", \"Topic8\", \"Topic8\", \"Topic8\", \"Topic8\", \"Topic8\", \"Topic8\", \"Topic8\", \"Topic8\", \"Topic8\", \"Topic8\", \"Topic8\", \"Topic8\", \"Topic8\", \"Topic8\", \"Topic8\", \"Topic8\", \"Topic8\", \"Topic8\", \"Topic8\", \"Topic8\", \"Topic8\", \"Topic8\", \"Topic8\", \"Topic8\", \"Topic8\", \"Topic9\", \"Topic9\", \"Topic9\", \"Topic9\", \"Topic9\", \"Topic9\", \"Topic9\", \"Topic9\", \"Topic9\", \"Topic9\", \"Topic9\", \"Topic9\", \"Topic9\", \"Topic9\", \"Topic9\", \"Topic9\", \"Topic9\", \"Topic9\", \"Topic9\", \"Topic9\", \"Topic9\", \"Topic9\", \"Topic9\", \"Topic9\", \"Topic9\", \"Topic9\", \"Topic9\", \"Topic9\", \"Topic9\", \"Topic9\", \"Topic9\", \"Topic9\", \"Topic9\", \"Topic9\", \"Topic9\", \"Topic9\", \"Topic9\", \"Topic9\", \"Topic9\", \"Topic9\", \"Topic9\", \"Topic9\", \"Topic9\", \"Topic9\", \"Topic9\", \"Topic9\", \"Topic9\", \"Topic9\", \"Topic9\", \"Topic9\", \"Topic9\", \"Topic9\", \"Topic9\", \"Topic9\", \"Topic9\", \"Topic9\", \"Topic9\", \"Topic9\", \"Topic9\", \"Topic9\", \"Topic9\", \"Topic9\", \"Topic9\", \"Topic9\", \"Topic9\", \"Topic9\", \"Topic9\", \"Topic9\", \"Topic10\", \"Topic10\", \"Topic10\", \"Topic10\", \"Topic10\", \"Topic10\", \"Topic10\", \"Topic10\", \"Topic10\", \"Topic10\", \"Topic10\", \"Topic10\", \"Topic10\", \"Topic10\", \"Topic10\", \"Topic10\", \"Topic10\", \"Topic10\", \"Topic10\", \"Topic10\", \"Topic10\", \"Topic10\", \"Topic10\", \"Topic10\", \"Topic10\", \"Topic10\", \"Topic10\", \"Topic10\", \"Topic10\", \"Topic10\", \"Topic10\", \"Topic10\", \"Topic10\", \"Topic10\", \"Topic10\", \"Topic10\", \"Topic10\", \"Topic10\", \"Topic10\", \"Topic10\", \"Topic10\", \"Topic10\", \"Topic10\", \"Topic10\", \"Topic10\", \"Topic10\", \"Topic10\", \"Topic10\", \"Topic10\", \"Topic10\", \"Topic10\", \"Topic10\", \"Topic10\", \"Topic10\", \"Topic10\", \"Topic10\", \"Topic10\", \"Topic10\", \"Topic10\", \"Topic10\", \"Topic10\", \"Topic10\", \"Topic10\", \"Topic10\", \"Topic10\", \"Topic10\", \"Topic10\", \"Topic10\", \"Topic10\", \"Topic10\", \"Topic10\", \"Topic10\", \"Topic10\", \"Topic10\"], \"logprob\": [30.0, 29.0, 28.0, 27.0, 26.0, 25.0, 24.0, 23.0, 22.0, 21.0, 20.0, 19.0, 18.0, 17.0, 16.0, 15.0, 14.0, 13.0, 12.0, 11.0, 10.0, 9.0, 8.0, 7.0, 6.0, 5.0, 4.0, 3.0, 2.0, 1.0, -4.6108, -4.6335, -4.6771, -4.7154, -4.812, -4.8275, -4.8772, -4.9043, -4.9271, -4.9508, -4.731, -5.0832, -5.0963, -5.101, -5.1419, -5.1831, -5.2205, -5.2739, -5.3023, -5.3361, -5.3692, -5.2536, -5.4272, -5.433, -5.4515, -5.4564, -5.4721, -5.554, -5.6067, -5.6124, -4.6117, -4.5977, -4.6403, -5.0013, -4.6535, -4.5208, -5.1606, -4.993, -5.0277, -4.883, -5.2026, -5.1924, -4.2363, -4.7027, -4.9529, -5.2076, -5.2432, -5.394, -5.5967, -5.6533, -5.745, -5.8334, -5.8632, -5.9137, -5.9522, -5.9522, -5.9791, -6.0426, -5.9692, -6.11, -6.1882, -6.2192, -6.2634, -6.3317, -6.3717, -6.3768, -6.379, -6.3965, -6.3998, -6.4157, -6.4321, -6.4395, -5.5895, -5.5461, -4.811, -4.8659, -4.5408, -5.4231, -3.8287, -4.6176, -4.8739, -3.1729, -5.4487, -5.506, -4.6329, -4.3109, -4.1916, -4.94, -5.6662, -5.4122, -5.3759, -4.7568, -4.9787, -4.6411, -4.7956, -4.8472, -5.0375, -4.6285, -4.8704, -5.232, -5.2611, -5.1797, -5.1641, -5.1781, -5.1662, -5.237, -3.7657, -4.2049, -4.5189, -4.5426, -4.5869, -4.7529, -4.6956, -4.9886, -5.0432, -5.0578, -5.2159, -5.2341, -5.249, -5.4143, -5.4238, -5.494, -5.5131, -5.5136, -5.5233, -5.526, -5.5569, -5.6151, -5.2124, -5.6446, -5.6641, -5.6656, -5.6873, -5.7404, -5.7504, -5.7514, -2.4016, -4.1365, -4.8991, -4.385, -4.4294, -4.5665, -4.7545, -5.1473, -4.7508, -5.0677, -4.7427, -5.1238, -5.4264, -4.9638, -4.8534, -4.305, -5.0706, -4.7535, -4.947, -5.0138, -5.0973, -5.0414, -5.0498, -5.0959, -5.2322, -3.9927, -5.3316, -5.4043, -5.577, -5.6949, -5.8261, -5.8993, -5.944, -6.0753, -6.1185, -6.1304, -6.1953, -6.2047, -6.2779, -6.2793, -6.2869, -6.2934, -6.3599, -6.3602, -6.4082, -6.4463, -6.4494, -6.4541, -6.4546, -6.5143, -6.5162, -6.4306, -5.6356, -4.9021, -5.4524, -4.276, -5.6856, -3.8558, -4.5507, -5.3345, -5.9518, -5.5078, -5.1319, -5.7687, -4.8536, -4.8834, -4.6035, -5.1991, -5.2157, -4.3545, -4.5293, -4.0095, -5.0617, -4.7051, -5.4513, -5.1149, -4.7088, -4.8631, -4.8157, -5.1404, -5.084, -5.2226, -5.1892, -5.2228, -5.2695, -5.2548, -4.2892, -4.4528, -4.5284, -4.6154, -4.8022, -4.9345, -4.9458, -4.9551, -4.9968, -5.1151, -5.1279, -5.1786, -4.664, -5.225, -5.2789, -5.369, -5.4055, -5.4273, -5.5458, -5.5677, -5.6122, -5.6189, -5.6737, -5.7517, -5.8114, -5.8202, -5.8217, -5.844, -5.8929, -5.8941, -5.096, -5.0134, -4.1628, -3.7029, -4.0281, -5.1813, -4.7525, -4.1691, -4.9294, -5.0213, -4.2712, -4.8908, -4.6644, -5.0714, -4.9858, -5.2303, -4.8211, -5.4353, -5.7788, -4.6936, -5.942, -5.9747, -6.0585, -6.3667, -6.4256, -6.6191, -6.0709, -6.6495, -6.7072, -6.7741, -6.9024, -6.9426, -6.8854, -7.0111, -5.8127, -7.1245, -7.1351, -7.1764, -7.18, -7.2628, -7.2641, -7.2922, -7.3529, -7.4161, -7.437, -7.5251, -4.9355, -5.771, -5.3116, -5.9288, -5.8048, -5.6167, -3.9034, -5.4678, -3.7711, -4.8207, -4.6181, -5.5052, -4.5773, -5.9891, -5.4557, -3.1731, -5.2933, -4.3282, -5.3844, -4.7905, -4.0397, -3.4969, -4.1008, -5.5139, -5.4863, -5.2408, -3.8715, -4.6285, -4.6339, -5.0236, -5.0965, -4.0762, -4.3131, -5.064, -4.8217, -5.1114, -4.6546, -4.5043, -4.7876, -4.3322, -5.0161, -4.7023, -5.009, -3.9407, -4.0845, -4.5073, -4.7684, -5.1281, -5.3665, -5.5637, -5.5932, -5.6312, -5.6974, -5.7318, -5.8182, -5.8746, -5.9057, -5.9298, -5.9834, -6.0417, -6.0619, -6.0684, -6.0962, -6.0979, -6.1053, -6.1916, -6.1987, -6.2576, -6.2594, -6.2602, -6.3046, -6.3118, -6.3146, -5.5274, -4.768, -5.1868, -5.3867, -5.6987, -4.8873, -4.7724, -3.8495, -5.1899, -5.7039, -4.4136, -4.0829, -5.2555, -4.089, -4.9493, -5.5375, -4.9571, -4.717, -5.023, -5.1113, -5.2557, -5.2501, -5.0122, -5.0748, -5.0064, -5.1721, -5.1184, -5.2643, -5.1092, -5.1362, -5.2166, -5.6565, -5.8459, -5.9087, -6.1133, -6.1264, -6.3285, -6.1412, -6.5172, -6.5369, -6.5476, -6.588, -6.606, -6.6415, -6.6439, -6.6462, -6.6599, -6.6692, -6.6793, -6.6852, -6.7049, -6.7319, -6.7946, -6.7979, -6.8331, -6.8666, -6.8767, -6.8885, -6.9119, -6.9167, -6.9428, -5.7054, -5.9204, -6.3145, -6.5772, -3.6427, -5.7283, -4.3579, -5.3078, -4.7474, -3.9031, -5.3878, -5.3341, -4.4177, -6.0814, -4.4216, -5.479, -5.2744, -5.9116, -6.0993, -5.0511, -3.8358, -5.0876, -5.5237, -5.0313, -4.0607, -4.4478, -4.8798, -4.4511, -4.9878, -4.7071, -4.622, -4.6072, -4.472, -4.81, -5.0989, -5.1617, -5.2756, -5.125, -4.9654, -4.6962, -4.896, -4.7961, -5.162, -5.1718, -5.2569, -4.9211, -5.0882, -4.7929, -5.3982, -5.5947, -4.9965, -5.6862, -5.7281, -5.8246, -6.0098, -6.0561, -6.0805, -6.108, -6.1333, -6.1609, -6.1714, -6.1898, -6.3441, -6.3978, -6.4034, -6.5215, -6.539, -6.5516, -6.5528, -6.5561, -6.5613, -6.585, -6.5861, -6.5934, -6.6029, -4.1934, -6.0679, -4.3079, -6.4041, -4.5862, -4.7162, -4.3124, -3.9771, -5.9757, -4.4943, -3.964, -5.752, -4.7187, -5.9155, -5.7823, -4.7341, -4.4506, -4.2954, -5.459, -4.403, -4.591, -4.1086, -5.5355, -4.6408, -5.642, -5.2098, -4.6603, -4.676, -4.7832, -4.6961, -4.7799, -5.2541, -4.9271, -5.1553, -4.9844, -5.0517, -5.0976, -5.1082, -5.1649, -5.6618, -5.9329, -6.0009, -6.1844, -6.2018, -6.3031, -6.3083, -6.3381, -6.4911, -6.5706, -6.5814, -6.6448, -6.6604, -6.6824, -6.6827, -6.7221, -6.7233, -6.5135, -6.7545, -6.7718, -6.8034, -6.818, -6.8447, -6.8688, -6.8765, -6.8808, -6.9304, -6.9412, -6.9685, -4.908, -5.328, -6.1603, -5.5587, -5.2274, -6.2636, -5.9519, -4.4446, -6.0921, -4.1515, -5.7242, -4.4364, -4.2388, -4.3224, -5.2741, -5.8026, -6.1305, -4.4966, -3.9775, -5.8051, -3.9971, -4.449, -4.5606, -4.5765, -5.0223, -4.2083, -4.1032, -5.1499, -5.5172, -4.6825, -4.6941, -4.7596, -4.7527, -4.7636, -4.5161, -4.9952, -5.1631, -5.0482, -4.9583, -5.0403, -4.691, -5.0729, -5.1189, -5.1484], \"loglift\": [30.0, 29.0, 28.0, 27.0, 26.0, 25.0, 24.0, 23.0, 22.0, 21.0, 20.0, 19.0, 18.0, 17.0, 16.0, 15.0, 14.0, 13.0, 12.0, 11.0, 10.0, 9.0, 8.0, 7.0, 6.0, 5.0, 4.0, 3.0, 2.0, 1.0, 3.4297, 3.4294, 3.4289, 3.4283, 3.4269, 3.4267, 3.4259, 3.4255, 3.4251, 3.4247, 3.4231, 3.4222, 3.4219, 3.4219, 3.421, 3.4201, 3.4193, 3.418, 3.4174, 3.4165, 3.4157, 3.4153, 3.4141, 3.4139, 3.4134, 3.4131, 3.4128, 3.4103, 3.4086, 3.4084, 3.4082, 2.8365, 2.6754, 2.9214, 2.4068, 2.0404, 2.8174, 2.2524, 2.11, 0.802, 2.4147, 2.2522, 2.3341, 2.3324, 2.3311, 2.3294, 2.3292, 2.3279, 2.3259, 2.3252, 2.3241, 2.3229, 2.3225, 2.3218, 2.3212, 2.3212, 2.3208, 2.3197, 2.3195, 2.3185, 2.317, 2.3163, 2.3155, 2.314, 2.3131, 2.3129, 2.3129, 2.3125, 2.3124, 2.312, 2.3116, 2.3114, 2.2449, 2.1968, 2.0828, 2.0274, 1.874, 2.079, 1.5887, 1.8164, 1.8735, 1.146, 1.9954, 2.0139, 1.3837, 1.1339, 0.8514, 1.3425, 2.0352, 1.7806, 1.7382, 0.8525, 1.0023, 0.3878, 0.5767, 0.5607, 0.9422, -0.3861, -0.4821, 0.8847, 0.898, 0.3103, 0.013, 0.0442, -0.1337, 0.5571, 3.385, 3.3822, 3.3792, 3.379, 3.3782, 3.3764, 3.3731, 3.3728, 3.3718, 3.3715, 3.3684, 3.368, 3.3677, 3.3637, 3.3635, 3.3616, 3.361, 3.361, 3.3607, 3.3606, 3.3597, 3.3579, 3.3574, 3.357, 3.3563, 3.3563, 3.3556, 3.3537, 3.3534, 3.3533, 3.2438, 3.1625, 3.1756, 3.0262, 3.0033, 2.9778, 3.0343, 3.1794, 2.8864, 3.0098, 2.6637, 2.9909, 3.2743, 2.769, 2.6282, 1.362, 2.5613, 0.6956, 0.9451, 1.5116, 1.8767, 2.4508, 2.4508, 2.4504, 2.4493, 2.4491, 2.4484, 2.4477, 2.4457, 2.4442, 2.4423, 2.4411, 2.4403, 2.4379, 2.437, 2.4367, 2.4353, 2.4351, 2.4334, 2.4334, 2.4332, 2.433, 2.4313, 2.4313, 2.43, 2.4289, 2.4288, 2.4287, 2.4287, 2.4269, 2.4269, 2.4258, 2.3137, 2.2044, 2.246, 1.9714, 2.2473, 1.7535, 1.8781, 2.0786, 2.2823, 2.0936, 1.8806, 2.1873, 1.5623, 1.5507, 1.1442, 1.608, 1.6108, 0.8039, 0.9156, 0.3788, 1.353, 0.8651, 1.8133, 1.1864, 0.3342, 0.5721, 0.3303, 1.0124, 0.7635, 0.9987, 0.4562, 0.0933, 0.7467, -0.0777, 3.1706, 3.1692, 3.1687, 3.1679, 3.166, 3.1643, 3.1642, 3.164, 3.1635, 3.1617, 3.1615, 3.1607, 3.1602, 3.1599, 3.1589, 3.1571, 3.1564, 3.1559, 3.1532, 3.1527, 3.1516, 3.15, 3.15, 3.1477, 3.1459, 3.1456, 3.1456, 3.1449, 3.1433, 3.1432, 3.1059, 2.9836, 2.8032, 2.0864, 2.2192, 2.8151, 2.5407, 2.1725, 2.4384, 2.4317, 1.2849, 1.4104, -0.0027, 0.4187, -0.4233, 0.1351, 1.4003, 1.3992, 1.3976, 1.397, 1.3968, 1.3966, 1.396, 1.3935, 1.3929, 1.3908, 1.3907, 1.3905, 1.3897, 1.3888, 1.3869, 1.386, 1.3855, 1.3851, 1.384, 1.383, 1.3821, 1.3819, 1.3818, 1.38, 1.38, 1.3793, 1.3779, 1.3763, 1.3757, 1.3733, 1.3715, 1.3712, 1.3583, 1.3542, 1.3366, 1.3252, 1.2457, 1.3038, 1.2107, 1.2658, 1.2428, 1.2971, 1.2168, 1.3218, 1.2714, 1.0693, 1.2541, 1.141, 1.2392, 1.1472, 0.9891, 0.8914, 0.9516, 1.2444, 1.2366, 1.1498, 0.691, 0.9425, 0.9363, 1.0551, 1.0842, 0.5964, 0.6812, 1.0424, 0.8632, 1.0413, 0.6614, 0.5282, 0.6202, -0.0132, 0.709, -0.0406, 0.034, 2.7751, 2.7746, 2.7726, 2.7709, 2.7676, 2.7647, 2.7618, 2.7613, 2.7606, 2.7594, 2.7588, 2.757, 2.7558, 2.7551, 2.7545, 2.7532, 2.7517, 2.7512, 2.751, 2.7502, 2.7502, 2.75, 2.7474, 2.7472, 2.7454, 2.7453, 2.7453, 2.7438, 2.7436, 2.7435, 2.6643, 2.5163, 2.4777, 2.5097, 2.594, 2.3072, 2.2015, 1.7216, 2.2508, 2.5052, 1.6287, 1.3662, 2.099, 0.9053, 1.5961, 2.2489, 1.0591, 0.4291, 1.0387, 1.1099, 1.3709, 1.2279, 0.3533, 0.4954, 0.1707, 0.6943, 0.3508, 1.097, 0.0493, 0.1799, -0.9742, 2.1696, 2.1668, 2.1667, 2.1638, 2.1636, 2.16, 2.1563, 2.156, 2.1555, 2.1553, 2.1543, 2.1538, 2.1529, 2.1528, 2.1528, 2.1524, 2.1521, 2.1519, 2.1517, 2.1512, 2.1504, 2.1485, 2.1484, 2.1473, 2.1463, 2.1459, 2.1455, 2.1447, 2.1446, 2.1437, 2.1154, 2.0987, 2.0786, 2.0971, 1.619, 1.9386, 1.6586, 1.8448, 1.7229, 1.5206, 1.8254, 1.8035, 1.5061, 1.9591, 1.3678, 1.7203, 1.6365, 1.8791, 1.9469, 1.5012, 0.826, 1.3411, 1.5805, 1.2843, 0.5018, 0.6982, 1.0119, 0.6013, 1.0545, 0.7745, 0.5734, 0.5513, 0.2006, 0.6252, 0.9803, 0.9465, 1.1454, 0.8564, 0.4843, -0.4537, 0.0984, -0.4772, 0.6855, 0.6946, 0.188, 2.175, 2.1741, 2.1739, 2.172, 2.1703, 2.17, 2.1694, 2.169, 2.1679, 2.1655, 2.1648, 2.1645, 2.164, 2.1636, 2.1632, 2.163, 2.1627, 2.1599, 2.1588, 2.1587, 2.1561, 2.1557, 2.1553, 2.1553, 2.1552, 2.1551, 2.1545, 2.1545, 2.1543, 2.1541, 2.1529, 2.1446, 2.0834, 2.1484, 2.0684, 2.0654, 2.0177, 1.9236, 2.0989, 1.6901, 1.4534, 1.9605, 1.6228, 2.0049, 1.9434, 1.3944, 0.9992, 0.8892, 1.671, 0.8193, 0.8326, 0.2104, 1.6218, 0.5363, 1.7009, 1.138, 0.3686, 0.367, 0.5062, 0.3364, 0.4155, 1.1768, 0.392, 0.9315, 0.4647, 0.4298, 0.3145, -0.4465, 1.732, 1.7293, 1.727, 1.7268, 1.725, 1.7248, 1.7236, 1.7236, 1.7232, 1.7211, 1.7199, 1.7197, 1.7187, 1.7184, 1.718, 1.718, 1.7173, 1.7173, 1.7168, 1.7167, 1.7164, 1.7157, 1.7154, 1.7149, 1.7144, 1.7142, 1.7141, 1.713, 1.7123, 1.7121, 1.6093, 1.6011, 1.6568, 1.5967, 1.4639, 1.6047, 1.5442, 1.2224, 1.5616, 1.033, 1.436, 1.0499, 0.9834, 0.9967, 1.2872, 1.4417, 1.5328, 0.9155, 0.6951, 1.4084, 0.6646, 0.8404, 0.8048, 0.7958, 0.9591, 0.3542, 0.2158, 0.9075, 1.1739, 0.4635, 0.4643, 0.5021, 0.4427, 0.2689, -0.1278, 0.4864, 0.7034, 0.5079, 0.2188, 0.4095, -0.4486, 0.3623, 0.3711, 0.5993]}, \"token.table\": {\"Topic\": [8, 9, 5, 8, 7, 7, 5, 2, 6, 3, 5, 5, 9, 5, 9, 10, 3, 10, 2, 6, 8, 9, 10, 1, 5, 3, 9, 2, 6, 7, 3, 5, 6, 8, 9, 6, 3, 3, 9, 6, 2, 6, 10, 6, 8, 2, 7, 1, 6, 7, 9, 2, 4, 5, 6, 7, 8, 9, 10, 3, 9, 5, 2, 6, 8, 10, 4, 5, 4, 2, 7, 10, 2, 6, 8, 10, 1, 7, 2, 2, 2, 6, 9, 10, 8, 1, 6, 9, 4, 8, 9, 10, 2, 6, 9, 2, 6, 8, 2, 6, 8, 9, 10, 1, 1, 1, 3, 10, 8, 1, 2, 6, 2, 5, 9, 4, 4, 7, 9, 4, 10, 4, 1, 2, 4, 5, 6, 7, 8, 9, 10, 2, 4, 6, 9, 4, 8, 10, 1, 2, 1, 1, 6, 2, 4, 6, 10, 1, 2, 8, 10, 6, 8, 7, 1, 8, 10, 6, 2, 4, 6, 8, 9, 10, 3, 10, 5, 9, 10, 4, 6, 5, 6, 9, 2, 3, 4, 5, 6, 8, 9, 10, 10, 6, 6, 4, 8, 9, 10, 8, 2, 3, 4, 6, 7, 8, 9, 10, 3, 7, 10, 10, 5, 6, 4, 7, 3, 7, 9, 2, 6, 8, 9, 3, 6, 7, 8, 10, 10, 2, 4, 6, 7, 8, 9, 10, 10, 2, 9, 10, 5, 9, 1, 6, 9, 4, 7, 6, 6, 8, 7, 1, 7, 3, 4, 9, 2, 3, 7, 5, 6, 4, 10, 7, 2, 3, 4, 6, 8, 5, 6, 10, 2, 6, 9, 10, 3, 8, 10, 1, 2, 4, 6, 7, 8, 10, 8, 1, 3, 6, 5, 6, 2, 4, 2, 4, 6, 7, 8, 9, 10, 4, 2, 8, 10, 1, 3, 10, 8, 1, 3, 10, 4, 1, 2, 3, 5, 6, 7, 8, 9, 10, 4, 2, 6, 7, 2, 3, 5, 1, 6, 5, 6, 9, 10, 3, 2, 4, 7, 3, 9, 2, 3, 4, 5, 6, 8, 10, 1, 2, 6, 9, 9, 2, 3, 4, 6, 7, 8, 10, 8, 2, 4, 1, 8, 2, 3, 4, 5, 6, 7, 8, 9, 10, 6, 9, 2, 4, 5, 6, 7, 8, 9, 10, 1, 8, 9, 10, 2, 4, 6, 7, 8, 9, 10, 2, 4, 6, 7, 8, 9, 10, 2, 4, 5, 6, 7, 9, 10, 5, 4, 2, 6, 3, 7, 3, 9, 3, 10, 5, 1, 6, 1, 6, 3, 4, 6, 7, 8, 9, 7, 2, 4, 6, 7, 9, 3, 2, 3, 4, 5, 6, 7, 8, 9, 10, 9, 4, 9, 1, 2, 4, 5, 6, 9, 2, 6, 7, 8, 9, 10, 2, 5, 6, 8, 9, 10, 2, 10, 2, 6, 8, 9, 10, 9, 2, 10, 2, 4, 5, 6, 7, 8, 9, 10, 1, 3, 6, 7, 10, 7, 9, 5, 9, 10, 7, 8, 4, 5, 7, 10, 5, 7, 5, 1, 8, 2, 5, 7, 6, 6, 9, 8, 5, 8, 9, 10, 2, 1, 8, 6, 10, 4, 5, 9, 2, 10, 4, 6, 7, 8, 9, 10, 3, 2, 2, 4, 8, 6, 7, 2, 4, 5, 6, 7, 8, 9, 10, 6, 7, 10, 1, 10, 10, 7, 10, 5, 2, 5, 6, 8, 9, 10, 5, 10, 2, 5, 6, 7, 8, 10, 3, 2, 6, 9, 2, 3, 4, 5, 6, 7, 8, 9, 10, 2, 4, 5, 6, 7, 8, 9, 10, 6, 7, 8, 10, 1, 2, 4, 5, 6, 7, 8, 10, 2, 1, 1, 6, 10, 8, 9, 2, 4, 6, 7, 8, 9, 10, 6, 7, 2, 4, 5, 6, 7, 9, 10, 1, 3, 6, 7, 2, 5, 7, 6, 9, 1, 4, 4, 2, 5, 6, 2, 2, 3, 4, 5, 7, 8, 9, 10, 6, 8, 10, 1, 2, 10, 2, 8, 5, 4, 9, 9, 2, 2, 6, 9, 2, 2, 7, 8, 9, 8, 2, 4, 6, 8, 9, 10, 1, 6, 8, 9, 10, 6, 4, 6, 9, 1, 6, 9, 10, 4, 6, 7, 8, 3, 4, 5, 6, 8, 9, 2, 6, 7, 8, 9, 10, 5, 4, 8, 10, 2, 4, 6, 7, 8, 10, 8, 9, 10, 4, 1, 2, 4, 5, 6, 7, 8, 9, 10, 2, 4, 8, 9, 10, 10, 2, 3, 4, 7, 8, 3, 4, 5, 6, 7, 9, 10, 3, 9, 2, 9, 10, 10, 5, 2, 10, 2, 6, 4, 6, 7, 10, 9, 9, 8, 10, 2, 5, 8, 9, 10, 2, 6, 10, 8, 9, 10, 3, 3, 6, 3, 7, 2, 9, 2, 4, 5, 6, 8, 10, 2, 2, 3, 4, 8, 6, 8, 10, 4, 6, 10, 1, 9, 8, 8, 7, 3, 6, 1, 7, 10, 4, 2, 6, 9, 3, 9, 3, 2, 6, 8, 9, 10, 6, 8, 5, 10, 3, 8, 6, 7, 1, 2, 4, 7, 8, 9, 10, 8, 2, 8, 4, 8, 1, 5, 8, 10, 2, 5, 7, 2, 3, 4, 5, 7, 8, 7, 8, 3, 2, 3, 4, 6, 7, 8, 9, 10, 6, 7, 8, 10, 7, 7, 6, 5, 6, 9, 8, 2, 4, 1, 2, 6, 8, 10, 10, 4, 2, 2, 6, 10, 7, 9, 10, 2, 4, 5, 6, 7, 8, 9, 10, 2, 3, 4, 6, 7, 8, 9, 10, 2, 3, 4, 4, 5, 2, 3, 4, 5, 6, 7, 8, 9, 10, 8, 3, 7, 8, 9, 10, 2, 8, 10, 5, 1, 2, 2, 7, 2, 3, 4, 5, 7, 9, 10, 9, 2, 6, 9, 10, 2, 4, 5, 6, 7, 8, 9, 9, 5, 5, 6, 7, 8, 10, 8, 9, 2, 4, 6, 7, 8, 9, 10, 3, 4, 10, 10, 6, 7, 9, 10, 7, 1, 1, 2, 4, 6, 7, 8, 9, 10, 6, 9, 2, 6, 8, 10, 2, 6, 8, 8, 1, 2, 3, 4, 6, 7, 8, 9, 4, 7, 8, 10, 3, 1, 2, 4, 5, 6, 7, 9, 10, 3, 9, 1, 8, 7, 9, 6, 6, 9, 10, 4, 7, 10, 2, 8, 9, 1, 2, 6, 7, 8, 9, 10, 2, 4, 6, 7, 8, 10, 1, 7, 5, 8, 1, 2, 4, 8, 10, 3, 4, 5, 6, 8, 2, 4, 5, 6, 7, 8, 9, 10, 2, 10, 6, 7, 8, 9, 10, 1, 2, 4, 5, 6, 7, 8, 9, 10, 2, 4, 5, 6, 7, 8, 9, 10, 4, 8, 1, 2, 7, 2, 6, 10, 6, 8, 8, 9, 10, 6, 8, 10, 2, 3, 5, 6, 7, 9, 8, 4, 6, 7, 8, 10, 1, 1, 2, 5, 6, 7, 8, 9, 10, 1, 3, 8, 10, 10, 2, 6, 7, 8, 4, 2, 3, 8, 5, 7, 2, 8, 4, 7, 4, 2, 3, 4, 5, 6, 7, 8, 9, 10, 5, 2, 4, 6, 8, 10, 2, 6, 8, 9, 10, 4, 6, 4, 5, 2, 6, 9, 8, 1, 2, 4, 6, 7, 8, 9, 10, 7, 6, 3, 6, 10, 1, 7, 3, 4, 10, 4, 6, 10, 3, 2, 4, 5, 6, 7, 8, 9, 10, 3, 1, 2, 4, 5, 7, 8, 10, 3, 4, 5, 6, 7, 8, 9, 10, 5, 8, 10, 3, 4, 10, 2, 4, 6, 10, 2, 3, 2, 3, 4, 6, 7, 8, 9, 10, 2, 4, 5, 6, 7, 8, 9, 10, 1, 2, 4, 5, 6, 7, 8, 9, 10, 5], \"Freq\": [0.9631316663267918, 0.9924555360524551, 0.07004503052560117, 0.9245944029379355, 0.9612983110765033, 0.9724126711206746, 0.9695446384475513, 0.9948616038293822, 0.9683919329464624, 0.9787656200241514, 0.9762903790488714, 0.9913169254886401, 0.983300938192364, 0.9250834945175535, 0.050459099700957466, 0.9861210638773703, 0.5366457398021055, 0.4524660159115792, 0.040063596982532514, 0.16359302101200776, 0.13577107866302685, 0.1558028771542931, 0.5030207176695749, 0.9656664111689683, 0.9769524879644687, 0.9533013272527396, 0.9754956175946459, 0.99142177019249, 0.9868071693686519, 0.008022822515192292, 0.955362821044426, 0.6984560246273648, 0.013695216169164016, 0.2739043233832803, 0.9888845782459913, 0.995174411174813, 0.974931564320837, 0.9719645742361922, 0.024299114355904806, 0.9968421185159724, 0.14294476368480996, 0.8536978942287262, 0.003970687880133611, 0.18713037566348367, 0.791705435499354, 0.981353949953963, 0.9697981413535905, 0.00858545603815316, 0.5437455490830335, 0.08013092302276283, 0.3663127909612015, 0.02534383895693548, 0.09386607021087215, 0.026282499659044202, 0.4768396366712305, 0.074154195466589, 0.074154195466589, 0.0703995526581541, 0.15863365865637394, 0.9547555507908224, 0.9822435125182074, 0.9749254046918475, 0.015513444419792886, 0.16202930838450347, 0.5102199498065215, 0.3119926044425014, 0.9813139955389498, 0.9665831675092316, 0.9702701278776426, 0.722865060230086, 0.042521474131181534, 0.22961596030838027, 0.08023364652575674, 0.05554637067167774, 0.6295255342790144, 0.23452912061375047, 0.9837560884169329, 0.988412159392912, 0.9820580202098175, 0.9867567627175292, 0.10834821750257735, 0.6955955563665466, 0.08451160965201034, 0.1105151818526289, 0.977675526642164, 0.30758970323779944, 0.6230663219432347, 0.06309532374108706, 0.011779832710686283, 0.7126798789965201, 0.1001285780408334, 0.16491765794960794, 0.47367296484256477, 0.04258901657575692, 0.48406052986104203, 0.9084599374079921, 0.08152845592123006, 0.9733689907419568, 0.004181081245412725, 0.1923297372889854, 0.5174088041198248, 0.2602723075269422, 0.026131757783829535, 0.9879504105798208, 0.9537284185415358, 0.9884074751781389, 0.9624166624891813, 0.9717233452575605, 0.9808542697469471, 0.9734634681469146, 0.16805733855443258, 0.8296884822326942, 0.18804811039528427, 0.02089423448836492, 0.7939809105578669, 0.952932807465294, 0.19039665007152204, 0.6264663970095241, 0.18425482264986004, 0.9592467444151913, 0.9811218651560485, 0.9810294897777763, 0.9484963796491804, 0.13181371225916683, 0.045799679683269826, 0.06367272541332634, 0.2144765487606782, 0.01899011108818505, 0.13069664690103827, 0.13963316976606654, 0.2558079670114339, 0.9795255081803784, 0.9705484356078219, 0.1523143842610502, 0.8377291134357762, 0.009850319504609604, 0.7880255603687684, 0.1970063900921921, 0.978049097727469, 0.9970684700509831, 0.9875379384473677, 0.2611081025304003, 0.7311026870851207, 0.0032159674853637563, 0.10612692701700395, 0.8618792860774867, 0.02572773988291005, 0.24453548140645293, 0.05216756936670996, 0.061948988622968076, 0.639052724742197, 0.9912332851883932, 0.9778738066050898, 0.9896900587633588, 0.5377913199480906, 0.12100304698832039, 0.3361195749675566, 0.9859085072508724, 0.9830460289894265, 0.01948519271649922, 0.8250971260641738, 0.014109967139533917, 0.0006719031971206627, 0.1404277681982185, 0.9557641059525007, 0.9677675905089707, 0.47721243323821977, 0.5010730549001308, 0.023860621661910986, 0.9636557027344104, 0.9682833882471121, 0.10686155248366551, 0.2707159329586193, 0.61979700440526, 0.2341248219300539, 0.03762720352447295, 0.13587601272726343, 0.06480240606992564, 0.41808003916081055, 0.06271200587412158, 0.035536803328668896, 0.012542401174824316, 0.9943515029784641, 0.9856131784753908, 0.9817072335157848, 0.6878519365934487, 0.09171359154579314, 0.09171359154579314, 0.12992758802320697, 0.9560945873993373, 0.0009139546258654965, 0.0027418638775964896, 0.07037450619164323, 0.268702660004456, 0.022848865646637413, 0.038386094286350855, 0.18736069830242677, 0.4085377177618769, 0.09989640909995055, 0.899067681899555, 0.9843892174681753, 0.9856086251653989, 0.98839111561414, 0.970528165171705, 0.22304086740905824, 0.7682518766312005, 0.8863214979286003, 0.08309264043080627, 0.9669502930758537, 0.019255365637247286, 0.05226456387252835, 0.01650459911764053, 0.9077529514702292, 0.9930873795777102, 0.1131259259261259, 0.17861988304125143, 0.6341005847964426, 0.0744249512671881, 0.9884607541459813, 0.08483271803205132, 0.024742876092681634, 0.417094196990919, 0.016966543606410263, 0.06786617442564105, 0.15835440699316247, 0.2304622173204061, 0.9944953770047728, 0.9915580327415471, 0.978982065757783, 0.9848867165982402, 0.9800232542490765, 0.011529685344106784, 0.9806632088888915, 0.5414651491182049, 0.45686121956848535, 0.9708266875114536, 0.9628689797440323, 0.9804285589355514, 0.4163001701130973, 0.5828202381583362, 0.9970113513844386, 0.974838711658083, 0.984257240923179, 0.6941361915033194, 0.030511480945200852, 0.26697545827050745, 0.3441418834658372, 0.05550675539771568, 0.5883716072157862, 0.9678464550455865, 0.9787629846482385, 0.8622349871418069, 0.1306416647184556, 0.9969206065556555, 0.019244612730232164, 0.05498460780066333, 0.06048306858072966, 0.775282969989353, 0.08797537248106133, 0.08431733120529311, 0.847005918016808, 0.06515430138590832, 0.06058086183811844, 0.5847370142635779, 0.3529493689699074, 0.002633950514700802, 0.9713250150679469, 0.12403609053665518, 0.8682526337565862, 0.010363032660993081, 0.1409372441895059, 0.15337288338269758, 0.07461383515915018, 0.01658085225758893, 0.2922375210400049, 0.312963586361991, 0.9687496910958224, 0.35623817645686356, 0.05624813312476793, 0.5812307089559353, 0.985228259248878, 0.9848560015615538, 0.9755657383798332, 0.9895717531214243, 0.035444108568954094, 0.10522469731408246, 0.13845354909747692, 0.015506797498917415, 0.24478587480433922, 0.17389765766643103, 0.2868757537299722, 0.9926181382196353, 0.9610750162841293, 0.16608360586575246, 0.8221138490354747, 0.9792493048701856, 0.4665379367718959, 0.5238320693579182, 0.966338220826818, 0.9737866828004199, 0.6024435070038792, 0.3920664093199848, 0.9925762426224284, 0.0011932973447443618, 0.12648951854290236, 0.014319568136932342, 0.15035546543778958, 0.12648951854290236, 0.052505083168751916, 0.13603589730085724, 0.10023697695852639, 0.29235784946236865, 0.9954154613369776, 0.7774870553681547, 0.20914856460195974, 0.009093415852259118, 0.1568496398584821, 0.6622540349580356, 0.1742773776205357, 0.979705696847412, 0.9843664967575304, 0.00206895088276181, 0.6972364474907299, 0.17792977591751563, 0.11999915120018496, 0.985468504130538, 0.10421109440388675, 0.833688755231094, 0.03473703146796225, 0.9677156643663383, 0.9874585616088397, 0.0019698843487427208, 0.011819306092456325, 0.12016294527330597, 0.013789190441199046, 0.2344162375003838, 0.18319924443307303, 0.437314325420884, 0.3544781548390532, 0.25780229442840236, 0.37059079824082836, 0.010741762267850096, 0.9870234376661176, 0.1228043845653459, 0.0026696605340292587, 0.17886725577996032, 0.4191367038425936, 0.18687623738204812, 0.05606287121461443, 0.034705586942380365, 0.9883083508312539, 0.5943195304835882, 0.40482634685113983, 0.9864213786521024, 0.9839286704246805, 0.30406102473053004, 0.0006926219242153304, 0.010735639825337621, 0.002424176734753656, 0.2427639844374733, 0.011081950787445286, 0.07030112530785602, 0.13956331772938907, 0.21852221708993672, 0.005972376871452604, 0.9914145606611322, 0.07403283511616697, 0.04613640449268377, 0.030042309902212686, 0.07939753331299067, 0.013948215311741605, 0.18347267833137032, 0.3068607368583153, 0.2650160909230905, 0.06259796614762064, 0.07511755937714476, 0.1377155255247654, 0.7198766106976373, 0.06576415990878542, 0.008661621061157105, 0.7163481418356968, 0.02341845694312847, 0.07185937472959969, 0.0016040039002142787, 0.11260107379504236, 0.052208369034664935, 0.24363905549510304, 0.024363905549510304, 0.24363905549510304, 0.1670667809109278, 0.12181952774755152, 0.14270287536141749, 0.26281316397658916, 0.13140658198829458, 0.03650182833008182, 0.32669136355423234, 0.05657783391162683, 0.007300365666016365, 0.17703386740089685, 0.99500787596091, 0.9890934131484874, 0.040260088243631774, 0.9528220884326186, 0.944157973418348, 0.9556294535598823, 0.9673575127636741, 0.9800548493624816, 0.11544906415181248, 0.8799090835354357, 0.9887037017109788, 0.5463647764469121, 0.44489703224962834, 0.9674689432179053, 0.028042578064287112, 0.9861275514418365, 0.054997871317575206, 0.26713251782822245, 0.5892629069740201, 0.07856838759653602, 0.9963693624852771, 0.9477067358016361, 0.15871370668744528, 0.5631776688909348, 0.12799492474793975, 0.056317766889093485, 0.08703654882859901, 0.986341668406698, 0.011562614030803886, 0.0028906535077009715, 0.2688307762161904, 0.0028906535077009715, 0.23125228061607775, 0.013007940784654374, 0.1228527740772913, 0.026015881569308747, 0.32086253935480785, 0.9793391327896174, 0.7628912073537901, 0.2236060435347316, 0.004169290198922841, 0.2835117335267532, 0.42943689048905265, 0.012507870596768523, 0.2126338001450649, 0.06253935298384261, 0.10084494587892667, 0.08289796398521938, 0.05384094568112187, 0.03503934560199994, 0.25638545562438986, 0.4708946201634627, 0.14227621618015934, 0.00140867540772435, 0.6613731039265823, 0.01831278030041655, 0.1634063472960246, 0.01267807866951915, 0.9887591707602049, 0.9822806396953908, 0.13884540965309194, 0.7063005621483373, 0.08049009255251706, 0.06439207404201365, 0.008049009255251706, 0.979799961300237, 0.7442815229483455, 0.2548909325165567, 0.09802887160133754, 0.0792400045444145, 0.022873403373645424, 0.23118475552648768, 0.07352165370100315, 0.08169072633444795, 0.19360702141264163, 0.21974805383966498, 0.1331597033471426, 0.43752473956918286, 0.19022814763877516, 0.19022814763877516, 0.04755703690969379, 0.9502657536115493, 0.9635990510260342, 0.01144794942332018, 0.0572397471166009, 0.9272839032889346, 0.18606630547699313, 0.8015163928239704, 0.1606820267769259, 0.47474235184091734, 0.007303728489860267, 0.3578826960031531, 0.970984315773557, 0.9906445677075286, 0.9889124000250983, 0.9773708840625303, 0.9532971737491244, 0.16443756738136447, 0.8221878369068224, 0.9759903336009127, 0.9671913267288845, 0.05923564762940338, 0.9181525382557524, 0.9756259738147447, 0.33602569313852876, 0.4445182936137488, 0.036164200158406684, 0.1838346841385673, 0.9862460691176205, 0.46454129294462937, 0.5269423621461468, 0.9684505446850356, 0.027814506505314335, 0.9842282564365737, 0.9735622775505832, 0.9831975580173463, 0.9883788519227857, 0.9863480369207589, 0.10287965602462718, 0.22158695143765852, 0.1760824881959965, 0.11870729541303136, 0.08903047155977352, 0.2928113286854773, 0.9863828689225768, 0.9755353525716658, 0.7685768232290219, 0.21720649352124533, 0.9919088060628328, 0.960392520736303, 0.9607477116655534, 0.02000428272196326, 0.022931738730055447, 0.04147229344797261, 0.23614811798610288, 0.005854912016184369, 0.25810403804679427, 0.07221058153294055, 0.3425123529467856, 0.9714674979461997, 0.7370193105821156, 0.2555000276684667, 0.9774308250502749, 0.9700938030096812, 0.9676459274461339, 0.9809750590179478, 0.9881473678949059, 0.9861634667261069, 0.009720066308490434, 0.027392914142109405, 0.49086334857876696, 0.18689036584052063, 0.03402023207971652, 0.2509544392373894, 0.9851441792343766, 0.9917492330165381, 0.11836650979445892, 0.021344780454738494, 0.05433216843024344, 0.3162908376474886, 0.32405257599466625, 0.16493693987752472, 0.9700992157434216, 0.9808333989050104, 0.9927615441588162, 0.974325431185349, 0.058975117528573075, 0.06755331644182007, 0.0579028426644172, 0.04181871970207909, 0.1286729836987049, 0.24340639416338342, 0.009650473777402867, 0.18014217717818684, 0.21123814823870718, 0.028598919993151062, 0.024654241373406088, 0.04733614343693969, 0.24555624407912463, 0.08875526894426192, 0.05128082205668466, 0.11834035859234922, 0.3944678619744974, 0.6310833217072314, 0.34764090850283186, 0.003633877092364096, 0.01574680073357775, 0.02100047454834429, 0.09600216936385961, 0.0060001355852412255, 0.08400189819337717, 0.045001016889309194, 0.21300481327606352, 0.15000338963103063, 0.38400867745543843, 0.977445008046117, 0.9617673376898548, 0.03634767606720942, 0.9559438805676077, 0.0036347676067209423, 0.9422218282874394, 0.05745255050533167, 0.06322843867502985, 0.033278125618436766, 0.24209836387412745, 0.014975156528296544, 0.20050070685108148, 0.17138234693494933, 0.2745445363521033, 0.9949120110935967, 0.9742806473784767, 0.22654649599041382, 0.4946265162457369, 0.0012585916443911879, 0.11327324799520691, 0.007551549866347128, 0.0025171832887823757, 0.15480677226011613, 0.9641376528556568, 0.08062157028104816, 0.14780621218192164, 0.772623381860045, 0.8715292899951569, 0.08502724780440554, 0.03188521792665208, 0.02388197853170793, 0.9791611198000252, 0.9642910194496134, 0.9640962070979286, 0.9927335460782639, 0.5702377754348299, 0.17781608051193618, 0.24526355932680854, 0.96994481056858, 0.032509697323253595, 0.004334626309767146, 0.23623713388230946, 0.028175071013486448, 0.09536177881487722, 0.2405717601920766, 0.14737729453208295, 0.21456400233347372, 0.6367282967772263, 0.20623362726872788, 0.15647796194865018, 0.962758646413477, 0.10843460238412878, 0.8795251082268224, 0.05395060380982214, 0.9171602647669764, 0.9606552774015288, 0.9563728849042257, 0.9783553792379811, 0.9926268063943503, 0.9949917926347902, 0.002629921897697544, 0.02103937518158035, 0.9730711021480912, 0.9929583810959001, 0.06905249223647489, 0.010105242766313399, 0.14652602011154428, 0.7747352787506939, 0.9600105885940198, 0.05866084569002272, 0.01530282931044071, 0.15047782155266698, 0.40807544827841896, 0.18873489482876876, 0.1785330086218083, 0.07194585927747457, 0.5823542194346527, 0.048868885546963864, 0.14117678046900672, 0.15610893994169012, 0.9684474996294851, 0.9924212954455208, 0.005786713092976798, 0.98270990132435, 0.9932415491013293, 0.10379780767352471, 0.8948086868407303, 0.9834592396609811, 0.7761633047044005, 0.13498492255728706, 0.028121858866101468, 0.06186808950542323, 0.02879394304018334, 0.22511628195052433, 0.3664683659659698, 0.002617631185471213, 0.13349919045903186, 0.2434397002488228, 0.0785280865626276, 0.28104788875045666, 0.02686487171879365, 0.01859875734378022, 0.15498964453150182, 0.4401705904694652, 0.9818960772860699, 0.5597353599230009, 0.43122469055292423, 0.0057115853053367445, 0.005469925781026118, 0.10392858983949624, 0.7690715648122722, 0.08861279765262312, 0.02734962890513059, 0.005469925781026118, 0.14748587624597154, 0.8512781278056953, 0.00258747151308722, 0.9883913071557343, 0.023991751853442933, 0.23773645018411632, 0.11123448586596268, 0.010905341751564969, 0.21810683503129938, 0.1483126478212836, 0.0370781619553209, 0.08069952896158077, 0.13086410101877963, 0.005667833469451182, 0.008501750204176772, 0.3542395918406988, 0.33156825796289413, 0.30039517388091264, 0.9836362169291314, 0.0246311540789911, 0.2216803867109199, 0.12808200121075372, 0.5615903130009972, 0.06896723142117508, 0.007561647292955479, 0.1814795350309315, 0.05104111922744948, 0.1606850049753039, 0.17958912320769263, 0.14178088674291522, 0.27789053801611385, 0.991366365683916, 0.9776841137449742, 0.0812831235728064, 0.89005020312223, 0.02438493707184192, 0.9776315820577075, 0.9840714027012786, 0.98027343975347, 0.9880335296900313, 0.029147253859273147, 0.9676888281278685, 0.2033239500865473, 0.6269155127668542, 0.10166197504327365, 0.06656438842119108, 0.9885720454029732, 0.9803386192791166, 0.9706039139359035, 0.9932500565942275, 0.17535619634641375, 0.018320796633207407, 0.10207300981358412, 0.5731792089532032, 0.12824557643245185, 0.05242082289548819, 0.937750276241511, 0.011649071754552931, 0.2102483877034898, 0.6128516833059171, 0.17446142809438517, 0.9934412545073609, 0.9822183216321781, 0.9980275411802384, 0.6781043163459093, 0.31177209946938356, 0.9806390870187717, 0.9928411171473445, 0.022242390791607333, 0.005560597697901833, 0.03018610178860995, 0.8547433032774818, 0.054017234779617805, 0.033363586187411, 0.9948082722061821, 0.6280071893057848, 0.0028161757367972415, 0.33230873694207447, 0.033794108841566896, 0.8720984300734899, 0.06287221240064694, 0.06287221240064694, 0.6919629936460961, 0.08303555923753154, 0.22142815796675078, 0.5979343966009661, 0.3943822615878713, 0.9929671018968652, 0.9700843480262791, 0.9766498832202634, 0.7997972833771848, 0.17773272963937442, 0.9894357718834379, 0.17666866171035986, 0.8146388289977704, 0.9873228615081958, 0.25911531121724857, 0.13819483264919924, 0.5988442748131967, 0.6782952422527174, 0.3237318201660697, 0.9648153195594931, 0.06119922393792282, 0.20148667573408435, 0.09226959916794517, 0.16759172093769634, 0.477353946715798, 0.988315547398335, 0.9715504032701501, 0.9684583762799529, 0.9943397801788296, 0.9532858049825657, 0.9525408571390163, 0.9957142646309987, 0.9668411395783734, 0.040839815171893765, 0.10024318269464833, 0.02598897329120512, 0.022276262821032962, 0.08539234081395969, 0.1559338397472307, 0.5717574124065127, 0.9791954444821233, 0.3075190672593639, 0.6846650931434894, 0.9852201965202012, 0.9888748005915459, 0.9839372757628722, 0.07755111696644043, 0.5073135568221312, 0.413605957154349, 0.9873193586466423, 0.9849823194299742, 0.9767384341997097, 0.06779359223008218, 0.006779359223008218, 0.09491102912211505, 0.528790019394641, 0.1830426990212219, 0.1152491067911397, 0.7623949673266072, 0.2202474350054643, 0.9729650593366109, 0.14527575822717242, 0.08683148767601111, 0.11187903219793739, 0.1603042849403282, 0.11187903219793739, 0.08850132397747286, 0.2053898650797955, 0.09184099658039636, 0.9912050218546351, 0.08308196010715005, 0.17209834593623938, 0.7418032152424111, 0.9808904276125795, 0.9846404197106333, 0.9867559421002581, 0.9896010630918979, 0.924631541278986, 0.075902589209469, 0.9529799774394737, 0.9831551852560382, 0.9693758130486064, 0.3037380380569024, 0.12278771751236481, 0.3425131067450176, 0.20680036633661442, 0.025850045792076802, 0.9937308004109205, 0.9903271571766932, 0.990690874306702, 0.9675115427534737, 0.9255794318913593, 0.07156541999159995, 0.09279998571523768, 0.8042665428653931, 0.09279998571523768, 0.06673156754642089, 0.07812476200556592, 0.03906238100278296, 0.055338373087275856, 0.12369753984214603, 0.2262362899744513, 0.05371077387882657, 0.3564442266503945, 0.14187711028660827, 0.013353139791680776, 0.008345712369800485, 0.19028224203145105, 0.001669142473960097, 0.31046050015657806, 0.10682511833344621, 0.22700337645857321, 0.9861847726152158, 0.9542138039499032, 0.9886802230931886, 0.3079254092137813, 0.6891663920498915, 0.05976049762504012, 0.001484732860249444, 0.12508874347601567, 0.005196565010873054, 0.599460892325713, 0.000371183215062361, 0.04491316902254568, 0.008166030731371942, 0.1551545838960669, 0.9553661159035797, 0.13199005376404918, 0.018665260128249376, 0.07599427337930104, 0.17465350548576203, 0.5986215569702836, 0.2878409825487024, 0.7008302183794494, 0.006257412664102226, 0.9929757669631054, 0.9692501014464787, 0.9922249216828848, 0.14734805596284328, 0.8288328147909935, 0.3082983157066499, 0.15414915785332495, 0.2768393038998489, 0.015729505903400505, 0.0031459011806801006, 0.09437703542040303, 0.14785735549196474, 0.9847856191968628, 0.3701210875252274, 0.25908476126765917, 0.30349929177068646, 0.06662179575454093, 0.13827237089788166, 0.2815728280102317, 0.1709549312919264, 0.1910672761498001, 0.15587067264852114, 0.0628510776808553, 0.9771714718883245, 0.9919895910934732, 0.978906304923136, 0.9795599235269088, 0.8775087246752131, 0.015394889906582688, 0.03848722476645672, 0.06542828210297642, 0.981702121820605, 0.9765725350519511, 0.04929810376974001, 0.07120837211184669, 0.012780989866228892, 0.08581521767325113, 0.26657493149563116, 0.05477567085526668, 0.4601156351842401, 0.7977770672052538, 0.19773961494831077, 0.9850064643344444, 0.9772986393177866, 0.16578518182299887, 0.5045635968526052, 0.057664411068869166, 0.2666979011935199, 0.9761599318370683, 0.9925085317391448, 0.01610642757725057, 0.038252765495970106, 0.14495784819525512, 0.26776935847179073, 0.0020133034471563212, 0.3019955170734482, 0.010066517235781607, 0.2174367722928827, 0.9787014786381242, 0.01231071042312106, 0.03670239896873377, 0.77424584491186, 0.0996207972008488, 0.0891343974954963, 0.6283954044917456, 0.239575747962478, 0.12567908089834912, 0.9839117125997547, 0.025527572416341866, 0.10211028966536746, 0.020886195613370614, 0.2320688401485624, 0.2506343473604474, 0.18797576052033554, 0.1160344200742812, 0.06497927524159747, 0.5270494014669354, 0.05929305766503023, 0.4084632861368749, 0.9907763935435296, 0.9782922924189417, 0.00546819090510423, 0.24789132103139175, 0.05285917874934089, 0.03280914543062538, 0.2351322089194819, 0.01275911211190987, 0.09478197568847331, 0.3171550724960453, 0.7010482193258198, 0.28932148734081453, 0.9659312023826194, 0.9696492283372409, 0.9803356617102541, 0.9882655356418113, 0.9933108126979615, 0.01699882386422728, 0.9689329602609549, 0.9852904567411132, 0.9851961031351104, 0.9795575458201443, 0.9846656179804922, 0.08918527379593717, 0.7357785088164817, 0.15607422914289004, 0.0013608436744979792, 0.059196699840662094, 0.48582119179577854, 0.15377533521827164, 0.12451719621656508, 0.06872260556214795, 0.10614580661084237, 0.011556486559421007, 0.032891538669121326, 0.049781788255967414, 0.04355906472397149, 0.5707126439344836, 0.2915790454992377, 0.9563698570295642, 0.9873693317659235, 0.978510118480716, 0.9933646525420236, 0.012910600327977372, 0.03873180098393212, 0.06455300163988686, 0.1355613034437624, 0.742359518858699, 0.11223381995360716, 0.1739624209280911, 0.15151565693736965, 0.011223381995360717, 0.5499457177726751, 0.019005364704493113, 0.11878352940308196, 0.022964815684595845, 0.15362669802798598, 0.0958187137184861, 0.2272724862578968, 0.08235658038613682, 0.2803291293912734, 0.12247491441507587, 0.8761666954309274, 0.13990412616024606, 0.014813378064026054, 0.07406689032013027, 0.2748704596324834, 0.4954251996968713, 0.0010573978432248969, 0.08670662314444155, 0.15120789158116027, 0.010573978432248969, 0.13217473040311212, 0.04546810725867057, 0.21147956864497938, 0.1078545800089395, 0.2527180845307504, 0.03608132971676467, 0.19163195116237233, 0.004009036635196074, 0.11626206242068615, 0.0649463934901764, 0.19644279512460763, 0.11064941113141165, 0.2806325644637252, 0.8096523403146033, 0.17992274229213406, 0.08635191839713227, 0.7317188874704367, 0.17724867460463992, 0.709475982583041, 0.18919359535547758, 0.09459679767773879, 0.9937398617016242, 0.004072704351236165, 0.04860682561950014, 0.09721365123900028, 0.8360374006554024, 0.8502173964932336, 0.07287577684227717, 0.07634605193000465, 0.994079613382683, 0.9874610032999962, 0.08852727755109449, 0.9053926113180119, 0.004023967161413386, 0.9923305906658443, 0.9783199650268077, 0.9863768292974319, 0.3819107736614342, 0.3080960863151066, 0.0032093342324490274, 0.3080960863151066, 0.9798447000876084, 0.0009929827009245939, 0.17178600725995474, 0.032768429130511596, 0.1608631975497842, 0.047663169644380506, 0.08241756417674129, 0.1132000279054037, 0.3902422014633654, 0.030367699321520992, 0.48588318914433587, 0.1746142710987457, 0.31126891804559015, 0.9841430425501684, 0.3857849386691357, 0.001891102640534979, 0.01891102640534979, 0.5938062291279834, 0.9820896967511744, 0.1714926958511299, 0.8193539912887317, 0.9857058666013196, 0.9797867969471072, 0.9761810333414471, 0.08145474727836698, 0.8960022200620368, 0.9662208357297762, 0.987683812603403, 0.983803419221659, 0.1697735862690712, 0.03395471725381424, 0.09980629010969641, 0.04527295633841899, 0.45684528668768254, 0.01954968569159002, 0.023665408995082654, 0.04630188716429215, 0.1049509442390622, 0.9841126582909259, 0.14040243625758575, 0.06240108278114922, 0.726526892380523, 0.03120054139057461, 0.03788637168855488, 0.06924301573711021, 0.5002454606313677, 0.08196112066841617, 0.17240097795770298, 0.1738141007278481, 0.9793150383846526, 0.9870578718197149, 0.6145638784483548, 0.3835069163960664, 0.08875758293564406, 0.33136164295973786, 0.5739657029838316, 0.9488677309190056, 0.012858711584730339, 0.22645619846441764, 0.11930026859166482, 0.2543167402313334, 0.04357674481491948, 0.054292337802194765, 0.16287701340658428, 0.12572962438403, 0.996739331790273, 0.9941723974849219, 0.9911898119505251, 0.8513654416738715, 0.1472894585405367, 0.9803746192713201, 0.9772387656585975, 0.010165367115153484, 0.8132293692122787, 0.17281124095760925, 0.9797170032107962, 0.900349690551091, 0.09542876904458568, 0.9819166926303995, 0.014797140850770637, 0.005918856340308255, 0.0009864760567180424, 0.4463804156649142, 0.013810664794052595, 0.13810664794052593, 0.026634853531387146, 0.3531584283050592, 0.9664936434865383, 0.00850181069308599, 0.004250905346542995, 0.42934144000084246, 0.02125452673271497, 0.19554164594097775, 0.08926901227740289, 0.2508034154460367, 0.05357015425787085, 0.408824861441646, 0.0056389636060916685, 0.25939232588021677, 0.14943253556142921, 0.03947274524264168, 0.05075067245482502, 0.036653263439595844, 0.07798124798921593, 0.15596249597843187, 0.7612455160852032, 0.86375472905081, 0.1356956069807919, 0.9923638968384455, 0.5497222034885832, 0.17568441554789774, 0.26636024292745786, 0.0056672392112225075, 0.3119095979876358, 0.6832305479729166, 0.30002368918080047, 0.011744699576472615, 0.2135399922995021, 0.13025939530269628, 0.04591109834439295, 0.13666559507168136, 0.07580669726632325, 0.08648369688129835, 0.012173209905601057, 0.058837181210405105, 0.008115473270400703, 0.33476327240402903, 0.0426062346696037, 0.04869283962240423, 0.2860704327816248, 0.20897343671281812, 0.020761194009508183, 0.0958208954284993, 0.18365671623795699, 0.015970149238083216, 0.1245671640570491, 0.02874626862854979, 0.22517910425697335, 0.20441791024746517, 0.10220895512373258, 0.9909067194916036], \"Term\": [\"accommodation\", \"account\", \"admit\", \"admit\", \"adult\", \"adventure\", \"ahh\", \"airport\", \"alarm\", \"album\", \"anytime\", \"app\", \"apple\", \"apply\", \"apply\", \"architecture\", \"art\", \"art\", \"ask\", \"ask\", \"ask\", \"ask\", \"ask\", \"assignment\", \"atmosphere\", \"audience\", \"aunt\", \"awesome\", \"babe\", \"babe\", \"ball\", \"band\", \"band\", \"band\", \"bank\", \"bar\", \"basketball\", \"bath\", \"bath\", \"beach\", \"beer\", \"beer\", \"beer\", \"ben\", \"ben\", \"bird\", \"birth\", \"birthday\", \"birthday\", \"birthday\", \"birthday\", \"bite\", \"bite\", \"bite\", \"bite\", \"bite\", \"bite\", \"bite\", \"bite\", \"bless\", \"blue\", \"bomb\", \"book\", \"book\", \"book\", \"book\", \"booze\", \"border\", \"bore\", \"borrow\", \"borrow\", \"borrow\", \"boss\", \"boss\", \"boss\", \"boss\", \"boston\", \"boyfriend\", \"brand\", \"bread\", \"bring\", \"bring\", \"bring\", \"bring\", \"bt\", \"build\", \"build\", \"build\", \"business\", \"business\", \"business\", \"business\", \"buy\", \"buy\", \"buy\", \"c\", \"c\", \"calendar\", \"call\", \"call\", \"call\", \"call\", \"call\", \"cambridge\", \"camera\", \"camp\", \"campus\", \"canada\", \"cancel\", \"capital\", \"car\", \"car\", \"cash\", \"cash\", \"cash\", \"cast\", \"cat\", \"cat\", \"cat\", \"channel\", \"chapter\", \"character\", \"charger\", \"check\", \"check\", \"check\", \"check\", \"check\", \"check\", \"check\", \"check\", \"cheese\", \"chick\", \"chicken\", \"chicken\", \"child\", \"child\", \"child\", \"chris\", \"christmas\", \"church\", \"cinema\", \"cinema\", \"city\", \"city\", \"city\", \"city\", \"class\", \"class\", \"class\", \"class\", \"clock\", \"coat\", \"code\", \"college\", \"college\", \"college\", \"colour\", \"com\", \"come\", \"come\", \"come\", \"come\", \"come\", \"comedy\", \"complaint\", \"computer\", \"computer\", \"computer\", \"connection\", \"consider\", \"cook\", \"cook\", \"cook\", \"cool\", \"cool\", \"cool\", \"cool\", \"cool\", \"cool\", \"cool\", \"cool\", \"copy\", \"corner\", \"cos\", \"country\", \"country\", \"country\", \"country\", \"countryside\", \"course\", \"course\", \"course\", \"course\", \"course\", \"course\", \"course\", \"course\", \"cousin\", \"cousin\", \"cover\", \"create\", \"credit\", \"cu\", \"cute\", \"cute\", \"cuz\", \"cuz\", \"cv\", \"dad\", \"dad\", \"dad\", \"dad\", \"dance\", \"date\", \"date\", \"date\", \"date\", \"david\", \"day\", \"day\", \"day\", \"day\", \"day\", \"day\", \"day\", \"deadline\", \"delay\", \"deliver\", \"delivery\", \"department\", \"department\", \"desk\", \"dinner\", \"dinner\", \"direction\", \"disaster\", \"discount\", \"doctor\", \"doctor\", \"dog\", \"doll\", \"donna\", \"door\", \"door\", \"door\", \"doubt\", \"doubt\", \"doubt\", \"download\", \"drama\", \"dream\", \"dream\", \"dress\", \"drink\", \"drink\", \"drink\", \"drink\", \"drink\", \"drive\", \"drive\", \"drive\", \"eat\", \"eat\", \"eat\", \"eat\", \"effort\", \"email\", \"email\", \"end\", \"end\", \"end\", \"end\", \"end\", \"end\", \"end\", \"english\", \"entrance\", \"entrance\", \"entrance\", \"episode\", \"escape\", \"eu\", \"europe\", \"everything\", \"everything\", \"everything\", \"everything\", \"everything\", \"everything\", \"everything\", \"exam\", \"exchange\", \"facebook\", \"facebook\", \"fashion\", \"fb\", \"fb\", \"fetch\", \"field\", \"file\", \"file\", \"film\", \"find\", \"find\", \"find\", \"find\", \"find\", \"find\", \"find\", \"find\", \"find\", \"fire\", \"flight\", \"flight\", \"flight\", \"floor\", \"floor\", \"floor\", \"flow\", \"flu\", \"food\", \"food\", \"food\", \"food\", \"football\", \"france\", \"france\", \"france\", \"freeze\", \"fridge\", \"friend\", \"friend\", \"friend\", \"friend\", \"friend\", \"friend\", \"friend\", \"front\", \"front\", \"front\", \"front\", \"fruit\", \"fun\", \"fun\", \"fun\", \"fun\", \"fun\", \"fun\", \"fun\", \"future\", \"game\", \"game\", \"gate\", \"george\", \"get\", \"get\", \"get\", \"get\", \"get\", \"get\", \"get\", \"get\", \"get\", \"gift\", \"gift\", \"give\", \"give\", \"give\", \"give\", \"give\", \"give\", \"give\", \"give\", \"glad\", \"glad\", \"glad\", \"glad\", \"go\", \"go\", \"go\", \"go\", \"go\", \"go\", \"go\", \"god\", \"god\", \"god\", \"god\", \"god\", \"god\", \"god\", \"gon\", \"gon\", \"gon\", \"gon\", \"gon\", \"gon\", \"gon\", \"google\", \"government\", \"grab\", \"grab\", \"greece\", \"grey\", \"grind\", \"grocery\", \"group\", \"group\", \"guitar\", \"gym\", \"gym\", \"h\", \"h\", \"hah\", \"hahah\", \"hahah\", \"hahah\", \"hahah\", \"hair\", \"hangover\", \"happen\", \"happen\", \"happen\", \"happen\", \"happen\", \"harry\", \"hear\", \"hear\", \"hear\", \"hear\", \"hear\", \"hear\", \"hear\", \"hear\", \"hear\", \"heat\", \"hehe\", \"hehe\", \"hell\", \"hell\", \"hell\", \"hell\", \"hell\", \"hell\", \"help\", \"help\", \"help\", \"help\", \"help\", \"help\", \"home\", \"home\", \"home\", \"home\", \"home\", \"home\", \"homework\", \"hon\", \"hour\", \"hour\", \"hour\", \"hour\", \"hour\", \"hr\", \"hurry\", \"hurry\", \"idea\", \"idea\", \"idea\", \"idea\", \"idea\", \"idea\", \"idea\", \"idea\", \"idk\", \"idk\", \"idk\", \"idk\", \"idk\", \"improve\", \"inform\", \"information\", \"information\", \"information\", \"interest\", \"interest\", \"internet\", \"internet\", \"internet\", \"internet\", \"invoice\", \"italy\", \"jack\", \"jacket\", \"jan\", \"jane\", \"jane\", \"japan\", \"jay\", \"jenny\", \"jenny\", \"jess\", \"job\", \"job\", \"job\", \"job\", \"joe\", \"john\", \"john\", \"join\", \"join\", \"joke\", \"judge\", \"juice\", \"july\", \"june\", \"keep\", \"keep\", \"keep\", \"keep\", \"keep\", \"keep\", \"key\", \"kick\", \"kill\", \"kill\", \"kk\", \"km\", \"knock\", \"know\", \"know\", \"know\", \"know\", \"know\", \"know\", \"know\", \"know\", \"la\", \"language\", \"language\", \"laptop\", \"laugh\", \"laura\", \"lawyer\", \"lecture\", \"lend\", \"let\", \"let\", \"let\", \"let\", \"let\", \"let\", \"letter\", \"library\", \"life\", \"life\", \"life\", \"life\", \"life\", \"life\", \"light\", \"linda\", \"location\", \"log\", \"look\", \"look\", \"look\", \"look\", \"look\", \"look\", \"look\", \"look\", \"look\", \"lot\", \"lot\", \"lot\", \"lot\", \"lot\", \"lot\", \"lot\", \"lot\", \"love\", \"love\", \"love\", \"love\", \"luck\", \"luck\", \"luck\", \"luck\", \"luck\", \"luck\", \"luck\", \"luck\", \"luggage\", \"luke\", \"lunch\", \"lunch\", \"lunch\", \"mail\", \"mail\", \"make\", \"make\", \"make\", \"make\", \"make\", \"make\", \"make\", \"mall\", \"malta\", \"man\", \"man\", \"man\", \"man\", \"man\", \"man\", \"man\", \"manchester\", \"mark\", \"mark\", \"mark\", \"market\", \"market\", \"market\", \"martha\", \"martha\", \"massage\", \"master\", \"match\", \"mate\", \"mate\", \"mate\", \"math\", \"mean\", \"mean\", \"mean\", \"mean\", \"mean\", \"mean\", \"mean\", \"mean\", \"meet\", \"meet\", \"meet\", \"memory\", \"mention\", \"mention\", \"messenger\", \"messenger\", \"metal\", \"mexico\", \"michael\", \"milk\", \"min\", \"mom\", \"mom\", \"mom\", \"mon\", \"money\", \"money\", \"money\", \"money\", \"monica\", \"month\", \"month\", \"month\", \"month\", \"month\", \"month\", \"morning\", \"morning\", \"morning\", \"morning\", \"morning\", \"moron\", \"movie\", \"movie\", \"mrs\", \"ms\", \"mum\", \"mum\", \"museum\", \"music\", \"music\", \"music\", \"music\", \"name\", \"name\", \"name\", \"name\", \"name\", \"name\", \"need\", \"need\", \"need\", \"need\", \"need\", \"need\", \"netflix\", \"news\", \"news\", \"news\", \"night\", \"night\", \"night\", \"night\", \"night\", \"night\", \"number\", \"number\", \"number\", \"ofc\", \"oh\", \"oh\", \"oh\", \"oh\", \"oh\", \"oh\", \"oh\", \"oh\", \"oh\", \"okay\", \"okay\", \"okay\", \"okay\", \"okay\", \"okey\", \"omg\", \"omg\", \"omg\", \"omg\", \"omg\", \"one\", \"one\", \"one\", \"one\", \"one\", \"one\", \"one\", \"open\", \"orange\", \"order\", \"order\", \"order\", \"organize\", \"owner\", \"package\", \"paper\", \"park\", \"park\", \"party\", \"party\", \"party\", \"party\", \"password\", \"pasta\", \"pat\", \"paul\", \"pay\", \"pay\", \"pay\", \"pay\", \"pay\", \"perfect\", \"perfect\", \"perfect\", \"phone\", \"phone\", \"phone\", \"photo\", \"pic\", \"pick\", \"picture\", \"picture\", \"pink\", \"pizza\", \"place\", \"place\", \"place\", \"place\", \"place\", \"place\", \"plane\", \"play\", \"play\", \"play\", \"play\", \"pm\", \"pm\", \"pm\", \"poland\", \"poland\", \"poland\", \"police\", \"police\", \"position\", \"postpone\", \"ppl\", \"practice\", \"practice\", \"present\", \"presentation\", \"presentation\", \"president\", \"price\", \"price\", \"price\", \"print\", \"print\", \"printer\", \"problem\", \"problem\", \"problem\", \"problem\", \"problem\", \"probs\", \"program\", \"programme\", \"project\", \"promote\", \"promotion\", \"pub\", \"pull\", \"question\", \"question\", \"question\", \"question\", \"question\", \"question\", \"question\", \"quit\", \"r\", \"r\", \"race\", \"radio\", \"rain\", \"read\", \"read\", \"read\", \"reception\", \"recipe\", \"recognize\", \"recommend\", \"recommend\", \"recommend\", \"recommend\", \"recommend\", \"recommend\", \"relationship\", \"relationship\", \"relief\", \"remember\", \"remember\", \"remember\", \"remember\", \"remember\", \"remember\", \"remember\", \"remember\", \"reservation\", \"restaurant\", \"restaurant\", \"restaurant\", \"result\", \"reunion\", \"ride\", \"river\", \"road\", \"road\", \"robert\", \"rome\", \"rum\", \"run\", \"run\", \"run\", \"run\", \"run\", \"rush\", \"russia\", \"sale\", \"santa\", \"saturday\", \"saturday\", \"save\", \"save\", \"save\", \"say\", \"say\", \"say\", \"say\", \"say\", \"say\", \"say\", \"say\", \"school\", \"school\", \"school\", \"school\", \"school\", \"school\", \"school\", \"school\", \"science\", \"score\", \"screen\", \"season\", \"season\", \"see\", \"see\", \"see\", \"see\", \"see\", \"see\", \"see\", \"see\", \"see\", \"semester\", \"send\", \"send\", \"send\", \"send\", \"send\", \"sense\", \"sense\", \"sense\", \"series\", \"session\", \"sex\", \"shirt\", \"shirt\", \"shit\", \"shit\", \"shit\", \"shit\", \"shit\", \"shit\", \"shit\", \"shock\", \"shop\", \"shop\", \"shop\", \"shop\", \"show\", \"show\", \"show\", \"show\", \"show\", \"show\", \"sir\", \"sis\", \"site\", \"skype\", \"sleep\", \"sleep\", \"sleep\", \"sleep\", \"sofa\", \"somehow\", \"someone\", \"someone\", \"someone\", \"someone\", \"someone\", \"someone\", \"someone\", \"song\", \"song\", \"sooo\", \"spa\", \"speak\", \"speak\", \"speak\", \"speak\", \"speech\", \"star\", \"start\", \"start\", \"start\", \"start\", \"start\", \"start\", \"start\", \"start\", \"station\", \"station\", \"stay\", \"stay\", \"stay\", \"stay\", \"sth\", \"sth\", \"sth\", \"stock\", \"stop\", \"stop\", \"stop\", \"stop\", \"stop\", \"stop\", \"stop\", \"stop\", \"story\", \"story\", \"story\", \"stress\", \"studio\", \"stuff\", \"stuff\", \"stuff\", \"stuff\", \"stuff\", \"stuff\", \"stuff\", \"stuff\", \"style\", \"style\", \"submit\", \"subway\", \"suffer\", \"sugar\", \"sunday\", \"supermarket\", \"supermarket\", \"sweater\", \"sweet\", \"sweetheart\", \"sweetie\", \"system\", \"system\", \"system\", \"take\", \"take\", \"take\", \"take\", \"take\", \"take\", \"take\", \"talk\", \"talk\", \"talk\", \"talk\", \"talk\", \"talk\", \"tape\", \"task\", \"taxi\", \"teach\", \"teacher\", \"teacher\", \"teacher\", \"teacher\", \"teacher\", \"team\", \"team\", \"team\", \"team\", \"team\", \"tell\", \"tell\", \"tell\", \"tell\", \"tell\", \"tell\", \"tell\", \"tell\", \"test\", \"test\", \"thank\", \"thank\", \"thank\", \"thank\", \"thank\", \"thing\", \"thing\", \"thing\", \"thing\", \"thing\", \"thing\", \"thing\", \"thing\", \"thing\", \"think\", \"think\", \"think\", \"think\", \"think\", \"think\", \"think\", \"think\", \"tho\", \"tho\", \"thx\", \"thx\", \"thx\", \"ticket\", \"ticket\", \"ticket\", \"tonight\", \"tonight\", \"touch\", \"touch\", \"touch\", \"town\", \"town\", \"town\", \"traffic\", \"trailer\", \"train\", \"train\", \"train\", \"transfer\", \"translation\", \"transport\", \"trip\", \"trip\", \"trip\", \"trip\", \"trump\", \"try\", \"try\", \"try\", \"try\", \"try\", \"try\", \"try\", \"try\", \"turn\", \"turn\", \"turn\", \"turn\", \"twitter\", \"u\", \"u\", \"u\", \"u\", \"uk\", \"uncle\", \"uncle\", \"update\", \"upload\", \"ur\", \"vacation\", \"vacation\", \"version\", \"vet\", \"vote\", \"wait\", \"wait\", \"wait\", \"wait\", \"wait\", \"wait\", \"wait\", \"wait\", \"wait\", \"wallet\", \"wan\", \"wan\", \"wan\", \"wan\", \"wan\", \"want\", \"want\", \"want\", \"want\", \"want\", \"war\", \"warsaw\", \"watch\", \"watch\", \"water\", \"water\", \"water\", \"wave\", \"way\", \"way\", \"way\", \"way\", \"way\", \"way\", \"way\", \"way\", \"wear\", \"weather\", \"website\", \"weekend\", \"weekend\", \"weight\", \"weird\", \"win\", \"win\", \"win\", \"wind\", \"wine\", \"wine\", \"wise\", \"work\", \"work\", \"work\", \"work\", \"work\", \"work\", \"work\", \"work\", \"workshop\", \"world\", \"world\", \"world\", \"world\", \"world\", \"world\", \"world\", \"wow\", \"wow\", \"wow\", \"wow\", \"wow\", \"wow\", \"wow\", \"wow\", \"write\", \"write\", \"write\", \"xd\", \"xd\", \"xmas\", \"ya\", \"ya\", \"ya\", \"ya\", \"ye\", \"ye\", \"year\", \"year\", \"year\", \"year\", \"year\", \"year\", \"year\", \"year\", \"yes\", \"yes\", \"yes\", \"yes\", \"yes\", \"yes\", \"yes\", \"yes\", \"yesterday\", \"yesterday\", \"yesterday\", \"yesterday\", \"yesterday\", \"yesterday\", \"yesterday\", \"yesterday\", \"yesterday\", \"youre\"]}, \"R\": 30, \"lambda.step\": 0.01, \"plot.opts\": {\"xlab\": \"PC1\", \"ylab\": \"PC2\"}, \"topic.order\": [1, 2, 3, 4, 5, 6, 7, 8, 9, 10]};\n\nfunction LDAvis_load_lib(url, callback){\n  var s = document.createElement('script');\n  s.src = url;\n  s.async = true;\n  s.onreadystatechange = s.onload = callback;\n  s.onerror = function(){console.warn(\"failed to load library \" + url);};\n  document.getElementsByTagName(\"head\")[0].appendChild(s);\n}\n\nif(typeof(LDAvis) !== \"undefined\"){\n   // already loaded: just create the visualization\n   !function(LDAvis){\n       new LDAvis(\"#\" + \"ldavis_el21407675328646431581945\", ldavis_el21407675328646431581945_data);\n   }(LDAvis);\n}else if(typeof define === \"function\" && define.amd){\n   // require.js is available: use it to load d3/LDAvis\n   require.config({paths: {d3: \"https://d3js.org/d3.v5\"}});\n   require([\"d3\"], function(d3){\n      window.d3 = d3;\n      LDAvis_load_lib(\"https://cdn.jsdelivr.net/gh/bmabey/pyLDAvis@3.2.2/pyLDAvis/js/ldavis.v3.0.0.js\", function(){\n        new LDAvis(\"#\" + \"ldavis_el21407675328646431581945\", ldavis_el21407675328646431581945_data);\n      });\n    });\n}else{\n    // require.js not available: dynamically load d3 & LDAvis\n    LDAvis_load_lib(\"https://d3js.org/d3.v5.js\", function(){\n         LDAvis_load_lib(\"https://cdn.jsdelivr.net/gh/bmabey/pyLDAvis@3.2.2/pyLDAvis/js/ldavis.v3.0.0.js\", function(){\n                 new LDAvis(\"#\" + \"ldavis_el21407675328646431581945\", ldavis_el21407675328646431581945_data);\n            })\n         });\n}\n</script>"
     },
     "metadata": {},
     "execution_count": 378
    }
   ],
   "source": [
    "lda_display = pyLDAvis.gensim.prepare(model5, corpus5, dictionary5, sort_topics=False)\n",
    "pyLDAvis.display(lda_display)"
   ]
  },
  {
   "cell_type": "code",
   "execution_count": 358,
   "metadata": {},
   "outputs": [
    {
     "output_type": "stream",
     "name": "stderr",
     "text": [
      "C:\\Users\\surya\\AppData\\Local\\Programs\\Python\\Python38-32\\lib\\site-packages\\ipykernel\\ipkernel.py:283: DeprecationWarning: `should_run_async` will not call `transform_cell` automatically in the future. Please pass the result to `transformed_cell` argument and any exception that happen during thetransform in `preprocessing_exc_tuple` in IPython 7.17 and above.\n",
      "  and should_run_async(code)\n",
      "[(0, 0.05000786), (1, 0.050014935), (2, 0.05000786), (3, 0.05000786), (4, 0.05000786), (5, 0.05000786), (6, 0.050014008), (7, 0.05000786), (8, 0.549916), (9, 0.05000786)]\n",
      "0  ************************************\n",
      "bring \n",
      "******************************************\n",
      "[(0, 0.05000556), (1, 0.54995), (2, 0.05000556), (3, 0.05000556), (4, 0.05000556), (5, 0.05000556), (6, 0.05000556), (7, 0.05000556), (8, 0.05000556), (9, 0.05000556)]\n",
      "1  ************************************\n",
      "election \n",
      "******************************************\n",
      "[(0, 0.38265514), (4, 0.3237189), (6, 0.09068442), (9, 0.16547383)]\n",
      "2  ************************************\n",
      "ass eat everything fridge kaban mood plan pomodoro post room stuff style tbh technique use \n",
      "******************************************\n",
      "[(0, 0.020015702), (1, 0.020015437), (2, 0.020016346), (3, 0.02001545), (4, 0.3923126), (5, 0.24979666), (6, 0.020024372), (7, 0.2177721), (8, 0.020015446), (9, 0.020015856)]\n",
      "3  ************************************\n",
      "bella door fu ove rachel \n",
      "******************************************\n",
      "[(1, 0.57663274), (5, 0.13675417), (7, 0.12476313), (8, 0.115788355)]\n",
      "4  ************************************\n",
      "air choice confrontation damn future kind live man phone place rommate roommate sam someone \n",
      "******************************************\n",
      "[(1, 0.53116506), (4, 0.103558764), (5, 0.08664846), (8, 0.11437649), (9, 0.12851359)]\n",
      "5  ************************************\n",
      "someone anyone date hang lot mad september suspicion tina trouble vacation wife year \n",
      "******************************************\n",
      "[(0, 0.28154656), (1, 0.04572089), (3, 0.26958376), (5, 0.07707195), (7, 0.3067535)]\n",
      "6  ************************************\n",
      "everything ave bar beer boss chapter chief course even ex help home homework monday money page problem support teacher text vocabulary worry \n",
      "******************************************\n",
      "[(0, 0.06482643), (1, 0.07584913), (3, 0.14146389), (4, 0.68620336)]\n",
      "7  ************************************\n",
      "kind home activity actvity brain compilation everytime music partner playlist song work youtube \n",
      "******************************************\n",
      "[(0, 0.012504419), (1, 0.17427738), (2, 0.012503191), (3, 0.012504746), (4, 0.012503916), (5, 0.012504587), (6, 0.7256911), (7, 0.01250308), (8, 0.012503658), (9, 0.012503897)]\n",
      "8  ************************************\n",
      "boss cock job quit story think way \n",
      "******************************************\n",
      "[(2, 0.20070712), (4, 0.51492107), (6, 0.225967)]\n",
      "9  ************************************\n",
      "kind date problem way kazimierz pm question restaurant saturday wow \n",
      "******************************************\n",
      "[(0, 0.13490924), (1, 0.21091802), (2, 0.33861923), (3, 0.010003705), (4, 0.010004337), (5, 0.25552914), (6, 0.010004548), (7, 0.010004103), (8, 0.0100044245), (9, 0.010003231)]\n",
      "10  ************************************\n",
      "pm co day death news see success tonight whoa \n",
      "******************************************\n",
      "[(0, 0.36660928), (1, 0.03333594), (2, 0.03333594), (3, 0.03333594), (4, 0.03333594), (5, 0.033342548), (6, 0.033343673), (7, 0.36668885), (8, 0.03333594), (9, 0.03333594)]\n",
      "11  ************************************\n",
      "number send \n",
      "******************************************\n",
      "[(0, 0.033346366), (1, 0.033339307), (2, 0.69993985), (3, 0.033333953), (4, 0.03334532), (5, 0.033338755), (6, 0.033339538), (7, 0.033341914), (8, 0.033340305), (9, 0.033334702)]\n",
      "12  ************************************\n",
      "everything station \n",
      "******************************************\n",
      "[(0, 0.06330068), (1, 0.5474802), (6, 0.35235226)]\n",
      "13  ************************************\n",
      "man job address company email friend life manager mate noon offer paycheck project reach resume screenshot thing \n",
      "******************************************\n",
      "[(4, 0.101042725), (7, 0.8320239)]\n",
      "14  ************************************\n",
      "day anybody challenge glad gosh ice iceland need reykjavik rush sound \n",
      "******************************************\n",
      "[(0, 0.12095922), (1, 0.31368354), (2, 0.33473173), (4, 0.1973031)]\n",
      "15  ************************************\n",
      "life thing assure christmas come department everybody fun glass heart jimmy office party sobriety traitor woman xd yesterday \n",
      "******************************************\n",
      "[(0, 0.012501439), (1, 0.38934034), (2, 0.0125011755), (3, 0.012500691), (4, 0.012501076), (5, 0.01250091), (6, 0.012501107), (7, 0.5106516), (8, 0.012500833), (9, 0.012500832)]\n",
      "16  ************************************\n",
      "lot course money news account bank cuz \n",
      "******************************************\n",
      "[(0, 0.1280463), (2, 0.11922304), (5, 0.4026235), (6, 0.29549897)]\n",
      "17  ************************************\n",
      "thing good hangover night ring uhh walk wine \n",
      "******************************************\n",
      "[(0, 0.020009104), (1, 0.0200091), (2, 0.02000825), (3, 0.020003503), (4, 0.02000301), (5, 0.27588153), (6, 0.020003106), (7, 0.2407167), (8, 0.34336028), (9, 0.020005407)]\n",
      "18  ************************************\n",
      "tonight chocolate grandma idea \n",
      "******************************************\n",
      "[(0, 0.020009313), (1, 0.020001346), (2, 0.81997687), (3, 0.020000279), (4, 0.020003704), (5, 0.020000516), (6, 0.02000491), (7, 0.020000966), (8, 0.02000048), (9, 0.020001596)]\n",
      "19  ************************************\n",
      "home work call wait \n",
      "******************************************\n",
      "[(3, 0.04198097), (4, 0.17148264), (5, 0.06729059), (7, 0.6326389), (8, 0.06478732)]\n",
      "20  ************************************\n",
      "someone lot life thing wait action begin book coelho crime cute erm fan gibberish novel okay one wisdom \n",
      "******************************************\n",
      "[(0, 0.21549627), (1, 0.14466368), (4, 0.49956307), (5, 0.10276218)]\n",
      "21  ************************************\n",
      "everything man lot glad business charlie crush family god love oh roy school soul world \n",
      "******************************************\n",
      "[(0, 0.34236446), (1, 0.033339594), (2, 0.03334148), (3, 0.033334956), (4, 0.03333507), (5, 0.033334956), (6, 0.033340257), (7, 0.03334444), (8, 0.033339452), (9, 0.39092535)]\n",
      "22  ************************************\n",
      "home minute \n",
      "******************************************\n",
      "[(1, 0.12882921), (4, 0.1626154), (6, 0.3799614), (7, 0.05955911), (9, 0.25117722)]\n",
      "23  ************************************\n",
      "everything kind course work job think wow day walk cute love oh arthritis hope layla morning pic sort spot surgery vet \n",
      "******************************************\n",
      "[(0, 0.020003144), (1, 0.02000165), (2, 0.020010734), (3, 0.020000985), (4, 0.02000167), (5, 0.020002428), (6, 0.81997204), (7, 0.020003002), (8, 0.020002106), (9, 0.02000217)]\n",
      "24  ************************************\n",
      "problem see bite seat \n",
      "******************************************\n",
      "[(0, 0.010009141), (1, 0.010005417), (2, 0.010005263), (3, 0.010005286), (4, 0.90993786), (5, 0.010005384), (6, 0.0100081675), (7, 0.010008005), (8, 0.0100078955), (9, 0.010007528)]\n",
      "25  ************************************\n",
      "man assessment board football hopeless manutd quality season team \n",
      "******************************************\n",
      "[(0, 0.47532892), (1, 0.025001146), (2, 0.32464486), (3, 0.025000483), (4, 0.025000516), (5, 0.025001341), (6, 0.02500402), (7, 0.025000663), (8, 0.025005305), (9, 0.025012745)]\n",
      "26  ************************************\n",
      "home xd trip \n",
      "******************************************\n",
      "[(0, 0.025012312), (1, 0.025015542), (2, 0.025011245), (3, 0.025007099), (4, 0.025003854), (5, 0.025007676), (6, 0.774916), (7, 0.02501756), (8, 0.02500364), (9, 0.025005113)]\n",
      "27  ************************************\n",
      "course problem mind \n",
      "******************************************\n",
      "[(0, 0.23132351), (2, 0.11816328), (3, 0.087549135), (4, 0.0976783), (5, 0.19791175), (7, 0.13993302), (8, 0.102432415)]\n",
      "28  ************************************\n",
      "course problem anybody book alice amaze corner count midnight table \n",
      "******************************************\n",
      "[(0, 0.7928509), (3, 0.14999647)]\n",
      "29  ************************************\n",
      "home homework thing dad microwave try ya \n",
      "******************************************\n",
      "[(1, 0.071465135), (4, 0.08997188), (5, 0.19474922), (6, 0.40025842), (7, 0.06285686), (8, 0.17069584)]\n",
      "30  ************************************\n",
      "post man place sam someone suspicion help manager yesterday hope alert app area bike blah custom fb go grade lock luck mine month overlook privacy ray security share shit smeone street thx \n",
      "******************************************\n",
      "[(3, 0.09088672), (7, 0.23944287), (9, 0.6158087)]\n",
      "31  ************************************\n",
      "lot year money way luck chance gon june pass yea \n",
      "******************************************\n",
      "[(0, 0.025011513), (1, 0.27509427), (2, 0.52481353), (3, 0.025011513), (4, 0.025011566), (5, 0.025011513), (6, 0.025011513), (7, 0.025011513), (8, 0.025011513), (9, 0.025011513)]\n",
      "32  ************************************\n",
      "uhh coffee pay \n",
      "******************************************\n",
      "[(2, 0.30982742), (5, 0.30547762), (6, 0.32633886)]\n",
      "33  ************************************\n",
      "course thing god chance chill dinner dress mark picture rest thank \n",
      "******************************************\n",
      "[(0, 0.106410116), (3, 0.07814177), (4, 0.3328865), (6, 0.28589976), (9, 0.160931)]\n",
      "34  ************************************\n",
      "man place date work news night book case freelance middle reunion scenario weekend \n",
      "******************************************\n",
      "[(1, 0.22288845), (2, 0.36637112), (4, 0.22223693), (7, 0.15846197)]\n",
      "35  ************************************\n",
      "someone teacher world bite arm child e europe g hand harassment hehe law pedophilia person safer sign \n",
      "******************************************\n",
      "[(1, 0.22493838), (6, 0.7217188)]\n",
      "36  ************************************\n",
      "everything job day beauty cut dear detail friday hair matter salon thursday \n",
      "******************************************\n",
      "[(0, 0.2036002), (1, 0.3302472), (5, 0.41233486)]\n",
      "37  ************************************\n",
      "help problem job bite cv favor gabriella grammar hour jasmine look spell \n",
      "******************************************\n",
      "[(0, 0.24183117), (2, 0.46057573), (5, 0.1560967), (7, 0.10153893)]\n",
      "38  ************************************\n",
      "course day okay btw embarrassment furthermore galitos harm invitation lady piece pizza saw town \n",
      "******************************************\n",
      "[(0, 0.15721157), (2, 0.2134931), (4, 0.47054803), (6, 0.12528785)]\n",
      "39  ************************************\n",
      "room live home way wow office yesterday one morning agent apartment greg kitchen size sqm \n",
      "******************************************\n",
      "[(0, 0.102682285), (1, 0.23279025), (3, 0.055504512), (4, 0.35318694), (5, 0.11061491), (6, 0.12616362)]\n",
      "40  ************************************\n",
      "everything damn someone job gon june cat correction deadline jill kitty march online shop somebody texts window \n",
      "******************************************\n",
      "[(1, 0.14784035), (4, 0.08312981), (5, 0.5330717), (7, 0.20596719)]\n",
      "41  ************************************\n",
      "bar beer music tonight thing fun night cubism exhibition food list museum paint pot reason top treat \n",
      "******************************************\n",
      "[(0, 0.016656527), (1, 0.19274186), (2, 0.016650513), (3, 0.016654667), (4, 0.016650755), (5, 0.016650483), (6, 0.016651304), (7, 0.47131366), (8, 0.016651394), (9, 0.21937881)]\n",
      "42  ************************************\n",
      "help saw argument blackett hesitate misunderstand \n",
      "******************************************\n",
      "[(0, 0.07690448), (1, 0.11395532), (2, 0.40807074), (5, 0.03937198), (6, 0.34555313)]\n",
      "43  ************************************\n",
      "air problem day company yesterday sort trip mine street coffee matter town answer car chap deed depression drive get impression landline lecture loss meal mean passant pub sadness traffic william \n",
      "******************************************\n",
      "[(1, 0.1788108), (2, 0.32030797), (5, 0.20869882), (6, 0.08115989), (8, 0.078414336), (9, 0.1151955)]\n",
      "44  ************************************\n",
      "room use help work wow need idea chance hand person bull color compliment express eye feel grey greyness hmm perfection personality research \n",
      "******************************************\n",
      "[(0, 0.011155131), (1, 0.011155264), (2, 0.011155165), (3, 0.0111550465), (4, 0.0111550465), (5, 0.011157747), (6, 0.011155222), (7, 0.8996004), (8, 0.011155307), (9, 0.011155685)]\n",
      "45  ************************************\n",
      "minute month acid cancer doctor gastritis stomach \n",
      "******************************************\n",
      "[(0, 0.014244948), (1, 0.014233236), (2, 0.29310974), (3, 0.014232639), (4, 0.45029038), (5, 0.014232656), (6, 0.014236043), (7, 0.15695333), (8, 0.014233602), (9, 0.014233424)]\n",
      "46  ************************************\n",
      "date home baby cash huh ill jsut raincheck \n",
      "******************************************\n",
      "[(0, 0.48483524), (1, 0.01667152), (2, 0.016673716), (3, 0.01667191), (4, 0.016670272), (5, 0.016670045), (6, 0.01667125), (7, 0.38179427), (8, 0.016672604), (9, 0.01666921)]\n",
      "47  ************************************\n",
      "stuff anyone school mum stalker \n",
      "******************************************\n",
      "[(0, 0.02000272), (1, 0.020002883), (2, 0.02000195), (3, 0.020002883), (4, 0.819977), (5, 0.02000195), (6, 0.020003453), (7, 0.020002453), (8, 0.02000195), (9, 0.020002753)]\n",
      "48  ************************************\n",
      "get ankle bless xxx \n",
      "******************************************\n",
      "[(0, 0.30660936), (2, 0.23996267), (4, 0.17763084), (7, 0.18014583), (8, 0.07643874)]\n",
      "49  ************************************\n",
      "stuff choice lot money xd oh sort yea shop food animal cool cream dog ehhm glamrock glamshop house husband shelter sth vaccination \n",
      "******************************************\n",
      "[(0, 0.020003717), (1, 0.48506898), (2, 0.020004692), (3, 0.020004688), (4, 0.020003606), (5, 0.020003902), (6, 0.020004285), (7, 0.35489753), (8, 0.020005003), (9, 0.020003606)]\n",
      "50  ************************************\n",
      "fb message messenger ta \n",
      "******************************************\n",
      "[(0, 0.0111142285), (1, 0.011114334), (2, 0.6777389), (3, 0.0111142), (4, 0.011114465), (5, 0.011114375), (6, 0.0111141885), (7, 0.011114222), (8, 0.23334333), (9, 0.01111774)]\n",
      "51  ************************************\n",
      "even party yesterday architect bday madness name type \n",
      "******************************************\n",
      "[(0, 0.033358403), (1, 0.033358403), (2, 0.36693886), (3, 0.033358403), (4, 0.36619392), (5, 0.033358403), (6, 0.033358403), (7, 0.033358403), (8, 0.033358403), (9, 0.033358403)]\n",
      "52  ************************************\n",
      "intention meet \n",
      "******************************************\n",
      "[(0, 0.5598357), (1, 0.15063716), (5, 0.2258773)]\n",
      "53  ************************************\n",
      "stuff kind place wow oh dress online shop customer \n",
      "******************************************\n",
      "[(0, 0.46365598), (1, 0.07728561), (7, 0.11741672), (9, 0.30413008)]\n",
      "54  ************************************\n",
      "september year christmas pass rest size care dream gift let link set skin surprise \n",
      "******************************************\n",
      "[(2, 0.7332611), (6, 0.109207645), (9, 0.09914437)]\n",
      "55  ************************************\n",
      "project yesterday check couple input jeff phase presentation react sec shoot \n",
      "******************************************\n",
      "[(0, 0.106118664), (1, 0.06769964), (2, 0.16583788), (3, 0.050688755), (4, 0.24755931), (6, 0.27048567), (8, 0.08087759)]\n",
      "56  ************************************\n",
      "year station email thank hour traffic afternoon bus com complaint control cracow delay info information marta radom reality situation status timetable \n",
      "******************************************\n",
      "[(0, 0.0124847805), (1, 0.012484746), (2, 0.20587829), (3, 0.01248414), (4, 0.15349379), (5, 0.01248435), (6, 0.55323696), (7, 0.012484196), (8, 0.012484346), (9, 0.012484396)]\n",
      "57  ************************************\n",
      "way pm bus hike km lighthouse track \n",
      "******************************************\n",
      "[(0, 0.33205527), (1, 0.012530869), (2, 0.3795825), (3, 0.012529025), (4, 0.012530813), (5, 0.012530595), (6, 0.012531781), (7, 0.012530592), (8, 0.012530599), (9, 0.20064798)]\n",
      "58  ************************************\n",
      "way bite table annette front sipke wtf \n",
      "******************************************\n",
      "[(0, 0.014256636), (1, 0.014252214), (2, 0.014257474), (3, 0.014251776), (4, 0.0142637445), (5, 0.014252764), (6, 0.014255268), (7, 0.55451214), (8, 0.33144435), (9, 0.014253616)]\n",
      "59  ************************************\n",
      "wait month name link channel havent nop \n",
      "******************************************\n",
      "[(0, 0.07850263), (5, 0.08504754), (9, 0.7926626)]\n",
      "60  ************************************\n",
      "year question anybody minute chance pass answer battle exam insane majority screen timer \n",
      "******************************************\n",
      "[(0, 0.32937866), (1, 0.20737596), (3, 0.08987025), (4, 0.0675068), (5, 0.2820373)]\n",
      "61  ************************************\n",
      "live work life world care attack bye creature discussion ego influence mother nobody reaction sake son topic \n",
      "******************************************\n",
      "[(0, 0.025001246), (1, 0.025001246), (2, 0.025007289), (3, 0.025001246), (4, 0.025003579), (5, 0.27502468), (6, 0.27497962), (7, 0.025002012), (8, 0.025001246), (9, 0.27497786)]\n",
      "62  ************************************\n",
      "dress friday summer \n",
      "******************************************\n",
      "[(5, 0.056197517), (6, 0.5952898), (8, 0.082471855), (9, 0.2399309)]\n",
      "63  ************************************\n",
      "door phone need xd pic bite picture hmmm photo robe shower towel u underwear \n",
      "******************************************\n",
      "[(0, 0.099999756), (1, 0.09999986), (2, 0.09999976), (3, 0.100000635), (4, 0.100000046), (5, 0.0999999), (6, 0.09999974), (7, 0.09999987), (8, 0.10000034), (9, 0.10000015)]\n",
      "64  ************************************\n",
      "sta \n",
      "******************************************\n",
      "[(0, 0.016675726), (1, 0.01667864), (2, 0.0166786), (3, 0.18330385), (4, 0.01667227), (5, 0.016673755), (6, 0.34988448), (7, 0.35007975), (8, 0.01668065), (9, 0.01667227)]\n",
      "65  ************************************\n",
      "afraid card credit sry st \n",
      "******************************************\n",
      "[(0, 0.22885577), (5, 0.19862995), (6, 0.23604529), (8, 0.28188726)]\n",
      "66  ************************************\n",
      "walk kitchen window house bin garbage girlfriend hahha trash \n",
      "******************************************\n",
      "[(0, 0.014289753), (1, 0.014289724), (2, 0.014290423), (3, 0.1689784), (4, 0.18085937), (5, 0.014288368), (6, 0.014289337), (7, 0.014288112), (8, 0.014288536), (9, 0.550138)]\n",
      "67  ************************************\n",
      "idea weekend hmm baby matthew \n",
      "******************************************\n",
      "[(0, 0.016670732), (1, 0.016670994), (2, 0.8499696), (3, 0.016667092), (4, 0.01666915), (5, 0.016668957), (6, 0.016670465), (7, 0.016670719), (8, 0.016671594), (9, 0.01667066)]\n",
      "68  ************************************\n",
      "lot yesterday call bite talk \n",
      "******************************************\n",
      "[(0, 0.020005338), (1, 0.020003125), (2, 0.02000123), (3, 0.020000456), (4, 0.020001499), (5, 0.6784941), (6, 0.02000097), (7, 0.020000748), (8, 0.020001937), (9, 0.16149057)]\n",
      "69  ************************************\n",
      "year night wine italy \n",
      "******************************************\n",
      "[(0, 0.03341954), (1, 0.033424776), (2, 0.03341954), (3, 0.3651052), (4, 0.03341954), (5, 0.03342398), (6, 0.3675288), (7, 0.03341954), (8, 0.03341954), (9, 0.03341954)]\n",
      "70  ************************************\n",
      "spot motherfucker \n",
      "******************************************\n",
      "[(0, 0.29117736), (1, 0.02000128), (2, 0.020003995), (3, 0.02000292), (4, 0.020003831), (5, 0.020000704), (6, 0.02000599), (7, 0.5487956), (8, 0.020002285), (9, 0.020006116)]\n",
      "71  ************************************\n",
      "help day gift card \n",
      "******************************************\n",
      "[(2, 0.19901821), (4, 0.72812575)]\n",
      "72  ************************************\n",
      "luck thank front anthem game privilege proud singer youre \n",
      "******************************************\n",
      "[(0, 0.37516606), (1, 0.29996288), (2, 0.014294223), (3, 0.014298363), (4, 0.014294714), (5, 0.014294223), (6, 0.0143000195), (7, 0.014294223), (8, 0.22480112), (9, 0.014294223)]\n",
      "73  ************************************\n",
      "christmas piece chloe dive equipment purpose \n",
      "******************************************\n",
      "[(0, 0.88743216), (1, 0.012505792), (2, 0.012505919), (3, 0.01250661), (4, 0.012506529), (5, 0.012505988), (6, 0.012508216), (7, 0.01251109), (8, 0.01250814), (9, 0.012509551)]\n",
      "74  ************************************\n",
      "style mind month thank design linen review \n",
      "******************************************\n",
      "[(0, 0.27481025), (1, 0.024920503), (2, 0.024920499), (3, 0.024920525), (4, 0.5258256), (5, 0.024920506), (6, 0.0249205), (7, 0.024920503), (8, 0.024920518), (9, 0.024920512)]\n",
      "75  ************************************\n",
      "chicken laura sweetie wil \n",
      "******************************************\n",
      "[(2, 0.07088799), (5, 0.43423626), (6, 0.26739874), (7, 0.12817527), (8, 0.07427223)]\n",
      "76  ************************************\n",
      "man music tonight mate heart xd love bruh chick fall joke respect rule video wan \n",
      "******************************************\n",
      "[(0, 0.41181856), (1, 0.016670508), (2, 0.016669108), (3, 0.016668642), (4, 0.016669905), (5, 0.01666945), (6, 0.016670344), (7, 0.01667277), (8, 0.4548215), (9, 0.016669257)]\n",
      "77  ************************************\n",
      "way top floor grind store \n",
      "******************************************\n",
      "[(0, 0.014258025), (1, 0.014258346), (2, 0.32381138), (3, 0.15720573), (4, 0.41916728), (5, 0.0142613), (6, 0.014258571), (7, 0.01425832), (8, 0.014259915), (9, 0.014261098)]\n",
      "78  ************************************\n",
      "homework xd luck gon hahahah um \n",
      "******************************************\n",
      "[(0, 0.18736178), (3, 0.04535299), (4, 0.5020135), (5, 0.24125502)]\n",
      "79  ************************************\n",
      "ass beer question christmas party wait gon hand kitchen care floor honey hun part paul redecoration se \n",
      "******************************************\n",
      "[(0, 0.6645829), (2, 0.21286698), (3, 0.028850352), (5, 0.04671492), (8, 0.035353035)]\n",
      "80  ************************************\n",
      "plan place work wow wait family bite season dinner case friday pizza meet bus review alto bet byeeee chat empanadas enough entrance hall hist journey line mall nicola ofc palermo play stage theatre war yer yugoslavia \n",
      "******************************************\n",
      "[(0, 0.22034696), (1, 0.020005088), (2, 0.020009683), (3, 0.020003436), (4, 0.020003427), (5, 0.02000453), (6, 0.02000342), (7, 0.2204189), (8, 0.020003568), (9, 0.41920102)]\n",
      "81  ************************************\n",
      "ben cloister harriet join library \n",
      "******************************************\n",
      "[(0, 0.025029201), (1, 0.025029201), (2, 0.025029201), (3, 0.025029201), (4, 0.02503901), (5, 0.025029201), (6, 0.025029466), (7, 0.025029201), (8, 0.46550158), (9, 0.33425468)]\n",
      "82  ************************************\n",
      "channel stu watch \n",
      "******************************************\n",
      "[(2, 0.81927335), (4, 0.13627109)]\n",
      "83  ************************************\n",
      "place wow xd idea yea weekend look btw cool jess kid schedule tho \n",
      "******************************************\n",
      "[(7, 0.21287286), (8, 0.1621695), (9, 0.5811819)]\n",
      "84  ************************************\n",
      "someone center cheap class comment community dirt hahah hahahaha tennis \n",
      "******************************************\n",
      "[(0, 0.010004206), (1, 0.010003515), (2, 0.3345472), (3, 0.010001357), (4, 0.010003619), (5, 0.010004554), (6, 0.010003332), (7, 0.010001985), (8, 0.5854252), (9, 0.010005074)]\n",
      "85  ************************************\n",
      "choice come trip mine weekend c drama mess mon \n",
      "******************************************\n",
      "[(0, 0.0333355), (1, 0.0333355), (2, 0.6999805), (3, 0.0333355), (4, 0.0333355), (5, 0.0333355), (6, 0.0333355), (7, 0.0333355), (8, 0.0333355), (9, 0.0333355)]\n",
      "86  ************************************\n",
      "meet sup \n",
      "******************************************\n",
      "[(6, 0.36229408), (7, 0.22921559), (9, 0.35461167)]\n",
      "87  ************************************\n",
      "kind someone number shit car check u arrow mechanic well \n",
      "******************************************\n",
      "[(2, 0.48503798), (7, 0.18861698), (9, 0.28948855)]\n",
      "88  ************************************\n",
      "everything place work project idea month gon rest weekend care talk advance moment point sleep yep \n",
      "******************************************\n",
      "[(9, 0.9470188)]\n",
      "89  ************************************\n",
      "help way yesterday pic picture summer cheesy dd emoji instagram lake nahh sun \n",
      "******************************************\n",
      "[(0, 0.025005352), (1, 0.025005352), (2, 0.27498513), (3, 0.025005352), (4, 0.025005352), (5, 0.025007656), (6, 0.02501024), (7, 0.27496457), (8, 0.27500567), (9, 0.025005352)]\n",
      "90  ************************************\n",
      "st monica ride \n",
      "******************************************\n",
      "[(0, 0.050002117), (1, 0.050006013), (2, 0.050002117), (3, 0.050002117), (4, 0.050002117), (5, 0.050002117), (6, 0.54996514), (7, 0.050013993), (8, 0.050002117), (9, 0.050002117)]\n",
      "91  ************************************\n",
      "drive \n",
      "******************************************\n",
      "[(0, 0.014357909), (1, 0.014356429), (2, 0.014362132), (3, 0.014356584), (4, 0.014356531), (5, 0.4619622), (6, 0.19202863), (7, 0.014356448), (8, 0.24550311), (9, 0.014360034)]\n",
      "92  ************************************\n",
      "xd look window ofc idol snowman \n",
      "******************************************\n",
      "[(0, 0.050006706), (1, 0.5499368), (2, 0.050008163), (3, 0.050000418), (4, 0.05000618), (5, 0.05000144), (6, 0.050010372), (7, 0.05000602), (8, 0.050017335), (9, 0.05000658)]\n",
      "93  ************************************\n",
      "thing \n",
      "******************************************\n",
      "[(0, 0.012507208), (1, 0.012506542), (2, 0.39003327), (3, 0.012506717), (4, 0.0125066545), (5, 0.18234421), (6, 0.012507758), (7, 0.012507045), (8, 0.1375032), (9, 0.21507739)]\n",
      "94  ************************************\n",
      "okay look fall coat lunch wool \n",
      "******************************************\n",
      "[(0, 0.016672147), (1, 0.3972608), (2, 0.016670307), (3, 0.016671399), (4, 0.016674131), (5, 0.016669502), (6, 0.016673125), (7, 0.2008378), (8, 0.28519556), (9, 0.016675234)]\n",
      "95  ************************************\n",
      "list set couple gig profile \n",
      "******************************************\n",
      "[(5, 0.93057996)]\n",
      "96  ************************************\n",
      "everything glad street europe food extend island rhode right state york \n",
      "******************************************\n",
      "[(0, 0.21976127), (1, 0.020011963), (2, 0.4513554), (3, 0.020010538), (4, 0.020014733), (5, 0.020011341), (6, 0.18880017), (7, 0.020009523), (8, 0.020011177), (9, 0.020013837)]\n",
      "97  ************************************\n",
      "man yea lucas max \n",
      "******************************************\n",
      "[(0, 0.02501186), (1, 0.025006015), (2, 0.0250068), (3, 0.025000554), (4, 0.025011128), (5, 0.02500545), (6, 0.77493936), (7, 0.0250097), (8, 0.025007028), (9, 0.025002154)]\n",
      "98  ************************************\n",
      "everything photo \n",
      "******************************************\n",
      "[(0, 0.011116456), (1, 0.011118577), (2, 0.011116729), (3, 0.2333512), (4, 0.2171991), (5, 0.12624554), (6, 0.011115669), (7, 0.011118328), (8, 0.011115447), (9, 0.35650292)]\n",
      "99  ************************************\n",
      "wait game cooler episode poland sunshine weather winter \n",
      "******************************************\n"
     ]
    }
   ],
   "source": [
    "ids = dictionary5.id2token\n",
    "\n",
    "def printword(k):\n",
    "    for i , j in corpus5[k]:\n",
    "        print(ids[i],end = ' ')\n",
    "\n",
    "for i in range(100):\n",
    "    print(model5[corpus5[i]])\n",
    "    print(f\"{i}  ************************************\")\n",
    "    printword(i)\n",
    "    print(\"\\n******************************************\")"
   ]
  },
  {
   "cell_type": "code",
   "execution_count": 371,
   "metadata": {},
   "outputs": [
    {
     "output_type": "stream",
     "name": "stderr",
     "text": [
      "C:\\Users\\surya\\AppData\\Local\\Programs\\Python\\Python38-32\\lib\\site-packages\\ipykernel\\ipkernel.py:283: DeprecationWarning: `should_run_async` will not call `transform_cell` automatically in the future. Please pass the result to `transformed_cell` argument and any exception that happen during thetransform in `preprocessing_exc_tuple` in IPython 7.17 and above.\n  and should_run_async(code)\n"
     ]
    },
    {
     "output_type": "execute_result",
     "data": {
      "text/plain": [
       "'  hey guys  i don t know if you heard but someone stole my bike yesterday so i m going to post it on fb and would appreciate if you share  thx   shit  man  sorry to hear  i will share for sure   when was it  ray  i had mine stolen last month around when i parked around on the  th street   mine was there too    cops said it s a common area for it to happen but i still havent lost hope      did they check the security cameras around the place  maybe mariott people saw someone    apparently they don t overlook that area       yeah  cops were completely useless too  i ended up going to mariott on my own and asking people but they didn t see anything  i emailed their manager if they could look at the tapes but because of privacy issues blah blah blah it was a no go    good luck man    i mean those guys are pros    i had high grade lock on mine and an app alert and it didn t do shit  now i m out few grand and pissed off   i would be too  did you post posters in the area  it s a busy street so maybe someone saw something   yeah  i m getting around to it now and i really hope that smeone was sober enough to notice anything  i mean it s a custom bike so i hope if they try to get rid of it it will rise suspicion   i think it might ve already been turned into parts and shipped off  even if you wanted to keep it and painted it  you could still recognize it   i know  that s why i wanna reach as many people as posible maybe they ll get spooked and leave it somewhere   let us know if you need someone to go dumpster diving with    heh  thx sam  i appreciate all help'"
      ]
     },
     "metadata": {},
     "execution_count": 371
    }
   ],
   "source": [
    "dia.data[30]"
   ]
  },
  {
   "cell_type": "code",
   "execution_count": 365,
   "metadata": {},
   "outputs": [
    {
     "output_type": "stream",
     "name": "stderr",
     "text": [
      "C:\\Users\\surya\\AppData\\Local\\Programs\\Python\\Python38-32\\lib\\site-packages\\ipykernel\\ipkernel.py:283: DeprecationWarning: `should_run_async` will not call `transform_cell` automatically in the future. Please pass the result to `transformed_cell` argument and any exception that happen during thetransform in `preprocessing_exc_tuple` in IPython 7.17 and above.\n  and should_run_async(code)\n"
     ]
    }
   ],
   "source": [
    "querytext = pd.Series([\"hey, did you prepared for the exam yes i already revised it two times.\"])\n",
    "queryobj = transformdialogue(querytext)"
   ]
  },
  {
   "cell_type": "code",
   "execution_count": 367,
   "metadata": {},
   "outputs": [
    {
     "output_type": "stream",
     "name": "stderr",
     "text": [
      "C:\\Users\\surya\\AppData\\Local\\Programs\\Python\\Python38-32\\lib\\site-packages\\ipykernel\\ipkernel.py:283: DeprecationWarning: `should_run_async` will not call `transform_cell` automatically in the future. Please pass the result to `transformed_cell` argument and any exception that happen during thetransform in `preprocessing_exc_tuple` in IPython 7.17 and above.\n  and should_run_async(code)\n"
     ]
    }
   ],
   "source": [
    "query = dictionary5.doc2bow(queryobj.tokens[0])\n",
    "dic"
   ]
  },
  {
   "cell_type": "code",
   "execution_count": 374,
   "metadata": {},
   "outputs": [
    {
     "output_type": "stream",
     "name": "stderr",
     "text": [
      "C:\\Users\\surya\\AppData\\Local\\Programs\\Python\\Python38-32\\lib\\site-packages\\ipykernel\\ipkernel.py:283: DeprecationWarning: `should_run_async` will not call `transform_cell` automatically in the future. Please pass the result to `transformed_cell` argument and any exception that happen during thetransform in `preprocessing_exc_tuple` in IPython 7.17 and above.\n  and should_run_async(code)\n"
     ]
    },
    {
     "output_type": "execute_result",
     "data": {
      "text/plain": [
       "'yes'"
      ]
     },
     "metadata": {},
     "execution_count": 374
    }
   ],
   "source": [
    "dictionary5.id2token[733]"
   ]
  },
  {
   "cell_type": "code",
   "execution_count": 368,
   "metadata": {},
   "outputs": [
    {
     "output_type": "stream",
     "name": "stderr",
     "text": [
      "C:\\Users\\surya\\AppData\\Local\\Programs\\Python\\Python38-32\\lib\\site-packages\\ipykernel\\ipkernel.py:283: DeprecationWarning: `should_run_async` will not call `transform_cell` automatically in the future. Please pass the result to `transformed_cell` argument and any exception that happen during thetransform in `preprocessing_exc_tuple` in IPython 7.17 and above.\n  and should_run_async(code)\n"
     ]
    },
    {
     "output_type": "execute_result",
     "data": {
      "text/plain": [
       "[(0, 0.050001692),\n",
       " (1, 0.05000678),\n",
       " (2, 0.050007258),\n",
       " (3, 0.050013784),\n",
       " (4, 0.0500015),\n",
       " (5, 0.050009802),\n",
       " (6, 0.54990983),\n",
       " (7, 0.05001485),\n",
       " (8, 0.05001941),\n",
       " (9, 0.050015092)]"
      ]
     },
     "metadata": {},
     "execution_count": 368
    }
   ],
   "source": [
    "model5[query]"
   ]
  },
  {
   "cell_type": "code",
   "execution_count": 372,
   "metadata": {},
   "outputs": [
    {
     "output_type": "stream",
     "name": "stderr",
     "text": [
      "C:\\Users\\surya\\AppData\\Local\\Programs\\Python\\Python38-32\\lib\\site-packages\\ipykernel\\ipkernel.py:283: DeprecationWarning: `should_run_async` will not call `transform_cell` automatically in the future. Please pass the result to `transformed_cell` argument and any exception that happen during thetransform in `preprocessing_exc_tuple` in IPython 7.17 and above.\n  and should_run_async(code)\n"
     ]
    },
    {
     "output_type": "execute_result",
     "data": {
      "text/plain": [
       "[(733, 1)]"
      ]
     },
     "metadata": {},
     "execution_count": 372
    }
   ],
   "source": [
    "query"
   ]
  },
  {
   "cell_type": "code",
   "execution_count": null,
   "metadata": {},
   "outputs": [],
   "source": []
  }
 ]
}